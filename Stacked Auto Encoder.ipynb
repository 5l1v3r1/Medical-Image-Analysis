{
 "cells": [
  {
   "cell_type": "code",
   "execution_count": 1,
   "metadata": {
    "collapsed": true
   },
   "outputs": [
    {
     "name": "stderr",
     "output_type": "stream",
     "text": [
      "Using TensorFlow backend.\n",
      "/Users/sharonedayan/tensorflow/lib/python3.5/site-packages/dicom/__init__.py:53: UserWarning: \n",
      "This code is using an older version of pydicom, which is no longer \n",
      "maintained as of Jan 2017.  You can access the new pydicom features and API \n",
      "by installing `pydicom` from PyPI.\n",
      "See 'Transitioning to pydicom 1.x' section at pydicom.readthedocs.org \n",
      "for more information.\n",
      "\n",
      "  warnings.warn(msg)\n"
     ]
    }
   ],
   "source": [
    "import keras\n",
    "from keras.preprocessing.image import ImageDataGenerator\n",
    "from keras.models import Model,Sequential\n",
    "from keras.layers import Input,Dense, Dropout, Activation, Flatten, Reshape\n",
    "from keras.layers import Conv2D, MaxPooling2D, AveragePooling2D\n",
    "from keras.layers.pooling import GlobalAveragePooling2D\n",
    "from keras.layers import Embedding\n",
    "from keras import regularizers\n",
    "from keras.losses import mean_squared_error\n",
    "import glob\n",
    "import matplotlib.patches as patches\n",
    "import json\n",
    "import numpy as np\n",
    "from matplotlib.path import Path\n",
    "import dicom\n",
    "import cv2\n",
    "import matplotlib.pyplot as plt\n",
    "%matplotlib inline"
   ]
  },
  {
   "cell_type": "markdown",
   "metadata": {},
   "source": [
    "## Open DataSet"
   ]
  },
  {
   "cell_type": "code",
   "execution_count": 2,
   "metadata": {
    "collapsed": true
   },
   "outputs": [],
   "source": [
    "case = 'SC-HF-NI-36'\n",
    "\n",
    "series = json.load(open('series_case.json')) \n",
    "image_path_base = './Data/challenge_training/%s/IM-%s' % (case, series[case])\n",
    "contour_path_base = './Data/Sunnybrook Cardiac MR Database ContoursPart3/\\\n",
    "TrainingDataContours/%s/contours-manual/IRCCI-expert/' % case\n",
    "contours_list = glob.glob(contour_path_base + '*')\n",
    "contours_list_series = [k.split('/')[7].split('-')[2] for k in contours_list]"
   ]
  },
  {
   "cell_type": "code",
   "execution_count": 3,
   "metadata": {
    "collapsed": true
   },
   "outputs": [],
   "source": [
    "def get_roi(image, contour):\n",
    "    X_min, Y_min = contour[:,0].min(), contour[:,1].min()\n",
    "    X_max, Y_max = contour[:,0].max(), contour[:,1].max()  \n",
    "    w = X_max - X_min\n",
    "    h = Y_max - Y_min\n",
    "    mask_roi = np.zeros(image.shape)\n",
    "    if w > h :\n",
    "        mask_roi[int(Y_min - (w -h)/2):int(Y_max + (w -h)/2), int(X_min):int(X_max)] = 1.0\n",
    "    else :\n",
    "        mask_roi[int(Y_min):int(Y_max), int(X_min - (h-w)/2):int(X_max + (h -w)/2)] = 1.0\n",
    "    return cv2.resize(mask_roi, (32, 32), interpolation = cv2.INTER_NEAREST)"
   ]
  },
  {
   "cell_type": "code",
   "execution_count": 194,
   "metadata": {
    "collapsed": false
   },
   "outputs": [
    {
     "name": "stdout",
     "output_type": "stream",
     "text": [
      "Dataset shape : (495, 64, 64, 1) (495, 1, 32, 32)\n"
     ]
    }
   ],
   "source": [
    "series = json.load(open('series_case.json')) \n",
    "images, images_fullsize, contours, contour_mask = [], [], [], []\n",
    "for case, serie in series.items():\n",
    "    image_path_base = './Data/challenge_training/%s/IM-%s' % (case, serie)\n",
    "    contour_path_base = './Data/Sunnybrook Cardiac MR Database ContoursPart3/\\\n",
    "TrainingDataContours/%s/contours-manual/IRCCI-expert/' % case\n",
    "    contours_list = glob.glob(contour_path_base + '*')\n",
    "    contours_list_series = [k.split('/')[7].split('-')[2] for k in contours_list]\n",
    "    for c in contours_list_series:\n",
    "        # Get contours and images path\n",
    "        idx_contour = contours_list_series.index(c)\n",
    "        image_path = image_path_base + '-%s.dcm' % c\n",
    "        contour_path = contours_list[idx_contour]\n",
    "\n",
    "        # open image as numpy array and resize to (64, 64)\n",
    "        image_part = dicom.read_file(image_path).pixel_array  \n",
    "\n",
    "        # open contours as numpy array\n",
    "        contour = []\n",
    "        file = open(contour_path, 'r') \n",
    "        for line in file: \n",
    "            contour.append(tuple(map(float, line.split())))\n",
    "        contour = np.array(contour)\n",
    "        #mask des contours\n",
    "        x, y = np.meshgrid(np.arange(256), np.arange(256)) # make a canvas with coordinates\n",
    "        x, y = x.flatten(), y.flatten()\n",
    "        points = np.vstack((x,y)).T \n",
    "        p = Path(contour) # make a polygon\n",
    "        grid = p.contains_points(points)\n",
    "        mask_contour = grid.reshape(256,256)\n",
    "        mask_contour=mask_contour*1\n",
    "        contour_mask.append(mask_contour)\n",
    "        \n",
    "        contours.append(get_roi(image_part, contour))\n",
    "\n",
    "        images.append(cv2.resize(image_part, (64, 64)))\n",
    "        images_fullsize.append(cv2.resize(image_part, (256, 256)))\n",
    "\n",
    "X_fullsize = np.array(images_fullsize)\n",
    "X = np.reshape(np.array(images), [len(images), 64, 64, 1])\n",
    "Y = np.reshape(np.array(contours), [len(contours), 1, 32, 32])\n",
    "#Z = np.reshape(np.array(contour_mask), [len(contour_mask), 64, 64, 1])\n",
    "print('Dataset shape :', X.shape, Y.shape)"
   ]
  },
  {
   "cell_type": "code",
   "execution_count": 207,
   "metadata": {
    "collapsed": false
   },
   "outputs": [],
   "source": [
    "contour_mask = np.asarray(contour_mask)\n",
    "l_contour=[] #resize (64,64)\n",
    "for i in range(contour_mask.shape[0]):\n",
    "    l_contour.append(cv2.resize(contour_mask[i], (64, 64), interpolation = cv2.INTERSECT_NONE))\n",
    "l_contour = np.asarray(l_contour) #.reshape((-1, 64*64))"
   ]
  },
  {
   "cell_type": "code",
   "execution_count": 209,
   "metadata": {
    "collapsed": false
   },
   "outputs": [
    {
     "data": {
      "text/plain": [
       "(495, 64, 64)"
      ]
     },
     "execution_count": 209,
     "metadata": {},
     "output_type": "execute_result"
    }
   ],
   "source": [
    "l_contour.shape"
   ]
  },
  {
   "cell_type": "markdown",
   "metadata": {},
   "source": [
    "## Stacked auto-encoder"
   ]
  },
  {
   "cell_type": "markdown",
   "metadata": {},
   "source": [
    "#### 1rst part (ROI)"
   ]
  },
  {
   "cell_type": "code",
   "execution_count": 7,
   "metadata": {
    "collapsed": false
   },
   "outputs": [],
   "source": [
    "%store -r y_pred"
   ]
  },
  {
   "cell_type": "code",
   "execution_count": 139,
   "metadata": {
    "collapsed": false
   },
   "outputs": [
    {
     "data": {
      "text/plain": [
       "(495, 1, 32, 32)"
      ]
     },
     "execution_count": 139,
     "metadata": {},
     "output_type": "execute_result"
    }
   ],
   "source": [
    "y_pred.shape"
   ]
  },
  {
   "cell_type": "code",
   "execution_count": 150,
   "metadata": {
    "collapsed": true
   },
   "outputs": [],
   "source": [
    "def reshape_image_100(y_pred, j):\n",
    "    pred = y_pred[j].reshape((32,32))\n",
    "    pos_pred = np.where(pred > 0.5)\n",
    "    mask_roi = get_roi(pred, np.array(pos_pred).reshape(len(pos_pred[0]), 2))\n",
    "    mask_roi = cv2.resize(mask_roi, (256, 256), interpolation = cv2.INTERSECT_FULL)\n",
    "    pos_im = np.where(X_fullsize[j] * mask_roi > 0.5)\n",
    "    contour2 = np.array(pos_im).reshape(len(pos_im[0]), 2)\n",
    "    Xmin, Xmax = contour2[:, 0].min(), contour2[:, 0].max()\n",
    "    Ymin, Ymax = contour2[:, 1].min(), contour2[:, 1].max()\n",
    "    region_interest = (X_fullsize[j] * mask_roi)[Xmin:Xmax, Ymin:Ymax]\n",
    "    region_interest_resize = cv2.resize(region_interest,(100, 100))\n",
    "    return(region_interest_resize)"
   ]
  },
  {
   "cell_type": "code",
   "execution_count": 151,
   "metadata": {
    "collapsed": false
   },
   "outputs": [],
   "source": [
    "l = [] #images (100,100)\n",
    "for j in range(y_pred.shape[0]):\n",
    "    l.append(reshape_image_100(y_pred, j))\n",
    "l = np.asarray(l)"
   ]
  },
  {
   "cell_type": "code",
   "execution_count": 152,
   "metadata": {
    "collapsed": false
   },
   "outputs": [],
   "source": [
    "l2=[] #resize images (64,64)\n",
    "for i in range(l.shape[0]):\n",
    "    l2.append(cv2.resize(l[i], (64 , 64)))\n",
    "l2 = np.asarray(l2).reshape((-1, 64*64))"
   ]
  },
  {
   "cell_type": "code",
   "execution_count": 153,
   "metadata": {
    "collapsed": false
   },
   "outputs": [],
   "source": [
    "model = Sequential()\n",
    "#model.add(Dense(4096,  input_shape=[l2.shape[1]*l2.shape[2]]))\n",
    "model.add(Dense(100, input_shape=[l2.shape[1]]))\n",
    "model.add(Dense(4096, kernel_regularizer=regularizers.l2(0.0001)))"
   ]
  },
  {
   "cell_type": "code",
   "execution_count": 154,
   "metadata": {
    "collapsed": false
   },
   "outputs": [
    {
     "name": "stdout",
     "output_type": "stream",
     "text": [
      "dense_37 (None, 4096) (None, 100)\n",
      "dense_38 (None, 100) (None, 4096)\n"
     ]
    }
   ],
   "source": [
    "for p in model.layers:\n",
    "    print(p.name, p.input_shape, p.output_shape)"
   ]
  },
  {
   "cell_type": "code",
   "execution_count": 155,
   "metadata": {
    "collapsed": true
   },
   "outputs": [],
   "source": [
    "model.compile(loss='mean_squared_error',\n",
    "              optimizer='adam',\n",
    "              metrics=['accuracy'])"
   ]
  },
  {
   "cell_type": "code",
   "execution_count": 156,
   "metadata": {
    "collapsed": false,
    "scrolled": true
   },
   "outputs": [
    {
     "name": "stdout",
     "output_type": "stream",
     "text": [
      "Epoch 1/300\n",
      "0s - loss: 11169.2516 - acc: 0.0061\n",
      "Epoch 2/300\n",
      "0s - loss: 4975.5500 - acc: 0.0121\n",
      "Epoch 3/300\n",
      "0s - loss: 4076.7549 - acc: 0.0101\n",
      "Epoch 4/300\n",
      "0s - loss: 3418.8743 - acc: 0.0141\n",
      "Epoch 5/300\n",
      "0s - loss: 2939.4703 - acc: 0.0162\n",
      "Epoch 6/300\n",
      "0s - loss: 2597.3652 - acc: 0.0283\n",
      "Epoch 7/300\n",
      "0s - loss: 2356.0652 - acc: 0.0566\n",
      "Epoch 8/300\n",
      "0s - loss: 2086.8759 - acc: 0.0909\n",
      "Epoch 9/300\n",
      "0s - loss: 1858.6126 - acc: 0.0747\n",
      "Epoch 10/300\n",
      "0s - loss: 1713.7895 - acc: 0.0808\n",
      "Epoch 11/300\n",
      "0s - loss: 1596.4902 - acc: 0.0889\n",
      "Epoch 12/300\n",
      "0s - loss: 1487.1397 - acc: 0.1051\n",
      "Epoch 13/300\n",
      "0s - loss: 1390.3117 - acc: 0.1111\n",
      "Epoch 14/300\n",
      "0s - loss: 1314.1477 - acc: 0.1172\n",
      "Epoch 15/300\n",
      "0s - loss: 1247.0483 - acc: 0.1374\n",
      "Epoch 16/300\n",
      "0s - loss: 1184.1928 - acc: 0.1333\n",
      "Epoch 17/300\n",
      "0s - loss: 1123.6180 - acc: 0.1313\n",
      "Epoch 18/300\n",
      "0s - loss: 1068.8326 - acc: 0.1374\n",
      "Epoch 19/300\n",
      "0s - loss: 1023.7097 - acc: 0.1434\n",
      "Epoch 20/300\n",
      "0s - loss: 982.7937 - acc: 0.1434\n",
      "Epoch 21/300\n",
      "0s - loss: 944.4200 - acc: 0.1273\n",
      "Epoch 22/300\n",
      "0s - loss: 913.0755 - acc: 0.1354\n",
      "Epoch 23/300\n",
      "0s - loss: 878.5817 - acc: 0.1495\n",
      "Epoch 24/300\n",
      "0s - loss: 852.3151 - acc: 0.1495\n",
      "Epoch 25/300\n",
      "0s - loss: 808.7203 - acc: 0.1434\n",
      "Epoch 26/300\n",
      "0s - loss: 776.8362 - acc: 0.1293\n",
      "Epoch 27/300\n",
      "0s - loss: 768.1260 - acc: 0.1374\n",
      "Epoch 28/300\n",
      "0s - loss: 825.5531 - acc: 0.1434\n",
      "Epoch 29/300\n",
      "0s - loss: 772.2617 - acc: 0.1354\n",
      "Epoch 30/300\n",
      "0s - loss: 709.4362 - acc: 0.1434\n",
      "Epoch 31/300\n",
      "0s - loss: 690.9993 - acc: 0.1455\n",
      "Epoch 32/300\n",
      "0s - loss: 693.2885 - acc: 0.1556\n",
      "Epoch 33/300\n",
      "0s - loss: 694.6284 - acc: 0.1636\n",
      "Epoch 34/300\n",
      "0s - loss: 664.8968 - acc: 0.1737\n",
      "Epoch 35/300\n",
      "0s - loss: 631.3231 - acc: 0.1475\n",
      "Epoch 36/300\n",
      "0s - loss: 606.7922 - acc: 0.1657\n",
      "Epoch 37/300\n",
      "0s - loss: 604.9727 - acc: 0.1697\n",
      "Epoch 38/300\n",
      "0s - loss: 583.5604 - acc: 0.1576\n",
      "Epoch 39/300\n",
      "0s - loss: 567.3692 - acc: 0.1717\n",
      "Epoch 40/300\n",
      "0s - loss: 555.4884 - acc: 0.1697\n",
      "Epoch 41/300\n",
      "0s - loss: 557.4098 - acc: 0.1879\n",
      "Epoch 42/300\n",
      "0s - loss: 539.0628 - acc: 0.1758\n",
      "Epoch 43/300\n",
      "0s - loss: 524.7317 - acc: 0.1899\n",
      "Epoch 44/300\n",
      "0s - loss: 527.1266 - acc: 0.2000\n",
      "Epoch 45/300\n",
      "0s - loss: 520.9140 - acc: 0.2000\n",
      "Epoch 46/300\n",
      "0s - loss: 499.0555 - acc: 0.2000\n",
      "Epoch 47/300\n",
      "0s - loss: 486.3944 - acc: 0.2283\n",
      "Epoch 48/300\n",
      "0s - loss: 478.4673 - acc: 0.2121\n",
      "Epoch 49/300\n",
      "0s - loss: 468.8892 - acc: 0.2222\n",
      "Epoch 50/300\n",
      "0s - loss: 465.6200 - acc: 0.2283\n",
      "Epoch 51/300\n",
      "0s - loss: 471.1201 - acc: 0.2303\n",
      "Epoch 52/300\n",
      "0s - loss: 459.2645 - acc: 0.2283\n",
      "Epoch 53/300\n",
      "0s - loss: 458.0578 - acc: 0.2263\n",
      "Epoch 54/300\n",
      "0s - loss: 448.8879 - acc: 0.2263\n",
      "Epoch 55/300\n",
      "0s - loss: 448.1509 - acc: 0.2525\n",
      "Epoch 56/300\n",
      "0s - loss: 440.6664 - acc: 0.2343\n",
      "Epoch 57/300\n",
      "0s - loss: 432.5792 - acc: 0.2343\n",
      "Epoch 58/300\n",
      "0s - loss: 447.6655 - acc: 0.2162\n",
      "Epoch 59/300\n",
      "0s - loss: 437.8773 - acc: 0.2485\n",
      "Epoch 60/300\n",
      "0s - loss: 423.7176 - acc: 0.2384\n",
      "Epoch 61/300\n",
      "0s - loss: 414.1075 - acc: 0.2444\n",
      "Epoch 62/300\n",
      "0s - loss: 400.2429 - acc: 0.2505\n",
      "Epoch 63/300\n",
      "0s - loss: 391.1131 - acc: 0.2667\n",
      "Epoch 64/300\n",
      "0s - loss: 385.4800 - acc: 0.2485\n",
      "Epoch 65/300\n",
      "0s - loss: 376.6430 - acc: 0.2768\n",
      "Epoch 66/300\n",
      "0s - loss: 375.1223 - acc: 0.2566\n",
      "Epoch 67/300\n",
      "0s - loss: 369.7927 - acc: 0.2465\n",
      "Epoch 68/300\n",
      "0s - loss: 371.7549 - acc: 0.2667\n",
      "Epoch 69/300\n",
      "0s - loss: 378.4902 - acc: 0.2566\n",
      "Epoch 70/300\n",
      "0s - loss: 373.8207 - acc: 0.2687\n",
      "Epoch 71/300\n",
      "0s - loss: 369.3888 - acc: 0.2768\n",
      "Epoch 72/300\n",
      "0s - loss: 378.5877 - acc: 0.2788\n",
      "Epoch 73/300\n",
      "0s - loss: 421.2838 - acc: 0.2687\n",
      "Epoch 74/300\n",
      "0s - loss: 456.7372 - acc: 0.2808\n",
      "Epoch 75/300\n",
      "0s - loss: 433.9188 - acc: 0.2707\n",
      "Epoch 76/300\n",
      "0s - loss: 401.0984 - acc: 0.2586\n",
      "Epoch 77/300\n",
      "0s - loss: 361.8263 - acc: 0.3091\n",
      "Epoch 78/300\n",
      "0s - loss: 343.8371 - acc: 0.2970\n",
      "Epoch 79/300\n",
      "0s - loss: 335.4081 - acc: 0.2949\n",
      "Epoch 80/300\n",
      "0s - loss: 328.2866 - acc: 0.3192\n",
      "Epoch 81/300\n",
      "0s - loss: 319.4423 - acc: 0.2828\n",
      "Epoch 82/300\n",
      "0s - loss: 319.4886 - acc: 0.2970\n",
      "Epoch 83/300\n",
      "0s - loss: 315.4428 - acc: 0.3071\n",
      "Epoch 84/300\n",
      "0s - loss: 312.8282 - acc: 0.3172\n",
      "Epoch 85/300\n",
      "0s - loss: 309.8555 - acc: 0.3152\n",
      "Epoch 86/300\n",
      "0s - loss: 310.0431 - acc: 0.3071\n",
      "Epoch 87/300\n",
      "0s - loss: 317.9943 - acc: 0.3192\n",
      "Epoch 88/300\n",
      "0s - loss: 315.8545 - acc: 0.3212\n",
      "Epoch 89/300\n",
      "0s - loss: 310.5245 - acc: 0.3455\n",
      "Epoch 90/300\n",
      "0s - loss: 312.0125 - acc: 0.3192\n",
      "Epoch 91/300\n",
      "0s - loss: 309.3116 - acc: 0.3212\n",
      "Epoch 92/300\n",
      "0s - loss: 314.2572 - acc: 0.3273\n",
      "Epoch 93/300\n",
      "0s - loss: 319.7002 - acc: 0.3253\n",
      "Epoch 94/300\n",
      "0s - loss: 317.3094 - acc: 0.3172\n",
      "Epoch 95/300\n",
      "0s - loss: 311.9567 - acc: 0.3475\n",
      "Epoch 96/300\n",
      "0s - loss: 320.7032 - acc: 0.3172\n",
      "Epoch 97/300\n",
      "0s - loss: 313.7811 - acc: 0.3313\n",
      "Epoch 98/300\n",
      "0s - loss: 302.6122 - acc: 0.3313\n",
      "Epoch 99/300\n",
      "0s - loss: 297.2818 - acc: 0.3354\n",
      "Epoch 100/300\n",
      "0s - loss: 288.4922 - acc: 0.3354\n",
      "Epoch 101/300\n",
      "0s - loss: 288.5936 - acc: 0.3394\n",
      "Epoch 102/300\n",
      "0s - loss: 285.0086 - acc: 0.3374\n",
      "Epoch 103/300\n",
      "0s - loss: 278.5351 - acc: 0.3313\n",
      "Epoch 104/300\n",
      "0s - loss: 278.3186 - acc: 0.3212\n",
      "Epoch 105/300\n",
      "0s - loss: 275.2229 - acc: 0.3434\n",
      "Epoch 106/300\n",
      "0s - loss: 273.0617 - acc: 0.3354\n",
      "Epoch 107/300\n",
      "0s - loss: 276.1184 - acc: 0.3515\n",
      "Epoch 108/300\n",
      "0s - loss: 276.4396 - acc: 0.3354\n",
      "Epoch 109/300\n",
      "0s - loss: 288.1185 - acc: 0.3273\n",
      "Epoch 110/300\n",
      "0s - loss: 315.2504 - acc: 0.3111\n",
      "Epoch 111/300\n",
      "0s - loss: 311.3097 - acc: 0.3333\n",
      "Epoch 112/300\n",
      "0s - loss: 290.8682 - acc: 0.3152\n",
      "Epoch 113/300\n",
      "0s - loss: 281.7402 - acc: 0.3475\n",
      "Epoch 114/300\n",
      "0s - loss: 292.1640 - acc: 0.3354\n",
      "Epoch 115/300\n",
      "0s - loss: 312.8079 - acc: 0.3455\n",
      "Epoch 116/300\n",
      "0s - loss: 306.5036 - acc: 0.3172\n",
      "Epoch 117/300\n",
      "0s - loss: 313.6790 - acc: 0.3293\n",
      "Epoch 118/300\n",
      "0s - loss: 296.3966 - acc: 0.3313\n",
      "Epoch 119/300\n",
      "0s - loss: 286.4844 - acc: 0.3333\n",
      "Epoch 120/300\n",
      "0s - loss: 276.2904 - acc: 0.3394\n",
      "Epoch 121/300\n",
      "0s - loss: 275.0281 - acc: 0.3131\n",
      "Epoch 122/300\n",
      "0s - loss: 262.8211 - acc: 0.3374\n",
      "Epoch 123/300\n",
      "0s - loss: 258.6652 - acc: 0.3636\n",
      "Epoch 124/300\n",
      "0s - loss: 257.5893 - acc: 0.3616\n",
      "Epoch 125/300\n",
      "0s - loss: 256.9859 - acc: 0.3515\n",
      "Epoch 126/300\n",
      "0s - loss: 255.6907 - acc: 0.3434\n",
      "Epoch 127/300\n",
      "0s - loss: 254.2410 - acc: 0.3616\n",
      "Epoch 128/300\n",
      "0s - loss: 252.9784 - acc: 0.3556\n",
      "Epoch 129/300\n",
      "0s - loss: 259.5003 - acc: 0.3475\n",
      "Epoch 130/300\n",
      "0s - loss: 260.4484 - acc: 0.3515\n",
      "Epoch 131/300\n",
      "0s - loss: 251.8524 - acc: 0.3333\n",
      "Epoch 132/300\n",
      "0s - loss: 246.3086 - acc: 0.3475\n",
      "Epoch 133/300\n",
      "0s - loss: 244.9616 - acc: 0.3333\n",
      "Epoch 134/300\n",
      "0s - loss: 243.5466 - acc: 0.3596\n",
      "Epoch 135/300\n",
      "0s - loss: 254.7978 - acc: 0.3374\n",
      "Epoch 136/300\n",
      "0s - loss: 260.0509 - acc: 0.3253\n",
      "Epoch 137/300\n",
      "0s - loss: 261.1765 - acc: 0.3414\n",
      "Epoch 138/300\n",
      "0s - loss: 271.4979 - acc: 0.3313\n",
      "Epoch 139/300\n",
      "0s - loss: 259.1717 - acc: 0.3515\n",
      "Epoch 140/300\n",
      "0s - loss: 258.8984 - acc: 0.3475\n",
      "Epoch 141/300\n",
      "0s - loss: 254.4367 - acc: 0.3414\n",
      "Epoch 142/300\n",
      "0s - loss: 263.9794 - acc: 0.3374\n",
      "Epoch 143/300\n",
      "0s - loss: 321.9408 - acc: 0.3414\n",
      "Epoch 144/300\n",
      "0s - loss: 331.5480 - acc: 0.3172\n",
      "Epoch 145/300\n",
      "0s - loss: 301.0012 - acc: 0.3232\n",
      "Epoch 146/300\n",
      "0s - loss: 279.0196 - acc: 0.3192\n",
      "Epoch 147/300\n",
      "0s - loss: 278.3553 - acc: 0.3475\n",
      "Epoch 148/300\n",
      "0s - loss: 283.0221 - acc: 0.3434\n",
      "Epoch 149/300\n",
      "0s - loss: 261.8771 - acc: 0.3333\n",
      "Epoch 150/300\n",
      "0s - loss: 256.8141 - acc: 0.3253\n",
      "Epoch 151/300\n",
      "0s - loss: 253.5706 - acc: 0.3455\n",
      "Epoch 152/300\n",
      "0s - loss: 267.7053 - acc: 0.3414\n",
      "Epoch 153/300\n",
      "0s - loss: 267.8028 - acc: 0.3455\n",
      "Epoch 154/300\n",
      "0s - loss: 272.0605 - acc: 0.3354\n",
      "Epoch 155/300\n",
      "0s - loss: 267.3015 - acc: 0.3253\n",
      "Epoch 156/300\n",
      "0s - loss: 288.4394 - acc: 0.3333\n",
      "Epoch 157/300\n",
      "0s - loss: 278.8139 - acc: 0.2990\n",
      "Epoch 158/300\n",
      "0s - loss: 275.9942 - acc: 0.3071\n",
      "Epoch 159/300\n",
      "0s - loss: 262.9506 - acc: 0.3333\n",
      "Epoch 160/300\n",
      "0s - loss: 251.7354 - acc: 0.3192\n",
      "Epoch 161/300\n",
      "0s - loss: 249.6399 - acc: 0.3636\n",
      "Epoch 162/300\n",
      "0s - loss: 239.7951 - acc: 0.3515\n",
      "Epoch 163/300\n",
      "0s - loss: 238.7977 - acc: 0.3374\n",
      "Epoch 164/300\n",
      "0s - loss: 233.2858 - acc: 0.3293\n",
      "Epoch 165/300\n",
      "0s - loss: 230.6075 - acc: 0.3374\n",
      "Epoch 166/300\n",
      "0s - loss: 230.9180 - acc: 0.3434\n",
      "Epoch 167/300\n",
      "0s - loss: 230.9138 - acc: 0.3192\n",
      "Epoch 168/300\n",
      "0s - loss: 231.2551 - acc: 0.3333\n",
      "Epoch 169/300\n",
      "0s - loss: 233.2792 - acc: 0.3576\n",
      "Epoch 170/300\n",
      "0s - loss: 237.7359 - acc: 0.3313\n",
      "Epoch 171/300\n",
      "0s - loss: 254.2303 - acc: 0.3455\n",
      "Epoch 172/300\n",
      "0s - loss: 261.4758 - acc: 0.3394\n",
      "Epoch 173/300\n",
      "0s - loss: 257.2369 - acc: 0.3596\n",
      "Epoch 174/300\n",
      "0s - loss: 259.4195 - acc: 0.3636\n",
      "Epoch 175/300\n",
      "0s - loss: 251.5804 - acc: 0.3434\n",
      "Epoch 176/300\n",
      "0s - loss: 246.5817 - acc: 0.3232\n",
      "Epoch 177/300\n",
      "0s - loss: 241.6730 - acc: 0.3515\n",
      "Epoch 178/300\n",
      "0s - loss: 312.2712 - acc: 0.3071\n",
      "Epoch 179/300\n",
      "0s - loss: 279.4588 - acc: 0.3394\n",
      "Epoch 180/300\n",
      "0s - loss: 256.8519 - acc: 0.3394\n",
      "Epoch 181/300\n",
      "0s - loss: 244.9709 - acc: 0.3253\n",
      "Epoch 182/300\n",
      "0s - loss: 243.5386 - acc: 0.3414\n",
      "Epoch 183/300\n",
      "0s - loss: 237.6089 - acc: 0.3697\n",
      "Epoch 184/300\n",
      "0s - loss: 233.9814 - acc: 0.3495\n",
      "Epoch 185/300\n",
      "0s - loss: 236.7147 - acc: 0.3293\n",
      "Epoch 186/300\n",
      "0s - loss: 241.1460 - acc: 0.3434\n",
      "Epoch 187/300\n",
      "0s - loss: 254.6182 - acc: 0.2909\n",
      "Epoch 188/300\n",
      "0s - loss: 248.5939 - acc: 0.3374\n",
      "Epoch 189/300\n",
      "0s - loss: 238.0460 - acc: 0.3556\n",
      "Epoch 190/300\n",
      "0s - loss: 235.0719 - acc: 0.3616\n",
      "Epoch 191/300\n",
      "0s - loss: 239.0873 - acc: 0.3374\n",
      "Epoch 192/300\n",
      "0s - loss: 241.8616 - acc: 0.3152\n",
      "Epoch 193/300\n",
      "0s - loss: 235.1224 - acc: 0.3333\n",
      "Epoch 194/300\n",
      "0s - loss: 230.8907 - acc: 0.3333\n",
      "Epoch 195/300\n",
      "0s - loss: 225.4882 - acc: 0.3434\n",
      "Epoch 196/300\n",
      "0s - loss: 222.8642 - acc: 0.3616\n",
      "Epoch 197/300\n",
      "0s - loss: 225.8717 - acc: 0.3535\n",
      "Epoch 198/300\n",
      "0s - loss: 241.2270 - acc: 0.3394\n",
      "Epoch 199/300\n",
      "0s - loss: 249.6056 - acc: 0.3333\n",
      "Epoch 200/300\n",
      "0s - loss: 302.3376 - acc: 0.3192\n",
      "Epoch 201/300\n",
      "0s - loss: 268.8057 - acc: 0.3253\n",
      "Epoch 202/300\n",
      "0s - loss: 259.8663 - acc: 0.3354\n",
      "Epoch 203/300\n",
      "0s - loss: 248.9344 - acc: 0.3495\n",
      "Epoch 204/300\n",
      "0s - loss: 238.0961 - acc: 0.3576\n",
      "Epoch 205/300\n",
      "0s - loss: 229.6569 - acc: 0.3535\n",
      "Epoch 206/300\n",
      "0s - loss: 230.7660 - acc: 0.3798\n",
      "Epoch 207/300\n",
      "0s - loss: 237.8183 - acc: 0.3354\n",
      "Epoch 208/300\n",
      "0s - loss: 247.4733 - acc: 0.3475\n",
      "Epoch 209/300\n",
      "0s - loss: 239.8044 - acc: 0.3475\n",
      "Epoch 210/300\n",
      "0s - loss: 264.6787 - acc: 0.3192\n",
      "Epoch 211/300\n",
      "0s - loss: 262.6526 - acc: 0.3394\n",
      "Epoch 212/300\n",
      "0s - loss: 256.5971 - acc: 0.3131\n",
      "Epoch 213/300\n",
      "0s - loss: 262.1205 - acc: 0.3212\n",
      "Epoch 214/300\n",
      "0s - loss: 239.7514 - acc: 0.3455\n",
      "Epoch 215/300\n",
      "0s - loss: 230.6066 - acc: 0.3394\n",
      "Epoch 216/300\n",
      "0s - loss: 236.5080 - acc: 0.3475\n",
      "Epoch 217/300\n",
      "0s - loss: 234.5933 - acc: 0.3333\n",
      "Epoch 218/300\n",
      "0s - loss: 239.0246 - acc: 0.3576\n",
      "Epoch 219/300\n",
      "0s - loss: 247.8487 - acc: 0.3273\n",
      "Epoch 220/300\n",
      "0s - loss: 239.2371 - acc: 0.3556\n",
      "Epoch 221/300\n",
      "0s - loss: 237.9339 - acc: 0.3596\n",
      "Epoch 222/300\n",
      "0s - loss: 236.3722 - acc: 0.3515\n",
      "Epoch 223/300\n",
      "0s - loss: 235.2217 - acc: 0.3616\n",
      "Epoch 224/300\n",
      "0s - loss: 245.8920 - acc: 0.3273\n",
      "Epoch 225/300\n",
      "0s - loss: 249.2158 - acc: 0.3616\n",
      "Epoch 226/300\n",
      "0s - loss: 256.2400 - acc: 0.3495\n",
      "Epoch 227/300\n",
      "0s - loss: 251.2119 - acc: 0.3495\n",
      "Epoch 228/300\n",
      "0s - loss: 236.0311 - acc: 0.3596\n",
      "Epoch 229/300\n",
      "0s - loss: 236.6830 - acc: 0.3515\n",
      "Epoch 230/300\n",
      "0s - loss: 249.3294 - acc: 0.3515\n",
      "Epoch 231/300\n",
      "0s - loss: 252.8647 - acc: 0.3455\n",
      "Epoch 232/300\n",
      "0s - loss: 255.1333 - acc: 0.3657\n",
      "Epoch 233/300\n",
      "0s - loss: 262.6479 - acc: 0.3515\n",
      "Epoch 234/300\n",
      "0s - loss: 254.0657 - acc: 0.3596\n",
      "Epoch 235/300\n",
      "0s - loss: 239.3675 - acc: 0.3616\n",
      "Epoch 236/300\n",
      "0s - loss: 238.7268 - acc: 0.3495\n",
      "Epoch 237/300\n",
      "0s - loss: 233.4922 - acc: 0.3475\n",
      "Epoch 238/300\n",
      "0s - loss: 236.9624 - acc: 0.3212\n",
      "Epoch 239/300\n",
      "0s - loss: 233.8447 - acc: 0.3596\n",
      "Epoch 240/300\n",
      "0s - loss: 240.7273 - acc: 0.3677\n",
      "Epoch 241/300\n",
      "0s - loss: 248.5737 - acc: 0.3596\n",
      "Epoch 242/300\n",
      "0s - loss: 244.9289 - acc: 0.3596\n",
      "Epoch 243/300\n",
      "0s - loss: 244.9378 - acc: 0.3374\n",
      "Epoch 244/300\n",
      "0s - loss: 247.7520 - acc: 0.3535\n",
      "Epoch 245/300\n",
      "0s - loss: 240.7838 - acc: 0.3576\n",
      "Epoch 246/300\n",
      "0s - loss: 239.5999 - acc: 0.3556\n",
      "Epoch 247/300\n",
      "0s - loss: 259.0314 - acc: 0.3535\n",
      "Epoch 248/300\n",
      "0s - loss: 252.0252 - acc: 0.3556\n",
      "Epoch 249/300\n",
      "0s - loss: 236.2126 - acc: 0.3919\n",
      "Epoch 250/300\n",
      "0s - loss: 251.8275 - acc: 0.3394\n",
      "Epoch 251/300\n",
      "0s - loss: 251.9614 - acc: 0.3374\n",
      "Epoch 252/300\n",
      "0s - loss: 245.8241 - acc: 0.3414\n",
      "Epoch 253/300\n",
      "0s - loss: 240.1335 - acc: 0.3455\n",
      "Epoch 254/300\n",
      "0s - loss: 254.1878 - acc: 0.3313\n",
      "Epoch 255/300\n",
      "0s - loss: 275.9839 - acc: 0.3677\n",
      "Epoch 256/300\n",
      "0s - loss: 266.1945 - acc: 0.3616\n",
      "Epoch 257/300\n",
      "0s - loss: 248.1455 - acc: 0.3253\n",
      "Epoch 258/300\n",
      "0s - loss: 241.0209 - acc: 0.3475\n",
      "Epoch 259/300\n",
      "0s - loss: 233.0900 - acc: 0.3313\n",
      "Epoch 260/300\n",
      "0s - loss: 230.8192 - acc: 0.3657\n",
      "Epoch 261/300\n",
      "0s - loss: 231.2490 - acc: 0.3778\n",
      "Epoch 262/300\n",
      "0s - loss: 229.4527 - acc: 0.3455\n",
      "Epoch 263/300\n",
      "0s - loss: 246.2403 - acc: 0.3374\n",
      "Epoch 264/300\n",
      "0s - loss: 236.6288 - acc: 0.3576\n",
      "Epoch 265/300\n",
      "0s - loss: 235.9403 - acc: 0.3657\n",
      "Epoch 266/300\n",
      "0s - loss: 231.6702 - acc: 0.3818\n",
      "Epoch 267/300\n",
      "0s - loss: 231.0747 - acc: 0.3758\n",
      "Epoch 268/300\n",
      "0s - loss: 232.9943 - acc: 0.3657\n",
      "Epoch 269/300\n",
      "0s - loss: 224.4234 - acc: 0.3636\n",
      "Epoch 270/300\n",
      "0s - loss: 222.2644 - acc: 0.3596\n",
      "Epoch 271/300\n",
      "0s - loss: 224.6336 - acc: 0.3818\n",
      "Epoch 272/300\n",
      "0s - loss: 225.7924 - acc: 0.3677\n",
      "Epoch 273/300\n",
      "0s - loss: 239.6459 - acc: 0.3515\n",
      "Epoch 274/300\n",
      "0s - loss: 237.6085 - acc: 0.3495\n",
      "Epoch 275/300\n",
      "0s - loss: 247.0704 - acc: 0.3414\n",
      "Epoch 276/300\n",
      "0s - loss: 243.0061 - acc: 0.3616\n",
      "Epoch 277/300\n",
      "0s - loss: 248.6402 - acc: 0.3434\n",
      "Epoch 278/300\n",
      "0s - loss: 238.1803 - acc: 0.3495\n",
      "Epoch 279/300\n",
      "0s - loss: 234.2929 - acc: 0.3798\n",
      "Epoch 280/300\n",
      "0s - loss: 233.6375 - acc: 0.3737\n",
      "Epoch 281/300\n",
      "0s - loss: 240.3680 - acc: 0.3677\n",
      "Epoch 282/300\n",
      "0s - loss: 241.4133 - acc: 0.3374\n",
      "Epoch 283/300\n",
      "0s - loss: 238.9838 - acc: 0.3677\n",
      "Epoch 284/300\n",
      "0s - loss: 250.9070 - acc: 0.3475\n",
      "Epoch 285/300\n",
      "0s - loss: 276.9313 - acc: 0.3394\n",
      "Epoch 286/300\n",
      "0s - loss: 263.5401 - acc: 0.3313\n",
      "Epoch 287/300\n",
      "0s - loss: 259.9626 - acc: 0.3717\n",
      "Epoch 288/300\n",
      "0s - loss: 271.9598 - acc: 0.3172\n",
      "Epoch 289/300\n",
      "0s - loss: 255.4052 - acc: 0.3374\n",
      "Epoch 290/300\n",
      "0s - loss: 243.3328 - acc: 0.3495\n",
      "Epoch 291/300\n",
      "0s - loss: 241.2387 - acc: 0.3697\n",
      "Epoch 292/300\n",
      "0s - loss: 261.1955 - acc: 0.3455\n",
      "Epoch 293/300\n",
      "0s - loss: 249.7563 - acc: 0.3657\n",
      "Epoch 294/300\n",
      "0s - loss: 234.7777 - acc: 0.3455\n",
      "Epoch 295/300\n",
      "0s - loss: 237.6813 - acc: 0.3515\n",
      "Epoch 296/300\n",
      "0s - loss: 245.4571 - acc: 0.3414\n",
      "Epoch 297/300\n",
      "0s - loss: 243.4763 - acc: 0.3697\n",
      "Epoch 298/300\n",
      "0s - loss: 234.1651 - acc: 0.3495\n",
      "Epoch 299/300\n",
      "0s - loss: 236.5772 - acc: 0.3576\n",
      "Epoch 300/300\n",
      "0s - loss: 234.4139 - acc: 0.3434\n"
     ]
    }
   ],
   "source": [
    "h = model.fit(l2, l2, epochs=300, verbose=2)"
   ]
  },
  {
   "cell_type": "code",
   "execution_count": 157,
   "metadata": {
    "collapsed": false
   },
   "outputs": [
    {
     "data": {
      "text/plain": [
       "Text(0.5,0,'epochs')"
      ]
     },
     "execution_count": 157,
     "metadata": {},
     "output_type": "execute_result"
    },
    {
     "data": {
      "image/png": "[encoded data removed]",
      "text/plain": [
       "<matplotlib.figure.Figure at 0x14f2317b8>"
      ]
     },
     "metadata": {},
     "output_type": "display_data"
    }
   ],
   "source": [
    "metric = 'loss'\n",
    "plt.plot(range(len(h.history[metric])), h.history[metric])\n",
    "plt.ylabel(metric)\n",
    "plt.xlabel('epochs')"
   ]
  },
  {
   "cell_type": "code",
   "execution_count": 160,
   "metadata": {
    "collapsed": true
   },
   "outputs": [],
   "source": [
    "l2_pred = model.predict(l2)"
   ]
  },
  {
   "cell_type": "code",
   "execution_count": 161,
   "metadata": {
    "collapsed": false
   },
   "outputs": [],
   "source": [
    "pred = l2_pred[0].reshape(64, 64)"
   ]
  },
  {
   "cell_type": "code",
   "execution_count": 158,
   "metadata": {
    "collapsed": false
   },
   "outputs": [
    {
     "data": {
      "text/plain": [
       "<matplotlib.image.AxesImage at 0x14fbef9e8>"
      ]
     },
     "execution_count": 158,
     "metadata": {},
     "output_type": "execute_result"
    },
    {
     "data": {
      "image/png": "[encoded data removed]",
      "text/plain": [
       "<matplotlib.figure.Figure at 0x14f13bc18>"
      ]
     },
     "metadata": {},
     "output_type": "display_data"
    }
   ],
   "source": [
    "plt.imshow(l2[0].reshape(64,64))"
   ]
  },
  {
   "cell_type": "code",
   "execution_count": 162,
   "metadata": {
    "collapsed": false
   },
   "outputs": [
    {
     "data": {
      "text/plain": [
       "<matplotlib.image.AxesImage at 0x15aad2208>"
      ]
     },
     "execution_count": 162,
     "metadata": {},
     "output_type": "execute_result"
    },
    {
     "data": {
      "image/png": "[encoded data removed]",
      "text/plain": [
       "<matplotlib.figure.Figure at 0x14fc0e438>"
      ]
     },
     "metadata": {},
     "output_type": "display_data"
    }
   ],
   "source": [
    "plt.imshow(pred)"
   ]
  },
  {
   "cell_type": "markdown",
   "metadata": {},
   "source": [
    "#### 2nd part (Inferred shape)"
   ]
  },
  {
   "cell_type": "code",
   "execution_count": 237,
   "metadata": {
    "collapsed": true
   },
   "outputs": [],
   "source": [
    "input_y = l_contour.reshape((-1, 64*64))\n",
    "input_x = l2_pred"
   ]
  },
  {
   "cell_type": "code",
   "execution_count": 238,
   "metadata": {
    "collapsed": true
   },
   "outputs": [],
   "source": [
    "model = Sequential()\n",
    "#model.add(Dense(4096,  input_shape=[l2.shape[1]*l2.shape[2]]))\n",
    "#model.add(Dense(100, input_shape=[l2.shape[1]]))\n",
    "model.add(Dense(4096, kernel_regularizer=regularizers.l2(0.0001), input_shape=[l2.shape[1]]))"
   ]
  },
  {
   "cell_type": "code",
   "execution_count": 239,
   "metadata": {
    "collapsed": false
   },
   "outputs": [
    {
     "name": "stdout",
     "output_type": "stream",
     "text": [
      "dense_41 (None, 4096) (None, 4096)\n"
     ]
    }
   ],
   "source": [
    "for p in model.layers:\n",
    "    print(p.name, p.input_shape, p.output_shape)"
   ]
  },
  {
   "cell_type": "code",
   "execution_count": 240,
   "metadata": {
    "collapsed": true
   },
   "outputs": [],
   "source": [
    "model.compile(loss='mean_squared_error',\n",
    "              optimizer='adam',\n",
    "              metrics=['accuracy'])"
   ]
  },
  {
   "cell_type": "code",
   "execution_count": 241,
   "metadata": {
    "collapsed": false
   },
   "outputs": [
    {
     "name": "stdout",
     "output_type": "stream",
     "text": [
      "Epoch 1/10\n",
      "9s - loss: 19707.4938 - acc: 0.0000e+00\n",
      "Epoch 2/10\n",
      "8s - loss: 4118.2714 - acc: 0.0000e+00\n",
      "Epoch 3/10\n",
      "8s - loss: 1601.7673 - acc: 0.0000e+00\n",
      "Epoch 4/10\n",
      "8s - loss: 837.8277 - acc: 0.0000e+00\n",
      "Epoch 5/10\n",
      "7s - loss: 554.8339 - acc: 0.0000e+00\n",
      "Epoch 6/10\n",
      "7s - loss: 393.6417 - acc: 0.0000e+00\n",
      "Epoch 7/10\n",
      "7s - loss: 304.5928 - acc: 0.0000e+00\n",
      "Epoch 8/10\n",
      "7s - loss: 231.9688 - acc: 0.0000e+00\n",
      "Epoch 9/10\n",
      "8s - loss: 197.8131 - acc: 0.0000e+00\n",
      "Epoch 10/10\n",
      "8s - loss: 151.4714 - acc: 0.0000e+00\n"
     ]
    }
   ],
   "source": [
    "h2 = model.fit(input_x, input_y, epochs=10, verbose=2)"
   ]
  },
  {
   "cell_type": "code",
   "execution_count": 242,
   "metadata": {
    "collapsed": false
   },
   "outputs": [
    {
     "data": {
      "text/plain": [
       "Text(0.5,0,'epochs')"
      ]
     },
     "execution_count": 242,
     "metadata": {},
     "output_type": "execute_result"
    },
    {
     "data": {
      "image/png": "[encoded data removed]",
      "text/plain": [
       "<matplotlib.figure.Figure at 0x129381630>"
      ]
     },
     "metadata": {},
     "output_type": "display_data"
    }
   ],
   "source": [
    "metric = 'loss'\n",
    "plt.plot(range(len(h2.history[metric])), h2.history[metric])\n",
    "plt.ylabel(metric)\n",
    "plt.xlabel('epochs')"
   ]
  },
  {
   "cell_type": "code",
   "execution_count": 243,
   "metadata": {
    "collapsed": true
   },
   "outputs": [],
   "source": [
    "l3_pred = model.predict(input_x)"
   ]
  },
  {
   "cell_type": "code",
   "execution_count": 244,
   "metadata": {
    "collapsed": true
   },
   "outputs": [],
   "source": [
    "pred3 = l3_pred[0].reshape(64, 64)"
   ]
  },
  {
   "cell_type": "code",
   "execution_count": 245,
   "metadata": {
    "collapsed": false
   },
   "outputs": [
    {
     "data": {
      "text/plain": [
       "<matplotlib.image.AxesImage at 0x1294695f8>"
      ]
     },
     "execution_count": 245,
     "metadata": {},
     "output_type": "execute_result"
    },
    {
     "data": {
      "image/png": "[encoded data removed]",
      "text/plain": [
       "<matplotlib.figure.Figure at 0x128ebe2b0>"
      ]
     },
     "metadata": {},
     "output_type": "display_data"
    }
   ],
   "source": [
    "j = 17\n",
    "# select one predicted ROI\n",
    "pred3 = l3_pred[j].reshape((64,64))\n",
    "p = cv2.threshold(pred3, 0, 1, cv2.THRESH_BINARY)\n",
    "plt.imshow(p[1])"
   ]
  },
  {
   "cell_type": "code",
   "execution_count": 246,
   "metadata": {
    "collapsed": false
   },
   "outputs": [
    {
     "data": {
      "text/plain": [
       "<matplotlib.image.AxesImage at 0x128b4f240>"
      ]
     },
     "execution_count": 246,
     "metadata": {},
     "output_type": "execute_result"
    },
    {
     "data": {
      "image/png": "[encoded data removed]",
      "text/plain": [
       "<matplotlib.figure.Figure at 0x1293067f0>"
      ]
     },
     "metadata": {},
     "output_type": "display_data"
    }
   ],
   "source": [
    "plt.imshow(pred3)"
   ]
  },
  {
   "cell_type": "code",
   "execution_count": null,
   "metadata": {
    "collapsed": true
   },
   "outputs": [],
   "source": []
  }
 ],
 "metadata": {
  "kernelspec": {
   "display_name": "Python 3",
   "language": "python",
   "name": "python3"
  },
  "language_info": {
   "codemirror_mode": {
    "name": "ipython",
    "version": 3
   },
   "file_extension": ".py",
   "mimetype": "text/x-python",
   "name": "python",
   "nbconvert_exporter": "python",
   "pygments_lexer": "ipython3",
   "version": "3.5.4"
  }
 },
 "nbformat": 4,
 "nbformat_minor": 0
}
