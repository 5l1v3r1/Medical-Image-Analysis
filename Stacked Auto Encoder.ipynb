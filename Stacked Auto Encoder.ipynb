{
 "cells": [
  {
   "cell_type": "code",
   "execution_count": 1,
   "metadata": {
    "collapsed": true
   },
   "outputs": [
    {
     "name": "stderr",
     "output_type": "stream",
     "text": [
      "Using TensorFlow backend.\n",
      "/Users/sharonedayan/tensorflow/lib/python3.5/site-packages/dicom/__init__.py:53: UserWarning: \n",
      "This code is using an older version of pydicom, which is no longer \n",
      "maintained as of Jan 2017.  You can access the new pydicom features and API \n",
      "by installing `pydicom` from PyPI.\n",
      "See 'Transitioning to pydicom 1.x' section at pydicom.readthedocs.org \n",
      "for more information.\n",
      "\n",
      "  warnings.warn(msg)\n"
     ]
    }
   ],
   "source": [
    "import keras\n",
    "from keras.preprocessing.image import ImageDataGenerator\n",
    "from keras.models import Model,Sequential\n",
    "from keras.layers import Input,Dense, Dropout, Activation, Flatten, Reshape\n",
    "from keras.layers import Conv2D, MaxPooling2D, AveragePooling2D\n",
    "from keras.layers.pooling import GlobalAveragePooling2D\n",
    "from keras.layers import Embedding\n",
    "from keras import regularizers\n",
    "from keras.losses import mean_squared_error\n",
    "import glob\n",
    "import matplotlib.patches as patches\n",
    "import json\n",
    "import numpy as np\n",
    "from matplotlib.path import Path\n",
    "import dicom\n",
    "import cv2\n",
    "import matplotlib.pyplot as plt\n",
    "%matplotlib inline"
   ]
  },
  {
   "cell_type": "markdown",
   "metadata": {},
   "source": [
    "The second step of the algorithm is to train a stacked Auto-encoder in order to get the binary mask of the left ventricule inferred shape within the ROI (region of interest output of CNN). It is performed in two steps : pre-training then fine-tuning."
   ]
  },
  {
   "cell_type": "markdown",
   "metadata": {},
   "source": [
    "## Open DataSet"
   ]
  },
  {
   "cell_type": "code",
   "execution_count": 2,
   "metadata": {
    "collapsed": true
   },
   "outputs": [
    {
     "name": "stdout",
     "output_type": "stream",
     "text": [
      "Dataset shape : (495, 64, 64, 1) (495, 1, 32, 32)\n"
     ]
    },
    {
     "data": {
      "image/png": "[encoded data removed]",
      "text/plain": [
       "<matplotlib.figure.Figure at 0x122e17320>"
      ]
     },
     "metadata": {},
     "output_type": "display_data"
    },
    {
     "name": "stdout",
     "output_type": "stream",
     "text": [
      "Size for each layer :\n",
      "Layer, Input Size, Output Size\n",
      "Conv2D_1 (None, 64, 64, 1) (None, 54, 54, 100)\n",
      "Average_Pooling2D_1 (None, 54, 54, 100) (None, 9, 9, 100)\n",
      "Reshape_1 (None, 9, 9, 100) (None, 1, 8100)\n",
      "Dense_1 (None, 1, 8100) (None, 1, 1024)\n",
      "Reshape_2 (None, 1, 1024) (None, 1, 32, 32)\n",
      "Epoch 1/20\n",
      "495/495 [==============================] - 13s - loss: 0.1798 - acc: 0.2787    \n",
      "Epoch 2/20\n",
      "495/495 [==============================] - 11s - loss: 0.1007 - acc: 0.1806    \n",
      "Epoch 3/20\n",
      "495/495 [==============================] - 11s - loss: 0.0719 - acc: 0.0448    \n",
      "Epoch 4/20\n",
      "495/495 [==============================] - 11s - loss: 0.0560 - acc: 0.0357    \n",
      "Epoch 5/20\n",
      "495/495 [==============================] - 11s - loss: 0.0467 - acc: 0.0537    \n",
      "Epoch 6/20\n",
      "495/495 [==============================] - 11s - loss: 0.0398 - acc: 0.0584    \n",
      "Epoch 7/20\n",
      "495/495 [==============================] - 11s - loss: 0.0359 - acc: 0.0569    \n",
      "Epoch 8/20\n",
      "495/495 [==============================] - 11s - loss: 0.0320 - acc: 0.0636    \n",
      "Epoch 9/20\n",
      "495/495 [==============================] - 11s - loss: 0.0292 - acc: 0.0604    \n",
      "Epoch 10/20\n",
      "495/495 [==============================] - 11s - loss: 0.0282 - acc: 0.0670    \n",
      "Epoch 11/20\n",
      "495/495 [==============================] - 11s - loss: 0.0276 - acc: 0.0511    \n",
      "Epoch 12/20\n",
      "495/495 [==============================] - 11s - loss: 0.0268 - acc: 0.0625    \n",
      "Epoch 13/20\n",
      "495/495 [==============================] - 11s - loss: 0.0259 - acc: 0.0622    \n",
      "Epoch 14/20\n",
      "495/495 [==============================] - 12s - loss: 0.0250 - acc: 0.0552    \n",
      "Epoch 15/20\n",
      "495/495 [==============================] - 11s - loss: 0.0250 - acc: 0.0645    \n",
      "Epoch 16/20\n",
      "495/495 [==============================] - 11s - loss: 0.0265 - acc: 0.0513    \n",
      "Epoch 17/20\n",
      "495/495 [==============================] - 11s - loss: 0.0272 - acc: 0.0482    \n",
      "Epoch 18/20\n",
      "495/495 [==============================] - 11s - loss: 0.0273 - acc: 0.0515    \n",
      "Epoch 19/20\n",
      "495/495 [==============================] - 11s - loss: 0.0279 - acc: 0.0615    \n",
      "Epoch 20/20\n",
      "495/495 [==============================] - 14s - loss: 0.0277 - acc: 0.0660    \n"
     ]
    },
    {
     "data": {
      "image/png": "[encoded data removed]",
      "text/plain": [
       "<matplotlib.figure.Figure at 0x13c26eb70>"
      ]
     },
     "metadata": {},
     "output_type": "display_data"
    },
    {
     "name": "stdout",
     "output_type": "stream",
     "text": [
      "Stored 'y_pred' (ndarray)\n"
     ]
    },
    {
     "data": {
      "image/png": "[encoded data removed]",
      "text/plain": [
       "<matplotlib.figure.Figure at 0x13c2d1400>"
      ]
     },
     "metadata": {},
     "output_type": "display_data"
    },
    {
     "data": {
      "image/png": "[encoded data removed]",
      "text/plain": [
       "<matplotlib.figure.Figure at 0x13c3c6cf8>"
      ]
     },
     "metadata": {},
     "output_type": "display_data"
    }
   ],
   "source": [
    "%run 'CNN.ipynb'"
   ]
  },
  {
   "cell_type": "code",
   "execution_count": 3,
   "metadata": {
    "collapsed": false
   },
   "outputs": [],
   "source": [
    "%store -r y_pred"
   ]
  },
  {
   "cell_type": "code",
   "execution_count": 4,
   "metadata": {
    "collapsed": false
   },
   "outputs": [],
   "source": [
    "input_AE = [] #images (100,100)\n",
    "for j in range(y_pred.shape[0]):\n",
    "    input_AE.append(cv2.resize(compute_roi_pred(y_pred, j, roi_shape=32)[0],(64 , 64)))\n",
    "input_AE = np.asarray(input_AE).reshape((-1, 64*64)) #unrolled : 64*64 = vector of 4096 elements"
   ]
  },
  {
   "cell_type": "code",
   "execution_count": 143,
   "metadata": {
    "collapsed": false
   },
   "outputs": [],
   "source": [
    "_,_, mask_contour = compute_roi_pred(y_pred, 234)\n",
    "\n",
    "contour_experts = [] #images (100,100)\n",
    "for j in range(y_pred.shape[0]):\n",
    "    contour_experts.append(cv2.resize(compute_roi_pred(y_pred, j)[2], (64,64), interpolation = cv2.INTERSECT_NONE))\n",
    "contour_experts = np.asarray(contour_experts).reshape((-1, 64*64)) #unrolled : 64*64 = vector of 4096 elements"
   ]
  },
  {
   "cell_type": "code",
   "execution_count": 144,
   "metadata": {
    "collapsed": false
   },
   "outputs": [],
   "source": [
    "#plt.imshow(input_AE[0].reshape(64,64))\n",
    "#plt.imshow(contour_experts[0].reshape(64,64))"
   ]
  },
  {
   "cell_type": "markdown",
   "metadata": {},
   "source": [
    "## Stacked auto-encoder : Construction of 3 autoencoder "
   ]
  },
  {
   "cell_type": "code",
   "execution_count": 145,
   "metadata": {
    "collapsed": true
   },
   "outputs": [],
   "source": [
    "from keras import losses\n",
    "def customized_loss(y_true, y_pred):\n",
    "    #customize your own loss components\n",
    "    loss1 = losses.mean_absolute_error(y_true, y_pred)\n",
    "    loss2 = losses.kullback_leibler_divergence(y_true, y_pred)\n",
    "    #adjust the weight between loss components\n",
    "    return 0.0001*0.5 * loss1 + 3 * loss2"
   ]
  },
  {
   "cell_type": "code",
   "execution_count": 146,
   "metadata": {
    "collapsed": false
   },
   "outputs": [
    {
     "data": {
      "text/plain": [
       "((495, 4096), (495, 4096))"
      ]
     },
     "execution_count": 146,
     "metadata": {},
     "output_type": "execute_result"
    }
   ],
   "source": [
    "X_train = input_AE\n",
    "Y_train = contour_experts\n",
    "X_train.shape, Y_train.shape"
   ]
  },
  {
   "cell_type": "markdown",
   "metadata": {},
   "source": [
    "#### Model 1 : ROI + H1"
   ]
  },
  {
   "cell_type": "code",
   "execution_count": 125,
   "metadata": {
    "collapsed": true
   },
   "outputs": [
    {
     "name": "stdout",
     "output_type": "stream",
     "text": [
      "Epoch 1/100\n",
      "1s - loss: 66475.3537 - acc: 0.0000e+00\n",
      "Epoch 2/100\n",
      "0s - loss: 17511.4127 - acc: 0.0000e+00\n",
      "Epoch 3/100\n",
      "0s - loss: 13840.9514 - acc: 0.0000e+00\n",
      "Epoch 4/100\n",
      "0s - loss: 13287.6216 - acc: 0.0000e+00\n",
      "Epoch 5/100\n",
      "0s - loss: 13005.6408 - acc: 0.0000e+00\n",
      "Epoch 6/100\n",
      "0s - loss: 12826.6492 - acc: 0.0000e+00\n",
      "Epoch 7/100\n",
      "0s - loss: 12679.6496 - acc: 0.0000e+00\n",
      "Epoch 8/100\n",
      "0s - loss: 12603.0762 - acc: 0.0000e+00\n",
      "Epoch 9/100\n",
      "0s - loss: 12565.9792 - acc: 0.0000e+00\n",
      "Epoch 10/100\n",
      "0s - loss: 12525.8129 - acc: 0.0000e+00\n",
      "Epoch 11/100\n",
      "0s - loss: 12531.6671 - acc: 0.0000e+00\n",
      "Epoch 12/100\n",
      "0s - loss: 12482.5534 - acc: 0.0000e+00\n",
      "Epoch 13/100\n",
      "0s - loss: 11513.6298 - acc: 0.0000e+00\n",
      "Epoch 14/100\n",
      "0s - loss: 10376.1704 - acc: 0.0000e+00\n",
      "Epoch 15/100\n",
      "0s - loss: 9881.8180 - acc: 0.0000e+00\n",
      "Epoch 16/100\n",
      "0s - loss: 9667.3246 - acc: 0.0000e+00\n",
      "Epoch 17/100\n",
      "0s - loss: 9505.0425 - acc: 0.0000e+00\n",
      "Epoch 18/100\n",
      "0s - loss: 9272.0062 - acc: 0.0000e+00\n",
      "Epoch 19/100\n",
      "0s - loss: 9196.6287 - acc: 0.0000e+00\n",
      "Epoch 20/100\n",
      "0s - loss: 9150.6040 - acc: 0.0000e+00\n",
      "Epoch 21/100\n",
      "0s - loss: 9140.6136 - acc: 0.0000e+00\n",
      "Epoch 22/100\n",
      "0s - loss: 9097.6218 - acc: 0.0000e+00\n",
      "Epoch 23/100\n",
      "0s - loss: 9068.6951 - acc: 0.0000e+00\n",
      "Epoch 24/100\n",
      "0s - loss: 9052.0034 - acc: 0.0000e+00\n",
      "Epoch 25/100\n",
      "0s - loss: 9078.0761 - acc: 0.0000e+00\n",
      "Epoch 26/100\n",
      "0s - loss: 9045.9860 - acc: 0.0000e+00\n",
      "Epoch 27/100\n",
      "0s - loss: 9058.4965 - acc: 0.0000e+00\n",
      "Epoch 28/100\n",
      "0s - loss: 9068.7358 - acc: 0.0000e+00\n",
      "Epoch 29/100\n",
      "0s - loss: 9009.4510 - acc: 0.0000e+00\n",
      "Epoch 30/100\n",
      "0s - loss: 8985.4902 - acc: 0.0000e+00\n",
      "Epoch 31/100\n",
      "0s - loss: 9013.2565 - acc: 0.0000e+00\n",
      "Epoch 32/100\n",
      "0s - loss: 8899.1812 - acc: 0.0000e+00\n",
      "Epoch 33/100\n",
      "0s - loss: 8896.0531 - acc: 0.0000e+00\n",
      "Epoch 34/100\n",
      "0s - loss: 8907.9886 - acc: 0.0000e+00\n",
      "Epoch 35/100\n",
      "0s - loss: 8896.4104 - acc: 0.0000e+00\n",
      "Epoch 36/100\n",
      "0s - loss: 8920.0340 - acc: 0.0000e+00\n",
      "Epoch 37/100\n",
      "0s - loss: 8892.8171 - acc: 0.0000e+00\n",
      "Epoch 38/100\n",
      "0s - loss: 8862.0002 - acc: 0.0000e+00\n",
      "Epoch 39/100\n",
      "0s - loss: 8854.0562 - acc: 0.0000e+00\n",
      "Epoch 40/100\n",
      "0s - loss: 8819.6719 - acc: 0.0000e+00\n",
      "Epoch 41/100\n",
      "0s - loss: 8776.1780 - acc: 0.0000e+00\n",
      "Epoch 42/100\n",
      "0s - loss: 8747.5281 - acc: 0.0000e+00\n",
      "Epoch 43/100\n",
      "0s - loss: 8566.3615 - acc: 0.0000e+00\n",
      "Epoch 44/100\n",
      "0s - loss: 8296.0192 - acc: 0.0000e+00\n",
      "Epoch 45/100\n",
      "0s - loss: 8076.9909 - acc: 0.0000e+00\n",
      "Epoch 46/100\n",
      "0s - loss: 8034.1223 - acc: 0.0000e+00\n",
      "Epoch 47/100\n",
      "0s - loss: 8032.4592 - acc: 0.0000e+00\n",
      "Epoch 48/100\n",
      "0s - loss: 7997.5183 - acc: 0.0000e+00\n",
      "Epoch 49/100\n",
      "0s - loss: 7980.7202 - acc: 0.0000e+00\n",
      "Epoch 50/100\n",
      "0s - loss: 7982.3162 - acc: 0.0000e+00\n",
      "Epoch 51/100\n",
      "0s - loss: 7997.1362 - acc: 0.0000e+00\n",
      "Epoch 52/100\n",
      "0s - loss: 7980.6586 - acc: 0.0000e+00\n",
      "Epoch 53/100\n",
      "0s - loss: 7975.1110 - acc: 0.0000e+00\n",
      "Epoch 54/100\n",
      "0s - loss: 7938.7405 - acc: 0.0000e+00\n",
      "Epoch 55/100\n",
      "0s - loss: 7912.1415 - acc: 0.0000e+00\n",
      "Epoch 56/100\n",
      "0s - loss: 7870.3784 - acc: 0.0000e+00\n",
      "Epoch 57/100\n",
      "0s - loss: 7767.6532 - acc: 0.0000e+00\n",
      "Epoch 58/100\n",
      "0s - loss: 7692.8791 - acc: 0.0000e+00\n",
      "Epoch 59/100\n",
      "0s - loss: 7644.3419 - acc: 0.0000e+00\n",
      "Epoch 60/100\n",
      "0s - loss: 7599.1060 - acc: 0.0000e+00\n",
      "Epoch 61/100\n",
      "0s - loss: 7601.9711 - acc: 0.0000e+00\n",
      "Epoch 62/100\n",
      "0s - loss: 7586.5890 - acc: 0.0000e+00\n",
      "Epoch 63/100\n",
      "1s - loss: 7181.9354 - acc: 0.0000e+00\n",
      "Epoch 64/100\n",
      "0s - loss: 5934.7983 - acc: 0.0000e+00\n",
      "Epoch 65/100\n",
      "0s - loss: 5189.2266 - acc: 0.0000e+00\n",
      "Epoch 66/100\n",
      "0s - loss: 4988.7160 - acc: 0.0000e+00\n",
      "Epoch 67/100\n",
      "0s - loss: 4872.6395 - acc: 0.0000e+00\n",
      "Epoch 68/100\n",
      "0s - loss: 4709.4733 - acc: 0.0000e+00\n",
      "Epoch 69/100\n",
      "0s - loss: 4633.1295 - acc: 0.0000e+00\n",
      "Epoch 70/100\n",
      "0s - loss: 4529.8373 - acc: 0.0000e+00\n",
      "Epoch 71/100\n",
      "1s - loss: 4305.4957 - acc: 0.0000e+00\n",
      "Epoch 72/100\n",
      "0s - loss: 4167.3136 - acc: 0.0000e+00\n",
      "Epoch 73/100\n",
      "0s - loss: 4170.0319 - acc: 0.0000e+00\n",
      "Epoch 74/100\n",
      "0s - loss: 4125.0881 - acc: 0.0000e+00\n",
      "Epoch 75/100\n",
      "0s - loss: 4102.6601 - acc: 0.0000e+00\n",
      "Epoch 76/100\n",
      "0s - loss: 4092.9687 - acc: 0.0000e+00\n",
      "Epoch 77/100\n",
      "0s - loss: 3998.9773 - acc: 0.0000e+00\n",
      "Epoch 78/100\n",
      "0s - loss: 3787.3711 - acc: 0.0000e+00\n",
      "Epoch 79/100\n",
      "0s - loss: 3738.8259 - acc: 0.0000e+00\n",
      "Epoch 80/100\n",
      "0s - loss: 3736.7630 - acc: 0.0000e+00\n",
      "Epoch 81/100\n",
      "0s - loss: 3715.9241 - acc: 0.0000e+00\n",
      "Epoch 82/100\n",
      "0s - loss: 3590.5950 - acc: 0.0000e+00\n",
      "Epoch 83/100\n",
      "0s - loss: 3543.0586 - acc: 0.0000e+00\n",
      "Epoch 84/100\n",
      "0s - loss: 3488.5500 - acc: 0.0000e+00\n",
      "Epoch 85/100\n",
      "0s - loss: 3415.9295 - acc: 0.0000e+00\n",
      "Epoch 86/100\n",
      "0s - loss: 3394.0677 - acc: 0.0000e+00\n",
      "Epoch 87/100\n",
      "0s - loss: 3402.6476 - acc: 0.0000e+00\n",
      "Epoch 88/100\n",
      "0s - loss: 3413.0818 - acc: 0.0000e+00\n",
      "Epoch 89/100\n",
      "0s - loss: 3414.3062 - acc: 0.0000e+00\n",
      "Epoch 90/100\n",
      "0s - loss: 3402.0730 - acc: 0.0000e+00\n",
      "Epoch 91/100\n",
      "0s - loss: 3396.2477 - acc: 0.0000e+00\n",
      "Epoch 92/100\n",
      "0s - loss: 3405.1503 - acc: 0.0000e+00\n",
      "Epoch 93/100\n",
      "0s - loss: 3405.3928 - acc: 0.0000e+00\n",
      "Epoch 94/100\n",
      "0s - loss: 3395.9663 - acc: 0.0000e+00\n",
      "Epoch 95/100\n",
      "0s - loss: 3394.6987 - acc: 0.0000e+00\n",
      "Epoch 96/100\n",
      "0s - loss: 3401.0506 - acc: 0.0000e+00\n",
      "Epoch 97/100\n",
      "0s - loss: 3403.6285 - acc: 0.0000e+00\n",
      "Epoch 98/100\n",
      "0s - loss: 3347.8257 - acc: 0.0000e+00\n",
      "Epoch 99/100\n",
      "0s - loss: 3352.0005 - acc: 0.0000e+00\n",
      "Epoch 100/100\n",
      "0s - loss: 3329.5954 - acc: 0.0000e+00\n"
     ]
    },
    {
     "name": "stderr",
     "output_type": "stream",
     "text": [
      "//anaconda/lib/python3.5/site-packages/ipykernel/__main__.py:4: UserWarning: Update your `Dense` call to the Keras 2 API: `Dense(input_dim=4096, units=100, kernel_regularizer=<keras.reg...)`\n",
      "//anaconda/lib/python3.5/site-packages/ipykernel/__main__.py:5: UserWarning: Update your `Dense` call to the Keras 2 API: `Dense(input_dim=100, units=4096, kernel_regularizer=<keras.reg...)`\n",
      "//anaconda/lib/python3.5/site-packages/ipykernel/__main__.py:10: UserWarning: Update your `Dense` call to the Keras 2 API: `Dense(input_dim=4096, units=100, kernel_regularizer=<keras.reg...)`\n",
      "//anaconda/lib/python3.5/site-packages/ipykernel/__main__.py:11: UserWarning: Update your `Dense` call to the Keras 2 API: `Dense(input_dim=100, units=4096, kernel_regularizer=<keras.reg...)`\n",
      "//anaconda/lib/python3.5/site-packages/ipykernel/__main__.py:21: UserWarning: Update your `Dense` call to the Keras 2 API: `Dense(input_dim=100, units=100, kernel_regularizer=<keras.reg...)`\n"
     ]
    },
    {
     "name": "stdout",
     "output_type": "stream",
     "text": [
      "Epoch 1/100\n",
      "0s - loss: 1083.9213 - acc: 0.0040\n",
      "Epoch 2/100\n",
      "0s - loss: 826.2228 - acc: 0.0061\n",
      "Epoch 3/100\n",
      "0s - loss: 571.3735 - acc: 0.0162\n",
      "Epoch 4/100\n",
      "0s - loss: 415.9060 - acc: 0.0182\n",
      "Epoch 5/100\n",
      "0s - loss: 309.1502 - acc: 0.0081\n",
      "Epoch 6/100\n",
      "0s - loss: 254.6192 - acc: 0.0000e+00\n",
      "Epoch 7/100\n",
      "0s - loss: 198.9047 - acc: 0.0000e+00\n",
      "Epoch 8/100\n",
      "0s - loss: 149.8147 - acc: 0.0000e+00\n",
      "Epoch 9/100\n",
      "0s - loss: 145.1217 - acc: 0.0000e+00\n",
      "Epoch 10/100\n",
      "0s - loss: 136.6178 - acc: 0.0000e+00\n",
      "Epoch 11/100\n",
      "0s - loss: 133.8827 - acc: 0.0000e+00\n",
      "Epoch 12/100\n",
      "0s - loss: 132.8111 - acc: 0.0000e+00\n",
      "Epoch 13/100\n",
      "0s - loss: 131.9349 - acc: 0.0000e+00\n",
      "Epoch 14/100\n",
      "0s - loss: 129.1801 - acc: 0.0000e+00\n",
      "Epoch 15/100\n",
      "0s - loss: 127.0355 - acc: 0.0000e+00\n",
      "Epoch 16/100\n",
      "0s - loss: 124.9785 - acc: 0.0000e+00\n",
      "Epoch 17/100\n",
      "0s - loss: 124.5866 - acc: 0.0000e+00\n",
      "Epoch 18/100\n",
      "0s - loss: 124.3960 - acc: 0.0000e+00\n",
      "Epoch 19/100\n",
      "0s - loss: 124.4888 - acc: 0.0000e+00\n",
      "Epoch 20/100\n",
      "0s - loss: 121.0760 - acc: 0.0000e+00\n",
      "Epoch 21/100\n",
      "0s - loss: 91.6876 - acc: 0.0000e+00\n",
      "Epoch 22/100\n",
      "0s - loss: 88.2479 - acc: 0.0000e+00\n",
      "Epoch 23/100\n",
      "0s - loss: 88.4510 - acc: 0.0000e+00\n",
      "Epoch 24/100\n",
      "0s - loss: 88.4435 - acc: 0.0000e+00\n",
      "Epoch 25/100\n",
      "0s - loss: 87.8703 - acc: 0.0000e+00\n",
      "Epoch 26/100\n",
      "0s - loss: 66.7579 - acc: 0.0000e+00\n",
      "Epoch 27/100\n",
      "0s - loss: 65.1955 - acc: 0.0000e+00\n",
      "Epoch 28/100\n",
      "0s - loss: 63.9277 - acc: 0.0000e+00\n",
      "Epoch 29/100\n",
      "0s - loss: 63.7334 - acc: 0.0000e+00\n",
      "Epoch 30/100\n",
      "0s - loss: 63.5425 - acc: 0.0000e+00\n",
      "Epoch 31/100\n",
      "0s - loss: 63.2410 - acc: 0.0020\n",
      "Epoch 32/100\n",
      "0s - loss: 63.2411 - acc: 0.0162\n",
      "Epoch 33/100\n",
      "0s - loss: 63.2410 - acc: 0.0202\n",
      "Epoch 34/100\n",
      "0s - loss: 63.2410 - acc: 0.0202\n",
      "Epoch 35/100\n",
      "0s - loss: 63.2410 - acc: 0.0202\n",
      "Epoch 36/100\n",
      "0s - loss: 63.2409 - acc: 0.0202\n",
      "Epoch 37/100\n",
      "0s - loss: 63.2409 - acc: 0.0202\n",
      "Epoch 38/100\n",
      "0s - loss: 63.2409 - acc: 0.0202\n",
      "Epoch 39/100\n",
      "0s - loss: 63.2408 - acc: 0.0202\n",
      "Epoch 40/100\n",
      "0s - loss: 63.2408 - acc: 0.0202\n",
      "Epoch 41/100\n",
      "0s - loss: 63.2407 - acc: 0.0202\n",
      "Epoch 42/100\n",
      "0s - loss: 63.2407 - acc: 0.0202\n",
      "Epoch 43/100\n",
      "0s - loss: 63.2407 - acc: 0.0202\n",
      "Epoch 44/100\n",
      "0s - loss: 63.2406 - acc: 0.0222\n",
      "Epoch 45/100\n",
      "0s - loss: 63.2406 - acc: 0.0222\n",
      "Epoch 46/100\n",
      "0s - loss: 63.2405 - acc: 0.0222\n",
      "Epoch 47/100\n",
      "0s - loss: 63.2405 - acc: 0.0283\n",
      "Epoch 48/100\n",
      "0s - loss: 63.2405 - acc: 0.0283\n",
      "Epoch 49/100\n",
      "0s - loss: 63.2404 - acc: 0.0283\n",
      "Epoch 50/100\n",
      "0s - loss: 63.2404 - acc: 0.0283\n",
      "Epoch 51/100\n",
      "0s - loss: 63.2403 - acc: 0.0283\n",
      "Epoch 52/100\n",
      "0s - loss: 63.2403 - acc: 0.0283\n",
      "Epoch 53/100\n",
      "0s - loss: 63.2402 - acc: 0.0283\n",
      "Epoch 54/100\n",
      "0s - loss: 63.2402 - acc: 0.0283\n",
      "Epoch 55/100\n",
      "0s - loss: 63.2402 - acc: 0.0283\n",
      "Epoch 56/100\n",
      "0s - loss: 63.2401 - acc: 0.0283\n",
      "Epoch 57/100\n",
      "0s - loss: 63.2401 - acc: 0.0283\n",
      "Epoch 58/100\n",
      "0s - loss: 63.2400 - acc: 0.0283\n",
      "Epoch 59/100\n",
      "0s - loss: 63.2400 - acc: 0.0283\n",
      "Epoch 60/100\n",
      "0s - loss: 63.2399 - acc: 0.0283\n",
      "Epoch 61/100\n",
      "0s - loss: 63.2399 - acc: 0.0283\n",
      "Epoch 62/100\n",
      "0s - loss: 63.2398 - acc: 0.0283\n",
      "Epoch 63/100\n",
      "0s - loss: 63.2398 - acc: 0.0283\n",
      "Epoch 64/100\n",
      "0s - loss: 63.2397 - acc: 0.0283\n",
      "Epoch 65/100\n",
      "0s - loss: 63.2486 - acc: 0.0283\n",
      "Epoch 66/100\n",
      "0s - loss: 63.9237 - acc: 0.0182\n",
      "Epoch 67/100\n",
      "0s - loss: 64.3169 - acc: 0.0000e+00\n",
      "Epoch 68/100\n",
      "0s - loss: 64.9987 - acc: 0.0000e+00\n",
      "Epoch 69/100\n",
      "0s - loss: 64.9987 - acc: 0.0000e+00\n",
      "Epoch 70/100\n",
      "0s - loss: 64.9987 - acc: 0.0000e+00\n",
      "Epoch 71/100\n",
      "0s - loss: 64.9986 - acc: 0.0000e+00\n",
      "Epoch 72/100\n",
      "0s - loss: 64.9986 - acc: 0.0000e+00\n",
      "Epoch 73/100\n",
      "0s - loss: 64.9985 - acc: 0.0000e+00\n",
      "Epoch 74/100\n",
      "0s - loss: 64.9985 - acc: 0.0000e+00\n",
      "Epoch 75/100\n",
      "0s - loss: 64.9984 - acc: 0.0000e+00\n",
      "Epoch 76/100\n",
      "0s - loss: 64.9984 - acc: 0.0000e+00\n",
      "Epoch 77/100\n",
      "0s - loss: 64.9983 - acc: 0.0000e+00\n",
      "Epoch 78/100\n",
      "0s - loss: 64.9982 - acc: 0.0000e+00\n",
      "Epoch 79/100\n",
      "0s - loss: 64.9982 - acc: 0.0000e+00\n",
      "Epoch 80/100\n",
      "0s - loss: 64.9981 - acc: 0.0000e+00\n",
      "Epoch 81/100\n",
      "0s - loss: 64.9981 - acc: 0.0000e+00\n",
      "Epoch 82/100\n",
      "0s - loss: 64.9980 - acc: 0.0000e+00\n",
      "Epoch 83/100\n",
      "0s - loss: 64.9980 - acc: 0.0000e+00\n",
      "Epoch 84/100\n",
      "0s - loss: 64.9979 - acc: 0.0000e+00\n",
      "Epoch 85/100\n",
      "0s - loss: 64.9979 - acc: 0.0000e+00\n",
      "Epoch 86/100\n",
      "0s - loss: 64.9978 - acc: 0.0000e+00\n",
      "Epoch 87/100\n",
      "0s - loss: 64.9977 - acc: 0.0000e+00\n",
      "Epoch 88/100\n",
      "0s - loss: 64.9977 - acc: 0.0000e+00\n",
      "Epoch 89/100\n",
      "0s - loss: 64.9976 - acc: 0.0000e+00\n",
      "Epoch 90/100\n",
      "0s - loss: 64.9976 - acc: 0.0000e+00\n",
      "Epoch 91/100\n",
      "0s - loss: 64.9975 - acc: 0.0000e+00\n",
      "Epoch 92/100\n",
      "0s - loss: 64.9974 - acc: 0.0000e+00\n",
      "Epoch 93/100\n",
      "0s - loss: 64.9974 - acc: 0.0000e+00\n",
      "Epoch 94/100\n",
      "0s - loss: 64.9973 - acc: 0.0000e+00\n",
      "Epoch 95/100\n",
      "0s - loss: 64.9973 - acc: 0.0000e+00\n",
      "Epoch 96/100\n",
      "0s - loss: 64.9972 - acc: 0.0000e+00\n",
      "Epoch 97/100\n",
      "0s - loss: 64.9971 - acc: 0.0000e+00\n",
      "Epoch 98/100\n",
      "0s - loss: 64.9971 - acc: 0.0000e+00\n",
      "Epoch 99/100\n",
      "0s - loss: 64.9970 - acc: 0.0000e+00\n",
      "Epoch 100/100\n",
      "0s - loss: 64.9969 - acc: 0.0000e+00\n"
     ]
    },
    {
     "name": "stderr",
     "output_type": "stream",
     "text": [
      "//anaconda/lib/python3.5/site-packages/ipykernel/__main__.py:22: UserWarning: Update your `Dense` call to the Keras 2 API: `Dense(input_dim=100, units=100, kernel_regularizer=<keras.reg...)`\n",
      "//anaconda/lib/python3.5/site-packages/ipykernel/__main__.py:27: UserWarning: Update your `Dense` call to the Keras 2 API: `Dense(input_dim=100, units=100, kernel_regularizer=<keras.reg...)`\n",
      "//anaconda/lib/python3.5/site-packages/ipykernel/__main__.py:28: UserWarning: Update your `Dense` call to the Keras 2 API: `Dense(input_dim=100, units=100, kernel_regularizer=<keras.reg...)`\n"
     ]
    }
   ],
   "source": [
    "autoencoder_0 = Sequential()\n",
    "autoencoder_0.add(Dense(input_dim = 4096, output_dim = 100, kernel_regularizer=regularizers.l2(3*0.001)))\n",
    "autoencoder_0.add(Dense(input_dim = 100, output_dim = 4096, kernel_regularizer=regularizers.l2(3*0.001)))\n",
    "autoencoder_0.compile(loss= customized_loss,\n",
    "              optimizer='adam', metrics=['accuracy'])\n",
    "autoencoder_0.fit(input_AE, input_AE, epochs=100, verbose=2)\n",
    "\n",
    "encoder_0 = Dense(input_dim = 4096, output_dim = 100, kernel_regularizer=regularizers.l2(3*0.001))\n",
    "decoder_0 = Dense(input_dim = 100, output_dim = 4096, kernel_regularizer=regularizers.l2(3*0.001))\n",
    "\n",
    "temp_0 = Sequential()\n",
    "temp_0.add(encoder_0)\n",
    "temp_0.compile(loss= customized_loss,\n",
    "              optimizer='adam', metrics=['accuracy'])\n",
    "X_train_1 = temp_0.predict(X_train)"
   ]
  },
  {
   "cell_type": "code",
   "execution_count": 175,
   "metadata": {
    "collapsed": false
   },
   "outputs": [
    {
     "name": "stdout",
     "output_type": "stream",
     "text": [
      "dense_40 (None, 4096) (None, 100)\n",
      "dense_41 (None, 100) (None, 4096)\n"
     ]
    }
   ],
   "source": [
    "for p in autoencoder_0.layers:\n",
    "    print(p.name, p.input_shape, p.output_shape)"
   ]
  },
  {
   "cell_type": "markdown",
   "metadata": {},
   "source": [
    "#### Model 2 : H1 + H2"
   ]
  },
  {
   "cell_type": "code",
   "execution_count": null,
   "metadata": {
    "collapsed": true
   },
   "outputs": [],
   "source": [
    "autoencoder_1 = Sequential()\n",
    "autoencoder_1.add(Dense(input_dim = 100, output_dim = 100, kernel_regularizer=regularizers.l2(3*0.001)))\n",
    "autoencoder_1.add(Dense(input_dim = 100, output_dim = 100, kernel_regularizer=regularizers.l2(3*0.001)))\n",
    "autoencoder_1.compile(loss= customized_loss,\n",
    "              optimizer='adam', metrics=['accuracy'])\n",
    "autoencoder_1.fit(X_train_1, X_train_1, epochs=100, verbose=2)\n",
    "\n",
    "encoder_1 = Dense(input_dim = 100, output_dim = 100, kernel_regularizer=regularizers.l2(3*0.001))\n",
    "decoder_1 = Dense(input_dim = 100, output_dim = 100, kernel_regularizer=regularizers.l2(3*0.001))"
   ]
  },
  {
   "cell_type": "code",
   "execution_count": 176,
   "metadata": {
    "collapsed": false
   },
   "outputs": [
    {
     "name": "stdout",
     "output_type": "stream",
     "text": [
      "dense_44 (None, 100) (None, 100)\n",
      "dense_45 (None, 100) (None, 100)\n"
     ]
    }
   ],
   "source": [
    "for p in autoencoder_1.layers:\n",
    "    print(p.name, p.input_shape, p.output_shape)"
   ]
  },
  {
   "cell_type": "markdown",
   "metadata": {},
   "source": [
    "#### Model 3 : H1 + Annotated contours"
   ]
  },
  {
   "cell_type": "code",
   "execution_count": 147,
   "metadata": {
    "collapsed": true
   },
   "outputs": [
    {
     "name": "stdout",
     "output_type": "stream",
     "text": [
      "Epoch 1/100\n",
      "1s - loss: 27.7172 - acc: 0.0000e+00\n",
      "Epoch 2/100\n",
      "0s - loss: 4.2456 - acc: 0.0000e+00\n",
      "Epoch 3/100\n",
      "0s - loss: 1.7424 - acc: 0.0020\n",
      "Epoch 4/100\n",
      "0s - loss: 1.1157 - acc: 0.0040\n",
      "Epoch 5/100\n",
      "0s - loss: 0.8360 - acc: 0.0020\n",
      "Epoch 6/100\n",
      "0s - loss: 0.7423 - acc: 0.0000e+00\n",
      "Epoch 7/100\n",
      "0s - loss: 0.6744 - acc: 0.0000e+00\n",
      "Epoch 8/100\n",
      "0s - loss: 0.6728 - acc: 0.0020\n",
      "Epoch 9/100\n",
      "0s - loss: 0.6640 - acc: 0.0000e+00\n",
      "Epoch 10/100\n",
      "0s - loss: 0.6477 - acc: 0.0000e+00\n",
      "Epoch 11/100\n",
      "0s - loss: 0.6467 - acc: 0.0020\n",
      "Epoch 12/100\n",
      "0s - loss: 0.6470 - acc: 0.0000e+00\n",
      "Epoch 13/100\n",
      "0s - loss: 0.6308 - acc: 0.0020\n",
      "Epoch 14/100\n",
      "0s - loss: 0.6354 - acc: 0.0020\n",
      "Epoch 15/100\n",
      "0s - loss: 0.6419 - acc: 0.0020\n",
      "Epoch 16/100\n",
      "0s - loss: 0.6433 - acc: 0.0000e+00\n",
      "Epoch 17/100\n",
      "0s - loss: 0.6206 - acc: 0.0040\n",
      "Epoch 18/100\n",
      "0s - loss: 0.6246 - acc: 0.0000e+00\n",
      "Epoch 19/100\n",
      "0s - loss: 0.6067 - acc: 0.0020\n",
      "Epoch 20/100\n",
      "0s - loss: 0.5989 - acc: 0.0000e+00\n",
      "Epoch 21/100\n",
      "0s - loss: 0.5963 - acc: 0.0000e+00\n",
      "Epoch 22/100\n",
      "0s - loss: 0.5942 - acc: 0.0020\n",
      "Epoch 23/100\n",
      "0s - loss: 0.5922 - acc: 0.0000e+00\n",
      "Epoch 24/100\n",
      "0s - loss: 0.5922 - acc: 0.0000e+00\n",
      "Epoch 25/100\n",
      "0s - loss: 0.5879 - acc: 0.0040\n",
      "Epoch 26/100\n",
      "0s - loss: 0.5859 - acc: 0.0000e+00\n",
      "Epoch 27/100\n",
      "0s - loss: 0.5852 - acc: 0.0020\n",
      "Epoch 28/100\n",
      "0s - loss: 0.5830 - acc: 0.0061\n",
      "Epoch 29/100\n",
      "0s - loss: 0.5815 - acc: 0.0040\n",
      "Epoch 30/100\n",
      "0s - loss: 0.5835 - acc: 0.0020\n",
      "Epoch 31/100\n",
      "0s - loss: 0.5803 - acc: 0.0040\n",
      "Epoch 32/100\n",
      "0s - loss: 0.5808 - acc: 0.0020\n",
      "Epoch 33/100\n",
      "0s - loss: 0.5846 - acc: 0.0020\n",
      "Epoch 34/100\n",
      "0s - loss: 0.5887 - acc: 0.0020\n",
      "Epoch 35/100\n",
      "0s - loss: 0.5857 - acc: 0.0040\n",
      "Epoch 36/100\n",
      "0s - loss: 0.5957 - acc: 0.0040\n",
      "Epoch 37/100\n",
      "0s - loss: 0.5931 - acc: 0.0020\n",
      "Epoch 38/100\n",
      "0s - loss: 0.5915 - acc: 0.0020\n",
      "Epoch 39/100\n",
      "0s - loss: 0.5767 - acc: 0.0020\n",
      "Epoch 40/100\n",
      "0s - loss: 0.5981 - acc: 0.0000e+00\n",
      "Epoch 41/100\n",
      "0s - loss: 0.5718 - acc: 0.0000e+00\n",
      "Epoch 42/100\n",
      "0s - loss: 0.5676 - acc: 0.0000e+00\n",
      "Epoch 43/100\n",
      "0s - loss: 0.5621 - acc: 0.0040\n",
      "Epoch 44/100\n",
      "0s - loss: 0.5588 - acc: 0.0040\n",
      "Epoch 45/100\n",
      "0s - loss: 0.5565 - acc: 0.0040\n",
      "Epoch 46/100\n",
      "0s - loss: 0.5547 - acc: 0.0020\n",
      "Epoch 47/100\n",
      "0s - loss: 0.5532 - acc: 0.0040\n",
      "Epoch 48/100\n",
      "0s - loss: 0.5516 - acc: 0.0040\n",
      "Epoch 49/100\n",
      "0s - loss: 0.5498 - acc: 0.0040\n",
      "Epoch 50/100\n",
      "0s - loss: 0.5485 - acc: 0.0040\n",
      "Epoch 51/100\n",
      "0s - loss: 0.5470 - acc: 0.0040\n",
      "Epoch 52/100\n",
      "0s - loss: 0.5453 - acc: 0.0040\n",
      "Epoch 53/100\n",
      "0s - loss: 0.5436 - acc: 0.0020\n",
      "Epoch 54/100\n",
      "0s - loss: 0.5417 - acc: 0.0040\n",
      "Epoch 55/100\n",
      "0s - loss: 0.5399 - acc: 0.0040\n",
      "Epoch 56/100\n",
      "0s - loss: 0.5383 - acc: 0.0040\n",
      "Epoch 57/100\n",
      "0s - loss: 0.5367 - acc: 0.0040\n",
      "Epoch 58/100\n",
      "0s - loss: 0.5350 - acc: 0.0040\n",
      "Epoch 59/100\n",
      "0s - loss: 0.5332 - acc: 0.0040\n",
      "Epoch 60/100\n",
      "0s - loss: 0.5314 - acc: 0.0040\n",
      "Epoch 61/100\n",
      "0s - loss: 0.5296 - acc: 0.0040\n",
      "Epoch 62/100\n",
      "0s - loss: 0.5280 - acc: 0.0040\n",
      "Epoch 63/100\n",
      "0s - loss: 0.5262 - acc: 0.0040\n",
      "Epoch 64/100\n",
      "0s - loss: 0.5243 - acc: 0.0040\n",
      "Epoch 65/100\n",
      "0s - loss: 0.5225 - acc: 0.0040\n",
      "Epoch 66/100\n",
      "0s - loss: 0.5208 - acc: 0.0040\n",
      "Epoch 67/100\n",
      "0s - loss: 0.5191 - acc: 0.0040\n",
      "Epoch 68/100\n",
      "0s - loss: 0.5173 - acc: 0.0040\n",
      "Epoch 69/100\n",
      "0s - loss: 0.5155 - acc: 0.0040\n",
      "Epoch 70/100\n",
      "0s - loss: 0.5136 - acc: 0.0040\n",
      "Epoch 71/100\n",
      "0s - loss: 0.5117 - acc: 0.0040\n",
      "Epoch 72/100\n",
      "0s - loss: 0.5100 - acc: 0.0040\n",
      "Epoch 73/100\n",
      "0s - loss: 0.5081 - acc: 0.0040\n",
      "Epoch 74/100\n",
      "0s - loss: 0.5063 - acc: 0.0040\n",
      "Epoch 75/100\n",
      "0s - loss: 0.5045 - acc: 0.0040\n",
      "Epoch 76/100\n",
      "0s - loss: 0.5025 - acc: 0.0040\n",
      "Epoch 77/100\n",
      "0s - loss: 0.5006 - acc: 0.0040\n",
      "Epoch 78/100\n",
      "0s - loss: 0.4988 - acc: 0.0040\n",
      "Epoch 79/100\n",
      "0s - loss: 0.4969 - acc: 0.0040\n",
      "Epoch 80/100\n",
      "0s - loss: 0.4949 - acc: 0.0040\n",
      "Epoch 81/100\n",
      "0s - loss: 0.4931 - acc: 0.0040\n",
      "Epoch 82/100\n",
      "0s - loss: 0.4911 - acc: 0.0040\n",
      "Epoch 83/100\n",
      "0s - loss: 0.4892 - acc: 0.0040\n",
      "Epoch 84/100\n",
      "0s - loss: 0.4873 - acc: 0.0040\n",
      "Epoch 85/100\n",
      "0s - loss: 0.4854 - acc: 0.0040\n",
      "Epoch 86/100\n",
      "0s - loss: 0.4834 - acc: 0.0040\n",
      "Epoch 87/100\n",
      "0s - loss: 0.4814 - acc: 0.0040\n",
      "Epoch 88/100\n",
      "0s - loss: 0.4794 - acc: 0.0040\n",
      "Epoch 89/100\n",
      "0s - loss: 0.4776 - acc: 0.0040\n",
      "Epoch 90/100\n",
      "0s - loss: 0.4755 - acc: 0.0040\n",
      "Epoch 91/100\n",
      "0s - loss: 0.4735 - acc: 0.0040\n",
      "Epoch 92/100\n",
      "0s - loss: 0.4715 - acc: 0.0040\n",
      "Epoch 93/100\n",
      "0s - loss: 0.4696 - acc: 0.0040\n",
      "Epoch 94/100\n",
      "0s - loss: 0.4676 - acc: 0.0040\n",
      "Epoch 95/100\n",
      "0s - loss: 0.4655 - acc: 0.0040\n",
      "Epoch 96/100\n",
      "0s - loss: 0.4636 - acc: 0.0040\n",
      "Epoch 97/100\n",
      "0s - loss: 0.4618 - acc: 0.0040\n",
      "Epoch 98/100\n",
      "0s - loss: 0.4597 - acc: 0.0040\n",
      "Epoch 99/100\n",
      "0s - loss: 0.4574 - acc: 0.0040\n",
      "Epoch 100/100\n",
      "0s - loss: 0.4557 - acc: 0.0040\n"
     ]
    },
    {
     "name": "stderr",
     "output_type": "stream",
     "text": [
      "//anaconda/lib/python3.5/site-packages/ipykernel/__main__.py:4: UserWarning: Update your `Dense` call to the Keras 2 API: `Dense(kernel_initializer=\"zero\", units=4096, kernel_regularizer=<keras.reg..., input_dim=100)`\n"
     ]
    }
   ],
   "source": [
    "model = Sequential()\n",
    "model.add(encoder_0)\n",
    "model.add(encoder_1)\n",
    "model.add(Dense(input_dim = 100, output_dim = 4096, init = 'zero', kernel_regularizer=regularizers.l2(3*0.001)))\n",
    "model.compile(optimizer = 'adam', loss = \"MSE\", metrics=['accuracy'])\n",
    "\n",
    "h = model.fit(X_train, Y_train,\n",
    "          epochs=100, \n",
    "          verbose=2)"
   ]
  },
  {
   "cell_type": "code",
   "execution_count": 177,
   "metadata": {
    "collapsed": false
   },
   "outputs": [
    {
     "name": "stdout",
     "output_type": "stream",
     "text": [
      "dense_42 (None, 4096) (None, 100)\n",
      "dense_46 (None, 100) (None, 100)\n",
      "dense_54 (None, 100) (None, 4096)\n"
     ]
    }
   ],
   "source": [
    "for p in model.layers:\n",
    "    print(p.name, p.input_shape, p.output_shape)"
   ]
  },
  {
   "cell_type": "code",
   "execution_count": 148,
   "metadata": {
    "collapsed": false
   },
   "outputs": [
    {
     "data": {
      "text/plain": [
       "Text(0.5,0,'epochs')"
      ]
     },
     "execution_count": 148,
     "metadata": {},
     "output_type": "execute_result"
    },
    {
     "data": {
      "image/png": "[encoded data removed]",
      "text/plain": [
       "<matplotlib.figure.Figure at 0x159441860>"
      ]
     },
     "metadata": {},
     "output_type": "display_data"
    }
   ],
   "source": [
    "metric = 'loss'\n",
    "plt.plot(range(len(h.history[metric])), h.history[metric])\n",
    "plt.ylabel(metric)\n",
    "plt.xlabel('epochs')"
   ]
  },
  {
   "cell_type": "markdown",
   "metadata": {},
   "source": [
    "#### Prediction"
   ]
  },
  {
   "cell_type": "code",
   "execution_count": 150,
   "metadata": {
    "collapsed": false
   },
   "outputs": [
    {
     "data": {
      "text/plain": [
       "(495, 4096)"
      ]
     },
     "execution_count": 150,
     "metadata": {},
     "output_type": "execute_result"
    }
   ],
   "source": [
    "l3_pred = model.predict(X_train)\n",
    "l3_pred.shape"
   ]
  },
  {
   "cell_type": "code",
   "execution_count": 166,
   "metadata": {
    "collapsed": false
   },
   "outputs": [
    {
     "data": {
      "text/plain": [
       "<matplotlib.image.AxesImage at 0x15c08add8>"
      ]
     },
     "execution_count": 166,
     "metadata": {},
     "output_type": "execute_result"
    },
    {
     "data": {
      "image/png": "[encoded data removed]",
      "text/plain": [
       "<matplotlib.figure.Figure at 0x15bff9860>"
      ]
     },
     "metadata": {},
     "output_type": "display_data"
    }
   ],
   "source": [
    "j = 1\n",
    "# select one predicted ROI\n",
    "pred3 = l3_pred[j].reshape((64,64))\n",
    "p = cv2.threshold(pred3, 0, 1, cv2.INTER_AREA)\n",
    "plt.imshow(p[1])"
   ]
  },
  {
   "cell_type": "code",
   "execution_count": 174,
   "metadata": {
    "collapsed": false
   },
   "outputs": [
    {
     "data": {
      "text/plain": [
       "<matplotlib.image.AxesImage at 0x15c38ae10>"
      ]
     },
     "execution_count": 174,
     "metadata": {},
     "output_type": "execute_result"
    },
    {
     "data": {
      "image/png": "[encoded data removed]",
      "text/plain": [
       "<matplotlib.figure.Figure at 0x15c323908>"
      ]
     },
     "metadata": {},
     "output_type": "display_data"
    }
   ],
   "source": [
    "j = 1\n",
    "# select one predicted ROI\n",
    "pred3 = l3_pred[j].reshape((64,64))\n",
    "p = cv2.threshold(pred3, 0, 1, cv2.INTERSECT_NONE)\n",
    "plt.imshow(p[1])"
   ]
  },
  {
   "cell_type": "code",
   "execution_count": 162,
   "metadata": {
    "collapsed": false
   },
   "outputs": [
    {
     "data": {
      "text/plain": [
       "<matplotlib.image.AxesImage at 0x15be98710>"
      ]
     },
     "execution_count": 162,
     "metadata": {},
     "output_type": "execute_result"
    },
    {
     "data": {
      "image/png": "[encoded data removed]",
      "text/plain": [
       "<matplotlib.figure.Figure at 0x15adcc160>"
      ]
     },
     "metadata": {},
     "output_type": "display_data"
    }
   ],
   "source": [
    "plt.imshow(input_AE[1].reshape(64,64))"
   ]
  }
 ],
 "metadata": {
  "kernelspec": {
   "display_name": "Python 3",
   "language": "python",
   "name": "python3"
  },
  "language_info": {
   "codemirror_mode": {
    "name": "ipython",
    "version": 3
   },
   "file_extension": ".py",
   "mimetype": "text/x-python",
   "name": "python",
   "nbconvert_exporter": "python",
   "pygments_lexer": "ipython3",
   "version": "3.5.4"
  }
 },
 "nbformat": 4,
 "nbformat_minor": 0
}
