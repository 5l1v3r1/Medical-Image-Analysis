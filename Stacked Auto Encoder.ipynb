{
 "cells": [
  {
   "cell_type": "code",
   "execution_count": 1,
   "metadata": {
    "collapsed": false
   },
   "outputs": [
    {
     "name": "stderr",
     "output_type": "stream",
     "text": [
      "Using TensorFlow backend.\n",
      "/Users/sharonedayan/tensorflow/lib/python3.5/site-packages/dicom/__init__.py:53: UserWarning: \n",
      "This code is using an older version of pydicom, which is no longer \n",
      "maintained as of Jan 2017.  You can access the new pydicom features and API \n",
      "by installing `pydicom` from PyPI.\n",
      "See 'Transitioning to pydicom 1.x' section at pydicom.readthedocs.org \n",
      "for more information.\n",
      "\n",
      "  warnings.warn(msg)\n"
     ]
    }
   ],
   "source": [
    "import keras\n",
    "from keras.preprocessing.image import ImageDataGenerator\n",
    "from keras.models import Model,Sequential\n",
    "from keras.layers import Input,Dense, Dropout, Activation, Flatten, Reshape\n",
    "from keras.layers import Conv2D, MaxPooling2D, AveragePooling2D\n",
    "from keras.layers.pooling import GlobalAveragePooling2D\n",
    "from keras.layers import Embedding\n",
    "from keras import regularizers\n",
    "from keras.losses import mean_squared_error\n",
    "import glob\n",
    "import matplotlib.patches as patches\n",
    "import json\n",
    "import numpy as np\n",
    "from matplotlib.path import Path\n",
    "import dicom\n",
    "import cv2\n",
    "import matplotlib.pyplot as plt\n",
    "%matplotlib inline"
   ]
  },
  {
   "cell_type": "markdown",
   "metadata": {},
   "source": [
    "The second step of the algorithm is to train a stacked Auto-encoder in order to get the binary mask of the left ventricule inferred shape within the ROI (region of interest output of CNN). It is performed in two steps : pre-training then fine-tuning."
   ]
  },
  {
   "cell_type": "markdown",
   "metadata": {},
   "source": [
    "## Open DataSet"
   ]
  },
  {
   "cell_type": "code",
   "execution_count": 2,
   "metadata": {
    "collapsed": false
   },
   "outputs": [
    {
     "name": "stdout",
     "output_type": "stream",
     "text": [
      "Dataset shape : (495, 64, 64, 1) (495, 1, 32, 32)\n"
     ]
    },
    {
     "data": {
      "image/png": "[encoded data removed]",
      "text/plain": [
       "<matplotlib.figure.Figure at 0x127286dd8>"
      ]
     },
     "metadata": {},
     "output_type": "display_data"
    },
    {
     "name": "stdout",
     "output_type": "stream",
     "text": [
      "Size for each layer :\n",
      "Layer, Input Size, Output Size\n",
      "Conv2D_1 (None, 64, 64, 1) (None, 54, 54, 100)\n",
      "Average_Pooling2D_1 (None, 54, 54, 100) (None, 9, 9, 100)\n",
      "Reshape_1 (None, 9, 9, 100) (None, 1, 8100)\n",
      "Dense_1 (None, 1, 8100) (None, 1, 1024)\n",
      "Reshape_2 (None, 1, 1024) (None, 1, 32, 32)\n",
      "Epoch 1/20\n",
      "495/495 [==============================] - 12s - loss: 0.1779 - acc: 0.1619    \n",
      "Epoch 2/20\n",
      "495/495 [==============================] - 12s - loss: 0.0995 - acc: 0.0910    \n",
      "Epoch 3/20\n",
      "495/495 [==============================] - 10s - loss: 0.0734 - acc: 0.0520    \n",
      "Epoch 4/20\n",
      "495/495 [==============================] - 10s - loss: 0.0583 - acc: 0.0556    \n",
      "Epoch 5/20\n",
      "495/495 [==============================] - 10s - loss: 0.0491 - acc: 0.0608    \n",
      "Epoch 6/20\n",
      "495/495 [==============================] - 12s - loss: 0.0427 - acc: 0.0533    \n",
      "Epoch 7/20\n",
      "495/495 [==============================] - 12s - loss: 0.0389 - acc: 0.0607    \n",
      "Epoch 8/20\n",
      "495/495 [==============================] - 12s - loss: 0.0357 - acc: 0.0556    \n",
      "Epoch 9/20\n",
      "495/495 [==============================] - 12s - loss: 0.0333 - acc: 0.0585    \n",
      "Epoch 10/20\n",
      "495/495 [==============================] - 12s - loss: 0.0312 - acc: 0.0536    \n",
      "Epoch 11/20\n",
      "495/495 [==============================] - 13s - loss: 0.0291 - acc: 0.0511    \n",
      "Epoch 12/20\n",
      "495/495 [==============================] - 12s - loss: 0.0275 - acc: 0.0461    \n",
      "Epoch 13/20\n",
      "495/495 [==============================] - 13s - loss: 0.0272 - acc: 0.0458    \n",
      "Epoch 14/20\n",
      "495/495 [==============================] - 13s - loss: 0.0272 - acc: 0.0436    \n",
      "Epoch 15/20\n",
      "495/495 [==============================] - 12s - loss: 0.0276 - acc: 0.0568    \n",
      "Epoch 16/20\n",
      "495/495 [==============================] - 12s - loss: 0.0265 - acc: 0.0585    \n",
      "Epoch 17/20\n",
      "495/495 [==============================] - 10s - loss: 0.0250 - acc: 0.0645    \n",
      "Epoch 18/20\n",
      "495/495 [==============================] - 10s - loss: 0.0256 - acc: 0.0717    \n",
      "Epoch 19/20\n",
      "495/495 [==============================] - 11s - loss: 0.0262 - acc: 0.0588    \n",
      "Epoch 20/20\n",
      "495/495 [==============================] - 11s - loss: 0.0272 - acc: 0.0594    \n"
     ]
    },
    {
     "data": {
      "image/png": "[encoded data removed]",
      "text/plain": [
       "<matplotlib.figure.Figure at 0x14068d5f8>"
      ]
     },
     "metadata": {},
     "output_type": "display_data"
    },
    {
     "name": "stdout",
     "output_type": "stream",
     "text": [
      "Stored 'y_pred' (ndarray)\n"
     ]
    },
    {
     "data": {
      "image/png": "[encoded data removed]",
      "text/plain": [
       "<matplotlib.figure.Figure at 0x1407a7128>"
      ]
     },
     "metadata": {},
     "output_type": "display_data"
    },
    {
     "data": {
      "image/png": "[encoded data removed]",
      "text/plain": [
       "<matplotlib.figure.Figure at 0x140781240>"
      ]
     },
     "metadata": {},
     "output_type": "display_data"
    }
   ],
   "source": [
    "%run 'CNN.ipynb'"
   ]
  },
  {
   "cell_type": "code",
   "execution_count": 3,
   "metadata": {
    "collapsed": false
   },
   "outputs": [],
   "source": [
    "%store -r y_pred"
   ]
  },
  {
   "cell_type": "code",
   "execution_count": 50,
   "metadata": {
    "collapsed": false
   },
   "outputs": [],
   "source": [
    "input_AE = [] #images (100,100)\n",
    "for j in range(y_pred.shape[0]):\n",
    "    input_AE.append(cv2.resize(compute_roi_pred(y_pred, j, roi_shape=32)[0],(64 , 64)))\n",
    "input_AE = np.asarray(input_AE).reshape((-1, 64*64)) #unrolled : 64*64 = vector of 4096 elements"
   ]
  },
  {
   "cell_type": "code",
   "execution_count": 5,
   "metadata": {
    "collapsed": false
   },
   "outputs": [],
   "source": [
    "_,_, mask_contour = compute_roi_pred(y_pred, 234)\n",
    "\n",
    "contour_experts = [] #images (100,100)\n",
    "for j in range(y_pred.shape[0]):\n",
    "    contour_experts.append(cv2.resize(compute_roi_pred(y_pred, j)[2], (64,64), interpolation = cv2.INTERSECT_NONE))\n",
    "contour_experts = np.asarray(contour_experts).reshape((-1, 64*64)) #unrolled : 64*64 = vector of 4096 elements"
   ]
  },
  {
   "cell_type": "code",
   "execution_count": 6,
   "metadata": {
    "collapsed": false
   },
   "outputs": [],
   "source": [
    "#plt.imshow(input_AE[0].reshape(64,64))\n",
    "#plt.imshow(contour_experts[0].reshape(64,64))"
   ]
  },
  {
   "cell_type": "markdown",
   "metadata": {},
   "source": [
    "## Stacked auto-encoder : Construction of 3 autoencoder "
   ]
  },
  {
   "cell_type": "code",
   "execution_count": 7,
   "metadata": {
    "collapsed": true
   },
   "outputs": [],
   "source": [
    "from keras import losses\n",
    "def customized_loss(y_true, y_pred):\n",
    "    #customize your own loss components\n",
    "    loss1 = losses.mean_absolute_error(y_true, y_pred)\n",
    "    loss2 = losses.kullback_leibler_divergence(y_true, y_pred)\n",
    "    #adjust the weight between loss components\n",
    "    return 0.0001*0.5 * loss1 + 3 * loss2"
   ]
  },
  {
   "cell_type": "code",
   "execution_count": 8,
   "metadata": {
    "collapsed": false
   },
   "outputs": [
    {
     "data": {
      "text/plain": [
       "((495, 4096), (495, 4096))"
      ]
     },
     "execution_count": 8,
     "metadata": {},
     "output_type": "execute_result"
    }
   ],
   "source": [
    "X_train = input_AE\n",
    "Y_train = contour_experts\n",
    "X_train.shape, Y_train.shape"
   ]
  },
  {
   "cell_type": "markdown",
   "metadata": {},
   "source": [
    "#### Model 1 : ROI + H1"
   ]
  },
  {
   "cell_type": "code",
   "execution_count": 9,
   "metadata": {
    "collapsed": false
   },
   "outputs": [
    {
     "name": "stdout",
     "output_type": "stream",
     "text": [
      "Epoch 1/100\n",
      "0s - loss: 67861.5871 - acc: 0.0000e+00\n",
      "Epoch 2/100\n",
      "0s - loss: 14871.0127 - acc: 0.0000e+00\n",
      "Epoch 3/100\n",
      "0s - loss: 10001.6946 - acc: 0.0000e+00\n",
      "Epoch 4/100\n",
      "0s - loss: 9007.3822 - acc: 0.0000e+00\n",
      "Epoch 5/100\n",
      "0s - loss: 8500.3232 - acc: 0.0000e+00\n",
      "Epoch 6/100\n",
      "0s - loss: 8358.7262 - acc: 0.0000e+00\n",
      "Epoch 7/100\n",
      "0s - loss: 8227.9302 - acc: 0.0000e+00\n",
      "Epoch 8/100\n",
      "0s - loss: 8170.7932 - acc: 0.0000e+00\n",
      "Epoch 9/100\n",
      "0s - loss: 8048.1288 - acc: 0.0000e+00\n",
      "Epoch 10/100\n",
      "0s - loss: 8034.9342 - acc: 0.0000e+00\n",
      "Epoch 11/100\n",
      "0s - loss: 8020.9388 - acc: 0.0000e+00\n",
      "Epoch 12/100\n",
      "0s - loss: 8024.3664 - acc: 0.0000e+00\n",
      "Epoch 13/100\n",
      "0s - loss: 8023.7993 - acc: 0.0000e+00\n",
      "Epoch 14/100\n",
      "0s - loss: 8029.9265 - acc: 0.0000e+00\n",
      "Epoch 15/100\n",
      "0s - loss: 7996.4544 - acc: 0.0000e+00\n",
      "Epoch 16/100\n",
      "0s - loss: 7947.2817 - acc: 0.0000e+00\n",
      "Epoch 17/100\n",
      "0s - loss: 7837.0202 - acc: 0.0000e+00\n",
      "Epoch 18/100\n",
      "0s - loss: 7722.1221 - acc: 0.0000e+00\n",
      "Epoch 19/100\n",
      "0s - loss: 7687.2949 - acc: 0.0000e+00\n",
      "Epoch 20/100\n",
      "0s - loss: 7656.7261 - acc: 0.0000e+00\n",
      "Epoch 21/100\n",
      "0s - loss: 7650.6328 - acc: 0.0000e+00\n",
      "Epoch 22/100\n",
      "0s - loss: 7635.6237 - acc: 0.0000e+00\n",
      "Epoch 23/100\n",
      "0s - loss: 7647.2994 - acc: 0.0000e+00\n",
      "Epoch 24/100\n",
      "0s - loss: 7650.1901 - acc: 0.0000e+00\n",
      "Epoch 25/100\n",
      "0s - loss: 7628.3111 - acc: 0.0000e+00\n",
      "Epoch 26/100\n",
      "0s - loss: 7530.8680 - acc: 0.0000e+00\n",
      "Epoch 27/100\n",
      "0s - loss: 7474.0859 - acc: 0.0000e+00\n",
      "Epoch 28/100\n",
      "0s - loss: 7439.7175 - acc: 0.0000e+00\n",
      "Epoch 29/100\n",
      "0s - loss: 7411.1417 - acc: 0.0000e+00\n",
      "Epoch 30/100\n",
      "0s - loss: 7400.2055 - acc: 0.0000e+00\n",
      "Epoch 31/100\n",
      "0s - loss: 7401.1509 - acc: 0.0000e+00\n",
      "Epoch 32/100\n",
      "0s - loss: 7396.8253 - acc: 0.0000e+00\n",
      "Epoch 33/100\n",
      "0s - loss: 7359.3238 - acc: 0.0000e+00\n",
      "Epoch 34/100\n",
      "0s - loss: 7368.9302 - acc: 0.0000e+00\n",
      "Epoch 35/100\n",
      "0s - loss: 7352.4408 - acc: 0.0020\n",
      "Epoch 36/100\n",
      "0s - loss: 7357.1852 - acc: 0.0000e+00\n",
      "Epoch 37/100\n",
      "0s - loss: 7358.2456 - acc: 0.0000e+00\n",
      "Epoch 38/100\n",
      "0s - loss: 7353.8132 - acc: 0.0000e+00\n",
      "Epoch 39/100\n",
      "0s - loss: 7353.3921 - acc: 0.0000e+00\n",
      "Epoch 40/100\n",
      "0s - loss: 7363.9844 - acc: 0.0000e+00\n",
      "Epoch 41/100\n",
      "0s - loss: 7358.7309 - acc: 0.0000e+00\n",
      "Epoch 42/100\n",
      "0s - loss: 7352.6392 - acc: 0.0000e+00\n",
      "Epoch 43/100\n",
      "0s - loss: 7365.1124 - acc: 0.0000e+00\n",
      "Epoch 44/100\n",
      "0s - loss: 7352.3467 - acc: 0.0061\n",
      "Epoch 45/100\n",
      "0s - loss: 7352.3742 - acc: 0.0121\n",
      "Epoch 46/100\n",
      "0s - loss: 7322.4140 - acc: 0.0061\n",
      "Epoch 47/100\n",
      "0s - loss: 7307.7086 - acc: 0.0000e+00\n",
      "Epoch 48/100\n",
      "0s - loss: 7305.5406 - acc: 0.0000e+00\n",
      "Epoch 49/100\n",
      "0s - loss: 7305.7156 - acc: 0.0000e+00\n",
      "Epoch 50/100\n",
      "0s - loss: 7260.3306 - acc: 0.0000e+00\n",
      "Epoch 51/100\n",
      "0s - loss: 7256.8131 - acc: 0.0000e+00\n",
      "Epoch 52/100\n",
      "0s - loss: 7256.8131 - acc: 0.0000e+00\n",
      "Epoch 53/100\n",
      "0s - loss: 7257.1450 - acc: 0.0000e+00\n",
      "Epoch 54/100\n",
      "0s - loss: 7258.2897 - acc: 0.0000e+00\n",
      "Epoch 55/100\n",
      "0s - loss: 7274.0700 - acc: 0.0000e+00\n",
      "Epoch 56/100\n",
      "0s - loss: 7225.1352 - acc: 0.0000e+00\n",
      "Epoch 57/100\n",
      "0s - loss: 7190.3554 - acc: 0.0000e+00\n",
      "Epoch 58/100\n",
      "0s - loss: 7165.6900 - acc: 0.0000e+00\n",
      "Epoch 59/100\n",
      "0s - loss: 7184.0744 - acc: 0.0000e+00\n",
      "Epoch 60/100\n",
      "0s - loss: 7160.2049 - acc: 0.0000e+00\n",
      "Epoch 61/100\n",
      "0s - loss: 7160.2048 - acc: 0.0000e+00\n",
      "Epoch 62/100\n",
      "0s - loss: 7160.5238 - acc: 0.0000e+00\n",
      "Epoch 63/100\n",
      "0s - loss: 7169.4428 - acc: 0.0000e+00\n",
      "Epoch 64/100\n",
      "0s - loss: 7168.4736 - acc: 0.0000e+00\n",
      "Epoch 65/100\n",
      "0s - loss: 7160.2057 - acc: 0.0000e+00\n",
      "Epoch 66/100\n",
      "0s - loss: 7183.4505 - acc: 0.0000e+00\n",
      "Epoch 67/100\n",
      "0s - loss: 7176.0704 - acc: 0.0000e+00\n",
      "Epoch 68/100\n",
      "0s - loss: 7146.1585 - acc: 0.0000e+00\n",
      "Epoch 69/100\n",
      "0s - loss: 7119.7476 - acc: 0.0000e+00\n",
      "Epoch 70/100\n",
      "0s - loss: 7123.9738 - acc: 0.0000e+00\n",
      "Epoch 71/100\n",
      "0s - loss: 7111.9859 - acc: 0.0000e+00\n",
      "Epoch 72/100\n",
      "0s - loss: 7120.2655 - acc: 0.0000e+00\n",
      "Epoch 73/100\n",
      "0s - loss: 7122.1306 - acc: 0.0000e+00\n",
      "Epoch 74/100\n",
      "0s - loss: 7112.0630 - acc: 0.0000e+00\n",
      "Epoch 75/100\n",
      "0s - loss: 7110.2404 - acc: 0.0000e+00\n",
      "Epoch 76/100\n",
      "0s - loss: 7044.3630 - acc: 0.0000e+00\n",
      "Epoch 77/100\n",
      "0s - loss: 7021.4985 - acc: 0.0000e+00\n",
      "Epoch 78/100\n",
      "0s - loss: 7014.8558 - acc: 0.0000e+00\n",
      "Epoch 79/100\n",
      "0s - loss: 7017.7173 - acc: 0.0000e+00\n",
      "Epoch 80/100\n",
      "0s - loss: 7043.9967 - acc: 0.0000e+00\n",
      "Epoch 81/100\n",
      "0s - loss: 6944.4362 - acc: 0.0000e+00\n",
      "Epoch 82/100\n",
      "0s - loss: 6901.4888 - acc: 0.0000e+00\n",
      "Epoch 83/100\n",
      "0s - loss: 6875.0732 - acc: 0.0000e+00\n",
      "Epoch 84/100\n",
      "0s - loss: 6868.7259 - acc: 0.0000e+00\n",
      "Epoch 85/100\n",
      "0s - loss: 6882.8175 - acc: 0.0000e+00\n",
      "Epoch 86/100\n",
      "0s - loss: 6836.1518 - acc: 0.0000e+00\n",
      "Epoch 87/100\n",
      "0s - loss: 6718.7537 - acc: 0.0000e+00\n",
      "Epoch 88/100\n",
      "0s - loss: 6689.9597 - acc: 0.0000e+00\n",
      "Epoch 89/100\n",
      "0s - loss: 6562.1056 - acc: 0.0000e+00\n",
      "Epoch 90/100\n",
      "0s - loss: 6502.6204 - acc: 0.0000e+00\n",
      "Epoch 91/100\n",
      "0s - loss: 6438.5534 - acc: 0.0000e+00\n",
      "Epoch 92/100\n",
      "0s - loss: 6432.0934 - acc: 0.0000e+00\n",
      "Epoch 93/100\n",
      "0s - loss: 6385.5348 - acc: 0.0000e+00\n",
      "Epoch 94/100\n",
      "0s - loss: 6314.3278 - acc: 0.0000e+00\n",
      "Epoch 95/100\n",
      "0s - loss: 6255.0967 - acc: 0.0000e+00\n",
      "Epoch 96/100\n",
      "0s - loss: 6228.9292 - acc: 0.0000e+00\n",
      "Epoch 97/100\n",
      "0s - loss: 6200.3967 - acc: 0.0000e+00\n",
      "Epoch 98/100\n",
      "0s - loss: 6170.8749 - acc: 0.0000e+00\n",
      "Epoch 99/100\n",
      "0s - loss: 6151.8207 - acc: 0.0000e+00\n",
      "Epoch 100/100\n",
      "0s - loss: 6148.6035 - acc: 0.0000e+00\n"
     ]
    },
    {
     "name": "stderr",
     "output_type": "stream",
     "text": [
      "//anaconda/lib/python3.5/site-packages/ipykernel/__main__.py:2: UserWarning: Update your `Dense` call to the Keras 2 API: `Dense(input_dim=4096, kernel_regularizer=<keras.reg..., units=100)`\n",
      "  from ipykernel import kernelapp as app\n",
      "//anaconda/lib/python3.5/site-packages/ipykernel/__main__.py:3: UserWarning: Update your `Dense` call to the Keras 2 API: `Dense(input_dim=100, kernel_regularizer=<keras.reg..., units=4096)`\n",
      "  app.launch_new_instance()\n"
     ]
    }
   ],
   "source": [
    "autoencoder_0 = Sequential()\n",
    "encoder_0 = Dense(input_dim = 4096, output_dim = 100, kernel_regularizer=regularizers.l2(3*0.001))\n",
    "decoder_0 = Dense(input_dim = 100, output_dim = 4096, kernel_regularizer=regularizers.l2(3*0.001))\n",
    "autoencoder_0.add(encoder_0)\n",
    "autoencoder_0.add(decoder_0)\n",
    "autoencoder_0.compile(loss= customized_loss,\n",
    "              optimizer='adam', metrics=['accuracy'])\n",
    "autoencoder_0.fit(input_AE, input_AE, epochs=100, verbose=2)\n",
    "\n",
    "\n",
    "temp_0 = Sequential()\n",
    "temp_0.add(encoder_0)\n",
    "temp_0.compile(loss= customized_loss,\n",
    "              optimizer='adam', metrics=['accuracy'])\n",
    "X_train_1 = temp_0.predict(X_train)"
   ]
  },
  {
   "cell_type": "code",
   "execution_count": 10,
   "metadata": {
    "collapsed": false
   },
   "outputs": [
    {
     "name": "stdout",
     "output_type": "stream",
     "text": [
      "dense_2 (None, 4096) (None, 100)\n",
      "dense_3 (None, 100) (None, 4096)\n"
     ]
    }
   ],
   "source": [
    "for p in autoencoder_0.layers:\n",
    "    print(p.name, p.input_shape, p.output_shape)"
   ]
  },
  {
   "cell_type": "markdown",
   "metadata": {},
   "source": [
    "#### Model 2 : H1 + H2"
   ]
  },
  {
   "cell_type": "code",
   "execution_count": 11,
   "metadata": {
    "collapsed": false
   },
   "outputs": [
    {
     "name": "stdout",
     "output_type": "stream",
     "text": [
      "Epoch 1/100\n",
      "0s - loss: 496.7390 - acc: 0.0000e+00\n",
      "Epoch 2/100\n",
      "0s - loss: 88.3352 - acc: 0.0000e+00\n",
      "Epoch 3/100\n",
      "0s - loss: 62.4678 - acc: 0.0000e+00\n",
      "Epoch 4/100\n",
      "0s - loss: 33.1373 - acc: 0.0000e+00\n",
      "Epoch 5/100\n",
      "0s - loss: 23.4314 - acc: 0.0000e+00\n",
      "Epoch 6/100\n",
      "0s - loss: 15.7700 - acc: 0.0000e+00\n",
      "Epoch 7/100\n",
      "0s - loss: 13.5983 - acc: 0.0000e+00\n",
      "Epoch 8/100\n",
      "0s - loss: 13.5844 - acc: 0.0000e+00\n",
      "Epoch 9/100\n",
      "0s - loss: 13.5732 - acc: 0.0000e+00\n",
      "Epoch 10/100\n",
      "0s - loss: 13.5643 - acc: 0.0000e+00\n",
      "Epoch 11/100\n",
      "0s - loss: 13.5575 - acc: 0.0000e+00\n",
      "Epoch 12/100\n",
      "0s - loss: 13.5523 - acc: 0.0000e+00\n",
      "Epoch 13/100\n",
      "0s - loss: 13.5483 - acc: 0.0000e+00\n",
      "Epoch 14/100\n",
      "0s - loss: 13.3498 - acc: 0.0000e+00\n",
      "Epoch 15/100\n",
      "0s - loss: 13.1522 - acc: 0.0000e+00\n",
      "Epoch 16/100\n",
      "0s - loss: 13.2481 - acc: 0.0000e+00\n",
      "Epoch 17/100\n",
      "0s - loss: 12.7583 - acc: 0.0000e+00\n",
      "Epoch 18/100\n",
      "0s - loss: 12.5618 - acc: 0.0000e+00\n",
      "Epoch 19/100\n",
      "0s - loss: 12.2681 - acc: 0.0000e+00\n",
      "Epoch 20/100\n",
      "0s - loss: 11.0030 - acc: 0.0000e+00\n",
      "Epoch 21/100\n",
      "0s - loss: 10.7053 - acc: 0.0000e+00\n",
      "Epoch 22/100\n",
      "0s - loss: 10.9982 - acc: 0.0000e+00\n",
      "Epoch 23/100\n",
      "0s - loss: 11.0955 - acc: 0.0000e+00\n",
      "Epoch 24/100\n",
      "0s - loss: 11.0954 - acc: 0.0000e+00\n",
      "Epoch 25/100\n",
      "0s - loss: 11.1929 - acc: 0.0000e+00\n",
      "Epoch 26/100\n",
      "0s - loss: 9.4391 - acc: 0.0000e+00\n",
      "Epoch 27/100\n",
      "0s - loss: 8.7519 - acc: 0.0000e+00\n",
      "Epoch 28/100\n",
      "0s - loss: 8.7520 - acc: 0.0000e+00\n",
      "Epoch 29/100\n",
      "0s - loss: 8.7520 - acc: 0.0000e+00\n",
      "Epoch 30/100\n",
      "0s - loss: 8.7519 - acc: 0.0000e+00\n",
      "Epoch 31/100\n",
      "0s - loss: 8.7520 - acc: 0.0000e+00\n",
      "Epoch 32/100\n",
      "0s - loss: 8.6543 - acc: 0.0000e+00\n",
      "Epoch 33/100\n",
      "0s - loss: 8.7519 - acc: 0.0000e+00\n",
      "Epoch 34/100\n",
      "0s - loss: 8.7519 - acc: 0.0000e+00\n",
      "Epoch 35/100\n",
      "0s - loss: 8.7519 - acc: 0.0000e+00\n",
      "Epoch 36/100\n",
      "0s - loss: 8.7519 - acc: 0.0000e+00\n",
      "Epoch 37/100\n",
      "0s - loss: 8.7518 - acc: 0.0000e+00\n",
      "Epoch 38/100\n",
      "0s - loss: 8.7519 - acc: 0.0000e+00\n",
      "Epoch 39/100\n",
      "0s - loss: 8.7518 - acc: 0.0000e+00\n",
      "Epoch 40/100\n",
      "0s - loss: 8.7518 - acc: 0.0000e+00\n",
      "Epoch 41/100\n",
      "0s - loss: 8.7518 - acc: 0.0000e+00\n",
      "Epoch 42/100\n",
      "0s - loss: 8.7518 - acc: 0.0000e+00\n",
      "Epoch 43/100\n",
      "0s - loss: 8.7518 - acc: 0.0000e+00\n",
      "Epoch 44/100\n",
      "0s - loss: 8.7518 - acc: 0.0000e+00\n",
      "Epoch 45/100\n",
      "0s - loss: 8.7518 - acc: 0.0000e+00\n",
      "Epoch 46/100\n",
      "0s - loss: 8.7518 - acc: 0.0000e+00\n",
      "Epoch 47/100\n",
      "0s - loss: 8.7517 - acc: 0.0000e+00\n",
      "Epoch 48/100\n",
      "0s - loss: 8.7517 - acc: 0.0000e+00\n",
      "Epoch 49/100\n",
      "0s - loss: 8.7517 - acc: 0.0000e+00\n",
      "Epoch 50/100\n",
      "0s - loss: 8.6541 - acc: 0.0000e+00\n",
      "Epoch 51/100\n",
      "0s - loss: 8.7518 - acc: 0.0000e+00\n",
      "Epoch 52/100\n",
      "0s - loss: 8.7518 - acc: 0.0000e+00\n",
      "Epoch 53/100\n",
      "0s - loss: 8.7517 - acc: 0.0000e+00\n",
      "Epoch 54/100\n",
      "0s - loss: 8.7517 - acc: 0.0000e+00\n",
      "Epoch 55/100\n",
      "0s - loss: 8.7517 - acc: 0.0000e+00\n",
      "Epoch 56/100\n",
      "0s - loss: 8.7518 - acc: 0.0000e+00\n",
      "Epoch 57/100\n",
      "0s - loss: 8.7517 - acc: 0.0000e+00\n",
      "Epoch 58/100\n",
      "0s - loss: 8.7517 - acc: 0.0000e+00\n",
      "Epoch 59/100\n",
      "0s - loss: 8.7518 - acc: 0.0000e+00\n",
      "Epoch 60/100\n",
      "0s - loss: 8.7517 - acc: 0.0000e+00\n",
      "Epoch 61/100\n",
      "0s - loss: 8.7517 - acc: 0.0000e+00\n",
      "Epoch 62/100\n",
      "0s - loss: 8.7517 - acc: 0.0000e+00\n",
      "Epoch 63/100\n",
      "0s - loss: 8.7517 - acc: 0.0000e+00\n",
      "Epoch 64/100\n",
      "0s - loss: 8.7517 - acc: 0.0000e+00\n",
      "Epoch 65/100\n",
      "0s - loss: 8.7516 - acc: 0.0000e+00\n",
      "Epoch 66/100\n",
      "0s - loss: 8.7516 - acc: 0.0000e+00\n",
      "Epoch 67/100\n",
      "0s - loss: 8.7516 - acc: 0.0000e+00\n",
      "Epoch 68/100\n",
      "0s - loss: 8.7516 - acc: 0.0000e+00\n",
      "Epoch 69/100\n",
      "0s - loss: 8.7516 - acc: 0.0000e+00\n",
      "Epoch 70/100\n",
      "0s - loss: 8.7516 - acc: 0.0000e+00\n",
      "Epoch 71/100\n",
      "0s - loss: 8.7516 - acc: 0.0000e+00\n",
      "Epoch 72/100\n",
      "0s - loss: 8.7516 - acc: 0.0000e+00\n",
      "Epoch 73/100\n",
      "0s - loss: 8.7515 - acc: 0.0000e+00\n",
      "Epoch 74/100\n",
      "0s - loss: 8.7517 - acc: 0.0000e+00\n",
      "Epoch 75/100\n",
      "0s - loss: 8.7517 - acc: 0.0000e+00\n",
      "Epoch 76/100\n",
      "0s - loss: 8.7516 - acc: 0.0000e+00\n",
      "Epoch 77/100\n",
      "0s - loss: 8.6539 - acc: 0.0000e+00\n",
      "Epoch 78/100\n",
      "0s - loss: 8.7516 - acc: 0.0000e+00\n",
      "Epoch 79/100\n",
      "0s - loss: 8.7515 - acc: 0.0000e+00\n",
      "Epoch 80/100\n",
      "0s - loss: 8.7516 - acc: 0.0000e+00\n",
      "Epoch 81/100\n",
      "0s - loss: 8.7515 - acc: 0.0000e+00\n",
      "Epoch 82/100\n",
      "0s - loss: 8.7516 - acc: 0.0000e+00\n",
      "Epoch 83/100\n",
      "0s - loss: 8.7515 - acc: 0.0000e+00\n",
      "Epoch 84/100\n",
      "0s - loss: 8.7515 - acc: 0.0000e+00\n",
      "Epoch 85/100\n",
      "0s - loss: 8.7516 - acc: 0.0000e+00\n",
      "Epoch 86/100\n",
      "0s - loss: 8.7515 - acc: 0.0000e+00\n",
      "Epoch 87/100\n",
      "0s - loss: 8.7515 - acc: 0.0000e+00\n",
      "Epoch 88/100\n",
      "0s - loss: 8.7515 - acc: 0.0000e+00\n",
      "Epoch 89/100\n",
      "0s - loss: 8.7514 - acc: 0.0000e+00\n",
      "Epoch 90/100\n",
      "0s - loss: 8.7514 - acc: 0.0000e+00\n",
      "Epoch 91/100\n",
      "0s - loss: 8.7514 - acc: 0.0000e+00\n",
      "Epoch 92/100\n",
      "0s - loss: 8.7515 - acc: 0.0000e+00\n",
      "Epoch 93/100\n",
      "0s - loss: 8.7514 - acc: 0.0000e+00\n",
      "Epoch 94/100\n",
      "0s - loss: 8.7514 - acc: 0.0000e+00\n",
      "Epoch 95/100\n",
      "0s - loss: 8.7514 - acc: 0.0000e+00\n",
      "Epoch 96/100\n",
      "0s - loss: 8.7514 - acc: 0.0000e+00\n",
      "Epoch 97/100\n",
      "0s - loss: 8.7513 - acc: 0.0000e+00\n",
      "Epoch 98/100\n",
      "0s - loss: 8.7514 - acc: 0.0000e+00\n",
      "Epoch 99/100\n",
      "0s - loss: 8.7514 - acc: 0.0000e+00\n",
      "Epoch 100/100\n",
      "0s - loss: 8.7513 - acc: 0.0000e+00\n"
     ]
    },
    {
     "name": "stderr",
     "output_type": "stream",
     "text": [
      "//anaconda/lib/python3.5/site-packages/ipykernel/__main__.py:2: UserWarning: Update your `Dense` call to the Keras 2 API: `Dense(input_dim=100, kernel_regularizer=<keras.reg..., units=100)`\n",
      "  from ipykernel import kernelapp as app\n",
      "//anaconda/lib/python3.5/site-packages/ipykernel/__main__.py:3: UserWarning: Update your `Dense` call to the Keras 2 API: `Dense(input_dim=100, kernel_regularizer=<keras.reg..., units=100)`\n",
      "  app.launch_new_instance()\n"
     ]
    },
    {
     "data": {
      "text/plain": [
       "<keras.callbacks.History at 0x145078c88>"
      ]
     },
     "execution_count": 11,
     "metadata": {},
     "output_type": "execute_result"
    }
   ],
   "source": [
    "autoencoder_1 = Sequential()\n",
    "encoder_1 = Dense(input_dim = 100, output_dim = 100, kernel_regularizer=regularizers.l2(3*0.001))\n",
    "decoder_1 = Dense(input_dim = 100, output_dim = 100, kernel_regularizer=regularizers.l2(3*0.001))\n",
    "autoencoder_1.add(encoder_1)\n",
    "autoencoder_1.add(decoder_1)\n",
    "autoencoder_1.compile(loss= customized_loss,\n",
    "              optimizer='adam', metrics=['accuracy'])\n",
    "autoencoder_1.fit(X_train_1, X_train_1, epochs=100, verbose=2)"
   ]
  },
  {
   "cell_type": "code",
   "execution_count": 12,
   "metadata": {
    "collapsed": false
   },
   "outputs": [
    {
     "name": "stdout",
     "output_type": "stream",
     "text": [
      "dense_4 (None, 100) (None, 100)\n",
      "dense_5 (None, 100) (None, 100)\n"
     ]
    }
   ],
   "source": [
    "for p in autoencoder_1.layers:\n",
    "    print(p.name, p.input_shape, p.output_shape)"
   ]
  },
  {
   "cell_type": "markdown",
   "metadata": {},
   "source": [
    "#### Model 3 : H1 + Annotated contours"
   ]
  },
  {
   "cell_type": "code",
   "execution_count": 52,
   "metadata": {
    "collapsed": false
   },
   "outputs": [
    {
     "name": "stdout",
     "output_type": "stream",
     "text": [
      "Epoch 1/20\n",
      "0s - loss: 143.6392 - acc: 0.0020\n",
      "Epoch 2/20\n",
      "0s - loss: 21.5365 - acc: 0.0000e+00\n",
      "Epoch 3/20\n",
      "0s - loss: 6.0525 - acc: 0.0000e+00\n",
      "Epoch 4/20\n",
      "0s - loss: 2.0544 - acc: 0.0000e+00\n",
      "Epoch 5/20\n",
      "0s - loss: 1.2097 - acc: 0.0000e+00\n",
      "Epoch 6/20\n",
      "0s - loss: 0.9829 - acc: 0.0000e+00\n",
      "Epoch 7/20\n",
      "0s - loss: 0.9259 - acc: 0.0000e+00\n",
      "Epoch 8/20\n",
      "0s - loss: 0.8937 - acc: 0.0000e+00\n",
      "Epoch 9/20\n",
      "0s - loss: 0.8791 - acc: 0.0000e+00\n",
      "Epoch 10/20\n",
      "0s - loss: 0.8686 - acc: 0.0000e+00\n",
      "Epoch 11/20\n",
      "0s - loss: 0.8672 - acc: 0.0000e+00\n",
      "Epoch 12/20\n",
      "0s - loss: 0.8549 - acc: 0.0000e+00\n",
      "Epoch 13/20\n",
      "0s - loss: 0.8485 - acc: 0.0000e+00\n",
      "Epoch 14/20\n",
      "0s - loss: 0.8463 - acc: 0.0000e+00\n",
      "Epoch 15/20\n",
      "0s - loss: 0.8397 - acc: 0.0000e+00\n",
      "Epoch 16/20\n",
      "0s - loss: 0.8339 - acc: 0.0000e+00\n",
      "Epoch 17/20\n",
      "0s - loss: 0.8315 - acc: 0.0000e+00\n",
      "Epoch 18/20\n",
      "0s - loss: 0.8291 - acc: 0.0000e+00\n",
      "Epoch 19/20\n",
      "0s - loss: 0.8264 - acc: 0.0000e+00\n",
      "Epoch 20/20\n",
      "0s - loss: 0.8240 - acc: 0.0000e+00\n"
     ]
    },
    {
     "name": "stderr",
     "output_type": "stream",
     "text": [
      "//anaconda/lib/python3.5/site-packages/ipykernel/__main__.py:4: UserWarning: Update your `Dense` call to the Keras 2 API: `Dense(kernel_initializer=\"zero\", input_dim=100, kernel_regularizer=<keras.reg..., units=4096)`\n"
     ]
    }
   ],
   "source": [
    "model = Sequential()\n",
    "model.add(encoder_0)\n",
    "model.add(encoder_1)\n",
    "model.add(Dense(input_dim = 100, output_dim = 4096, init = 'zero', kernel_regularizer=regularizers.l2(3*0.001)))\n",
    "model.compile(optimizer = 'adam', loss = \"MSE\", metrics=['accuracy'])\n",
    "\n",
    "h = model.fit(X_train, Y_train,\n",
    "          epochs=20, \n",
    "          verbose=2)"
   ]
  },
  {
   "cell_type": "code",
   "execution_count": 14,
   "metadata": {
    "collapsed": false
   },
   "outputs": [
    {
     "name": "stdout",
     "output_type": "stream",
     "text": [
      "dense_2 (None, 4096) (None, 100)\n",
      "dense_4 (None, 100) (None, 100)\n",
      "dense_6 (None, 100) (None, 4096)\n"
     ]
    }
   ],
   "source": [
    "for p in model.layers:\n",
    "    print(p.name, p.input_shape, p.output_shape)"
   ]
  },
  {
   "cell_type": "code",
   "execution_count": 15,
   "metadata": {
    "collapsed": false
   },
   "outputs": [
    {
     "data": {
      "text/plain": [
       "Text(0.5,0,'epochs')"
      ]
     },
     "execution_count": 15,
     "metadata": {},
     "output_type": "execute_result"
    },
    {
     "data": {
      "image/png": "[encoded data removed]",
      "text/plain": [
       "<matplotlib.figure.Figure at 0x1406b6e48>"
      ]
     },
     "metadata": {},
     "output_type": "display_data"
    }
   ],
   "source": [
    "metric = 'loss'\n",
    "plt.plot(range(len(h.history[metric])), h.history[metric])\n",
    "plt.ylabel(metric)\n",
    "plt.xlabel('epochs')"
   ]
  },
  {
   "cell_type": "markdown",
   "metadata": {},
   "source": [
    "#### Prediction"
   ]
  },
  {
   "cell_type": "code",
   "execution_count": 16,
   "metadata": {
    "collapsed": false
   },
   "outputs": [
    {
     "data": {
      "text/plain": [
       "(495, 4096)"
      ]
     },
     "execution_count": 16,
     "metadata": {},
     "output_type": "execute_result"
    }
   ],
   "source": [
    "l3_pred = model.predict(X_train)\n",
    "l3_pred.shape"
   ]
  },
  {
   "cell_type": "code",
   "execution_count": 22,
   "metadata": {
    "collapsed": false
   },
   "outputs": [
    {
     "data": {
      "text/plain": [
       "<matplotlib.image.AxesImage at 0x14c0bbd30>"
      ]
     },
     "execution_count": 22,
     "metadata": {},
     "output_type": "execute_result"
    },
    {
     "data": {
      "image/png": "[encoded data removed]",
      "text/plain": [
       "<matplotlib.figure.Figure at 0x14523d240>"
      ]
     },
     "metadata": {},
     "output_type": "display_data"
    }
   ],
   "source": [
    "j = 17\n",
    "# select one predicted ROI\n",
    "pred3 = l3_pred[j].reshape((64,64))\n",
    "p = cv2.threshold(pred3, 0, 1, cv2.INTER_AREA)\n",
    "plt.imshow(p[1])"
   ]
  },
  {
   "cell_type": "code",
   "execution_count": 41,
   "metadata": {
    "collapsed": false
   },
   "outputs": [
    {
     "data": {
      "text/plain": [
       "<matplotlib.image.AxesImage at 0x14de91828>"
      ]
     },
     "execution_count": 41,
     "metadata": {},
     "output_type": "execute_result"
    },
    {
     "data": {
      "image/png": "[encoded data removed]",
      "text/plain": [
       "<matplotlib.figure.Figure at 0x14dbf7518>"
      ]
     },
     "metadata": {},
     "output_type": "display_data"
    }
   ],
   "source": [
    "j = 20\n",
    "# select one predicted ROI\n",
    "pred3 = l3_pred[j].reshape((64,64))\n",
    "p = cv2.threshold(pred3, 0, 1, cv2.INTERSECT_NONE)\n",
    "plt.imshow(p[1])"
   ]
  },
  {
   "cell_type": "code",
   "execution_count": 38,
   "metadata": {
    "collapsed": false
   },
   "outputs": [
    {
     "data": {
      "text/plain": [
       "<matplotlib.image.AxesImage at 0x14dc0cdd8>"
      ]
     },
     "execution_count": 38,
     "metadata": {},
     "output_type": "execute_result"
    },
    {
     "data": {
      "image/png": "[encoded data removed]",
      "text/plain": [
       "<matplotlib.figure.Figure at 0x14db7b198>"
      ]
     },
     "metadata": {},
     "output_type": "display_data"
    }
   ],
   "source": [
    "plt.imshow(p[1]*input_AE[20].reshape(64,64))"
   ]
  },
  {
   "cell_type": "code",
   "execution_count": 35,
   "metadata": {
    "collapsed": false
   },
   "outputs": [
    {
     "data": {
      "text/plain": [
       "<matplotlib.image.AxesImage at 0x14dad3fd0>"
      ]
     },
     "execution_count": 35,
     "metadata": {},
     "output_type": "execute_result"
    },
    {
     "data": {
      "image/png": "[encoded data removed]",
      "text/plain": [
       "<matplotlib.figure.Figure at 0x14da10320>"
      ]
     },
     "metadata": {},
     "output_type": "display_data"
    }
   ],
   "source": [
    "plt.imshow(input_AE[20].reshape(64,64))"
   ]
  },
  {
   "cell_type": "code",
   "execution_count": 47,
   "metadata": {
    "collapsed": false
   },
   "outputs": [
    {
     "data": {
      "text/plain": [
       "True"
      ]
     },
     "execution_count": 47,
     "metadata": {},
     "output_type": "execute_result"
    }
   ],
   "source": [
    "cv2.imwrite('./mask_roi.png', input_AE[20].reshape(64,64))\n",
    "cv2.imwrite('./predic_mask.png', p[1]*255)\n",
    "cv2.imwrite('./predic_mask_inter_area.png', p[1]*input_AE[20].reshape(64,64))"
   ]
  },
  {
   "cell_type": "code",
   "execution_count": null,
   "metadata": {
    "collapsed": true
   },
   "outputs": [],
   "source": []
  }
 ],
 "metadata": {
  "kernelspec": {
   "display_name": "Python 3",
   "language": "python",
   "name": "python3"
  },
  "language_info": {
   "codemirror_mode": {
    "name": "ipython",
    "version": 3
   },
   "file_extension": ".py",
   "mimetype": "text/x-python",
   "name": "python",
   "nbconvert_exporter": "python",
   "pygments_lexer": "ipython3",
   "version": "3.5.4"
  }
 },
 "nbformat": 4,
 "nbformat_minor": 0
}
