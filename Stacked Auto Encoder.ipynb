{
 "cells": [
  {
   "cell_type": "code",
   "execution_count": 3,
   "metadata": {
    "collapsed": true
   },
   "outputs": [],
   "source": [
    "import keras\n",
    "from keras.preprocessing.image import ImageDataGenerator\n",
    "from keras.models import Sequential\n",
    "from keras.layers import Dense, Dropout, Activation, Flatten, Reshape\n",
    "from keras.layers import Conv2D, MaxPooling2D, AveragePooling2D\n",
    "from keras.layers.pooling import GlobalAveragePooling2D\n",
    "from keras.layers import Embedding\n",
    "from keras import regularizers\n",
    "from keras.losses import mean_squared_error\n",
    "import glob\n",
    "import matplotlib.patches as patches\n",
    "import json\n",
    "import numpy as np\n",
    "from matplotlib.path import Path\n",
    "import dicom\n",
    "import cv2\n",
    "import matplotlib.pyplot as plt\n",
    "%matplotlib inline"
   ]
  },
  {
   "cell_type": "markdown",
   "metadata": {},
   "source": [
    "## Open DataSet"
   ]
  },
  {
   "cell_type": "code",
   "execution_count": 4,
   "metadata": {
    "collapsed": true
   },
   "outputs": [],
   "source": [
    "case = 'SC-HF-NI-36'\n",
    "\n",
    "series = json.load(open('series_case.json')) \n",
    "image_path_base = './Data/challenge_training/%s/IM-%s' % (case, series[case])\n",
    "contour_path_base = './Data/Sunnybrook Cardiac MR Database ContoursPart3/\\\n",
    "TrainingDataContours/%s/contours-manual/IRCCI-expert/' % case\n",
    "contours_list = glob.glob(contour_path_base + '*')\n",
    "contours_list_series = [k.split('/')[7].split('-')[2] for k in contours_list]"
   ]
  },
  {
   "cell_type": "code",
   "execution_count": 5,
   "metadata": {
    "collapsed": true
   },
   "outputs": [],
   "source": [
    "def get_roi(image, contour):\n",
    "    X_min, Y_min = contour[:,0].min(), contour[:,1].min()\n",
    "    X_max, Y_max = contour[:,0].max(), contour[:,1].max()  \n",
    "    w = X_max - X_min\n",
    "    h = Y_max - Y_min\n",
    "    mask_roi = np.zeros(image.shape)\n",
    "    if w > h :\n",
    "        mask_roi[int(Y_min - (w -h)/2):int(Y_max + (w -h)/2), int(X_min):int(X_max)] = 1.0\n",
    "    else :\n",
    "        mask_roi[int(Y_min):int(Y_max), int(X_min - (h-w)/2):int(X_max + (h -w)/2)] = 1.0\n",
    "    return cv2.resize(mask_roi, (32, 32), interpolation = cv2.INTER_NEAREST)"
   ]
  },
  {
   "cell_type": "code",
   "execution_count": 6,
   "metadata": {
    "collapsed": false
   },
   "outputs": [
    {
     "name": "stdout",
     "output_type": "stream",
     "text": [
      "Dataset shape : (33, 64, 64, 1) (33, 1, 32, 32)\n"
     ]
    }
   ],
   "source": [
    "images, contours = [], []\n",
    "for c in contours_list_series:\n",
    "    # Get contours and images path\n",
    "    idx_contour = contours_list_series.index(c)\n",
    "    image_path = image_path_base + '-%s.dcm' % c\n",
    "    contour_path = contours_list[idx_contour]\n",
    "    \n",
    "    # open image as numpy array and resize to (64, 64)\n",
    "    image_part = dicom.read_file(image_path).pixel_array  \n",
    "    \n",
    "    # open contours as numpy array\n",
    "    contour = []\n",
    "    file = open(contour_path, 'r') \n",
    "    for line in file: \n",
    "        contour.append(tuple(map(float, line.split())))\n",
    "    contour = np.array(contour)\n",
    "    contours.append(get_roi(image_part, contour))\n",
    "    \n",
    "    images.append(cv2.resize(image_part, (64, 64)))\n",
    "    \n",
    "X = np.reshape(np.array(images), [len(images), 64, 64, 1])\n",
    "Y = np.reshape(np.array(contours), [len(contours), 1, 32, 32])\n",
    "print('Dataset shape :', X.shape, Y.shape)"
   ]
  },
  {
   "cell_type": "code",
   "execution_count": 14,
   "metadata": {
    "collapsed": false
   },
   "outputs": [],
   "source": [
    "#plt.imshow(X[30].reshape(64,64))"
   ]
  },
  {
   "cell_type": "code",
   "execution_count": 13,
   "metadata": {
    "collapsed": false
   },
   "outputs": [],
   "source": [
    "#plt.imshow(Y[30].reshape(32, 32))"
   ]
  },
  {
   "cell_type": "markdown",
   "metadata": {},
   "source": [
    "## Stacked auto-encoder"
   ]
  },
  {
   "cell_type": "code",
   "execution_count": null,
   "metadata": {
    "collapsed": true
   },
   "outputs": [],
   "source": [
    "inputs = Input(shape=(100, 100))\n",
    "h = Reshape([64, 64])(inputs)\n",
    "h = Dense(4096, activation='relu')(h)\n",
    "encoded = Dense(100, activation='relu')(h)\n",
    "h = Dense(100, activation='relu')(encoded)\n",
    "outputs = Dense(4096)(h)\n",
    "\n",
    "model = Model(input=inputs, output=outputs)\n",
    "model.compile(optimizer='adam', loss='mse')\n",
    "model.fit(X, X, batch_size=64, nb_epoch=5)"
   ]
  }
 ],
 "metadata": {
  "kernelspec": {
   "display_name": "Python 3",
   "language": "python",
   "name": "python3"
  },
  "language_info": {
   "codemirror_mode": {
    "name": "ipython",
    "version": 3
   },
   "file_extension": ".py",
   "mimetype": "text/x-python",
   "name": "python",
   "nbconvert_exporter": "python",
   "pygments_lexer": "ipython3",
   "version": "3.5.4"
  }
 },
 "nbformat": 4,
 "nbformat_minor": 0
}
