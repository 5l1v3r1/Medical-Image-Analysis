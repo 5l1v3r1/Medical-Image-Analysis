{
 "cells": [
  {
   "cell_type": "code",
   "execution_count": 1,
   "metadata": {
    "ExecuteTime": {
     "end_time": "2017-11-17T10:10:03.385594Z",
     "start_time": "2017-11-17T10:10:03.369680Z"
    },
    "collapsed": true
   },
   "outputs": [
    {
     "name": "stderr",
     "output_type": "stream",
     "text": [
      "Using TensorFlow backend.\n",
      "/Users/sharonedayan/tensorflow/lib/python3.5/site-packages/dicom/__init__.py:53: UserWarning: \n",
      "This code is using an older version of pydicom, which is no longer \n",
      "maintained as of Jan 2017.  You can access the new pydicom features and API \n",
      "by installing `pydicom` from PyPI.\n",
      "See 'Transitioning to pydicom 1.x' section at pydicom.readthedocs.org \n",
      "for more information.\n",
      "\n",
      "  warnings.warn(msg)\n"
     ]
    }
   ],
   "source": [
    "import keras\n",
    "from keras.preprocessing.image import ImageDataGenerator\n",
    "from keras.models import Sequential\n",
    "from keras.layers import Dense, Dropout, Activation, Flatten, Reshape\n",
    "from keras.layers import Conv2D, MaxPooling2D, AveragePooling2D\n",
    "from keras.layers.pooling import GlobalAveragePooling2D\n",
    "from keras.preprocessing.image import ImageDataGenerator\n",
    "from keras.layers import Embedding\n",
    "from keras import regularizers\n",
    "from keras.losses import mean_squared_error\n",
    "import glob\n",
    "import matplotlib.patches as patches\n",
    "import json\n",
    "import numpy as np\n",
    "from matplotlib.path import Path\n",
    "import dicom\n",
    "import cv2\n",
    "import matplotlib.pyplot as plt\n",
    "%matplotlib inline"
   ]
  },
  {
   "cell_type": "markdown",
   "metadata": {},
   "source": [
    "## Open dataset"
   ]
  },
  {
   "cell_type": "code",
   "execution_count": 8,
   "metadata": {
    "ExecuteTime": {
     "end_time": "2017-11-17T10:26:07.473593Z",
     "start_time": "2017-11-17T10:26:07.467481Z"
    },
    "collapsed": false
   },
   "outputs": [],
   "source": [
    "case = 'SC-HF-NI-36'\n",
    "\n",
    "series = json.load(open('series_case.json')) \n",
    "image_path_base = './Data/challenge_training/%s/IM-%s' % (case, series[case])\n",
    "contour_path_base = './Data/Sunnybrook Cardiac MR Database ContoursPart3/\\\n",
    "TrainingDataContours/%s/contours-manual/IRCCI-expert/' % case\n",
    "contours_list = glob.glob(contour_path_base + '*')\n",
    "contours_list_series = [k.split('/')[7].split('-')[2] for k in contours_list]"
   ]
  },
  {
   "cell_type": "code",
   "execution_count": 9,
   "metadata": {
    "ExecuteTime": {
     "end_time": "2017-11-17T10:26:07.788516Z",
     "start_time": "2017-11-17T10:26:07.776630Z"
    },
    "collapsed": true
   },
   "outputs": [],
   "source": [
    "def get_roi(image, contour):\n",
    "    X_min, Y_min = contour[:,0].min(), contour[:,1].min()\n",
    "    X_max, Y_max = contour[:,0].max(), contour[:,1].max()  \n",
    "    w = X_max - X_min\n",
    "    h = Y_max - Y_min\n",
    "    mask_roi = np.zeros(image.shape)\n",
    "    if w > h :\n",
    "        mask_roi[int(Y_min - (w -h)/2):int(Y_max + (w -h)/2), int(X_min):int(X_max)] = 1.0\n",
    "    else :\n",
    "        mask_roi[int(Y_min):int(Y_max), int(X_min - (h-w)/2):int(X_max + (h -w)/2)] = 1.0\n",
    "    return cv2.resize(mask_roi, (32, 32), interpolation = cv2.INTER_NEAREST)"
   ]
  },
  {
   "cell_type": "code",
   "execution_count": 30,
   "metadata": {
    "ExecuteTime": {
     "end_time": "2017-11-17T10:26:09.103676Z",
     "start_time": "2017-11-17T10:26:08.049715Z"
    },
    "collapsed": false
   },
   "outputs": [
    {
     "name": "stdout",
     "output_type": "stream",
     "text": [
      "Dataset shape : (495, 64, 64, 1) (495, 1, 32, 32)\n"
     ]
    }
   ],
   "source": [
    "series = json.load(open('series_case.json')) \n",
    "images, images_fullsize, contours = [], [], []\n",
    "for case, serie in series.items():\n",
    "    image_path_base = './Data/challenge_training/%s/IM-%s' % (case, serie)\n",
    "    contour_path_base = './Data/Sunnybrook Cardiac MR Database ContoursPart3/\\\n",
    "TrainingDataContours/%s/contours-manual/IRCCI-expert/' % case\n",
    "    contours_list = glob.glob(contour_path_base + '*')\n",
    "    contours_list_series = [k.split('/')[7].split('-')[2] for k in contours_list]\n",
    "    for c in contours_list_series:\n",
    "        # Get contours and images path\n",
    "        idx_contour = contours_list_series.index(c)\n",
    "        image_path = image_path_base + '-%s.dcm' % c\n",
    "        contour_path = contours_list[idx_contour]\n",
    "\n",
    "        # open image as numpy array and resize to (64, 64)\n",
    "        image_part = dicom.read_file(image_path).pixel_array  \n",
    "\n",
    "        # open contours as numpy array\n",
    "        contour = []\n",
    "        file = open(contour_path, 'r') \n",
    "        for line in file: \n",
    "            contour.append(tuple(map(float, line.split())))\n",
    "        contour = np.array(contour)\n",
    "        contours.append(get_roi(image_part, contour))\n",
    "\n",
    "        images.append(cv2.resize(image_part, (64, 64)))\n",
    "        images_fullsize.append(cv2.resize(image_part, (256, 256)))\n",
    "\n",
    "X_fullsize = np.array(images_fullsize)\n",
    "X = np.reshape(np.array(images), [len(images), 64, 64, 1])\n",
    "Y = np.reshape(np.array(contours), [len(contours), 1, 32, 32])\n",
    "print('Dataset shape :', X.shape, Y.shape)"
   ]
  },
  {
   "cell_type": "code",
   "execution_count": 22,
   "metadata": {
    "ExecuteTime": {
     "end_time": "2017-11-17T10:26:13.787789Z",
     "start_time": "2017-11-17T10:26:13.658954Z"
    },
    "collapsed": false
   },
   "outputs": [
    {
     "data": {
      "text/plain": [
       "<matplotlib.image.AxesImage at 0x12d442d30>"
      ]
     },
     "execution_count": 22,
     "metadata": {},
     "output_type": "execute_result"
    },
    {
     "data": {
      "image/png": "[encoded data removed]",
      "text/plain": [
       "<matplotlib.figure.Figure at 0x12d344550>"
      ]
     },
     "metadata": {},
     "output_type": "display_data"
    }
   ],
   "source": [
    "plt.imshow(X[30].reshape(64,64))"
   ]
  },
  {
   "cell_type": "code",
   "execution_count": 16,
   "metadata": {
    "ExecuteTime": {
     "end_time": "2017-11-17T10:26:18.785382Z",
     "start_time": "2017-11-17T10:26:18.658645Z"
    },
    "collapsed": false
   },
   "outputs": [
    {
     "data": {
      "text/plain": [
       "<matplotlib.image.AxesImage at 0x12cb7ab70>"
      ]
     },
     "execution_count": 16,
     "metadata": {},
     "output_type": "execute_result"
    },
    {
     "data": {
      "image/png": "[encoded data removed]",
      "text/plain": [
       "<matplotlib.figure.Figure at 0x1233de7b8>"
      ]
     },
     "metadata": {},
     "output_type": "display_data"
    }
   ],
   "source": [
    "plt.imshow(Y[30].reshape(32, 32))"
   ]
  },
  {
   "cell_type": "markdown",
   "metadata": {},
   "source": [
    "## Create model"
   ]
  },
  {
   "cell_type": "markdown",
   "metadata": {},
   "source": [
    "### Without data augmentation"
   ]
  },
  {
   "cell_type": "code",
   "execution_count": 17,
   "metadata": {
    "ExecuteTime": {
     "end_time": "2017-11-17T10:26:20.435854Z",
     "start_time": "2017-11-17T10:26:20.426292Z"
    },
    "collapsed": true
   },
   "outputs": [],
   "source": [
    "def create_model(input_shape=(64, 64)):\n",
    "    \"\"\"\n",
    "    Simple convnet model\n",
    "    \"\"\"\n",
    "    model = Sequential()\n",
    "    model.add(Conv2D(100, (11,11), padding='valid', strides=(1, 1), input_shape=(input_shape[0], input_shape[1], 1)))\n",
    "    model.add(AveragePooling2D((6,6)))\n",
    "    model.add(Reshape([-1, 8100]))\n",
    "    model.add(Dense(1024, activation='sigmoid', kernel_regularizer=regularizers.l2(0.0001)))\n",
    "    model.add(Reshape([-1, 32, 32]))\n",
    "    return model"
   ]
  },
  {
   "cell_type": "code",
   "execution_count": 31,
   "metadata": {
    "ExecuteTime": {
     "end_time": "2017-11-17T10:26:20.825211Z",
     "start_time": "2017-11-17T10:26:20.745282Z"
    },
    "collapsed": false,
    "scrolled": false
   },
   "outputs": [
    {
     "name": "stdout",
     "output_type": "stream",
     "text": [
      "conv2d_2 (None, 64, 64, 1) (None, 54, 54, 100)\n",
      "average_pooling2d_2 (None, 54, 54, 100) (None, 9, 9, 100)\n",
      "reshape_3 (None, 9, 9, 100) (None, 1, 8100)\n",
      "dense_2 (None, 1, 8100) (None, 1, 1024)\n",
      "reshape_4 (None, 1, 1024) (None, 1, 32, 32)\n"
     ]
    }
   ],
   "source": [
    "m = create_model()\n",
    "for p in m.layers:\n",
    "    print(p.name, p.input_shape, p.output_shape)"
   ]
  },
  {
   "cell_type": "code",
   "execution_count": 32,
   "metadata": {
    "ExecuteTime": {
     "end_time": "2017-11-17T10:26:22.482558Z",
     "start_time": "2017-11-17T10:26:22.441470Z"
    },
    "collapsed": true
   },
   "outputs": [],
   "source": [
    "m.compile(loss='mean_squared_error',\n",
    "          optimizer='adam',\n",
    "          metrics=['accuracy'])"
   ]
  },
  {
   "cell_type": "code",
   "execution_count": 35,
   "metadata": {
    "ExecuteTime": {
     "end_time": "2017-11-17T10:30:28.296815Z",
     "start_time": "2017-11-17T10:26:23.665596Z"
    },
    "collapsed": false
   },
   "outputs": [
    {
     "name": "stdout",
     "output_type": "stream",
     "text": [
      "Epoch 1/3\n",
      "495/495 [==============================] - 11s - loss: 0.0783 - acc: 0.0905    \n",
      "Epoch 2/3\n",
      "495/495 [==============================] - 11s - loss: 0.0616 - acc: 0.0427    \n",
      "Epoch 3/3\n",
      "495/495 [==============================] - 11s - loss: 0.0509 - acc: 0.0521    \n"
     ]
    }
   ],
   "source": [
    "h = m.fit(X, Y, batch_size=16, epochs=3) #epochs = 50"
   ]
  },
  {
   "cell_type": "code",
   "execution_count": 23,
   "metadata": {
    "ExecuteTime": {
     "end_time": "2017-11-17T10:30:33.387061Z",
     "start_time": "2017-11-17T10:30:33.250902Z"
    },
    "collapsed": false
   },
   "outputs": [
    {
     "data": {
      "text/plain": [
       "Text(0.5,0,'epochs')"
      ]
     },
     "execution_count": 23,
     "metadata": {},
     "output_type": "execute_result"
    },
    {
     "data": {
      "image/png": "[encoded data removed]",
      "text/plain": [
       "<matplotlib.figure.Figure at 0x12d344278>"
      ]
     },
     "metadata": {},
     "output_type": "display_data"
    }
   ],
   "source": [
    "metric = 'loss'\n",
    "plt.plot(range(len(h.history[metric])), h.history[metric])\n",
    "plt.ylabel(metric)\n",
    "plt.xlabel('epochs')"
   ]
  },
  {
   "cell_type": "code",
   "execution_count": 36,
   "metadata": {
    "ExecuteTime": {
     "end_time": "2017-11-17T10:43:29.340473Z",
     "start_time": "2017-11-17T10:43:28.477284Z"
    },
    "collapsed": true
   },
   "outputs": [],
   "source": [
    "y_pred = m.predict(X, batch_size=16)"
   ]
  },
  {
   "cell_type": "code",
   "execution_count": 37,
   "metadata": {
    "collapsed": false
   },
   "outputs": [
    {
     "name": "stdout",
     "output_type": "stream",
     "text": [
      "Stored 'y_pred' (ndarray)\n"
     ]
    }
   ],
   "source": [
    "%store y_pred"
   ]
  },
  {
   "cell_type": "code",
   "execution_count": 38,
   "metadata": {
    "ExecuteTime": {
     "end_time": "2017-11-17T10:50:25.232467Z",
     "start_time": "2017-11-17T10:50:25.225197Z"
    },
    "collapsed": false
   },
   "outputs": [],
   "source": [
    "j = 17\n",
    "# select one predicted ROI\n",
    "pred = y_pred[j].reshape((32,32))\n",
    "# select the non null pixels\n",
    "pos_pred = np.where(pred > 0.5)\n",
    "# create ROI from non null pixels (pos pred: not a square)\n",
    "mask_roi = get_roi(pred, np.array(pos_pred).reshape(len(pos_pred[0]), 2))\n",
    "# resize ROI to the original MR size\n",
    "mask_roi = cv2.resize(mask_roi, (256, 256), interpolation = cv2.INTERSECT_FULL)"
   ]
  },
  {
   "cell_type": "code",
   "execution_count": 39,
   "metadata": {
    "ExecuteTime": {
     "end_time": "2017-11-17T10:50:25.651538Z",
     "start_time": "2017-11-17T10:50:25.494193Z"
    },
    "collapsed": false
   },
   "outputs": [
    {
     "name": "stdout",
     "output_type": "stream",
     "text": [
      "(92, 92)\n"
     ]
    },
    {
     "data": {
      "text/plain": [
       "<matplotlib.image.AxesImage at 0x12caba748>"
      ]
     },
     "execution_count": 39,
     "metadata": {},
     "output_type": "execute_result"
    },
    {
     "data": {
      "image/png": "[encoded data removed]",
      "text/plain": [
       "<matplotlib.figure.Figure at 0x12ce14e10>"
      ]
     },
     "metadata": {},
     "output_type": "display_data"
    }
   ],
   "source": [
    "# select the non null pixel to crop a ROI from original image\n",
    "pos_im = np.where(X_fullsize[j] * mask_roi > 0.5)\n",
    "contour2 = np.array(pos_im).reshape(len(pos_im[0]), 2)\n",
    "# select the correct square from the ROI\n",
    "Xmin, Xmax = contour2[:, 0].min(), contour2[:, 0].max()\n",
    "Ymin, Ymax = contour2[:, 1].min(), contour2[:, 1].max()\n",
    "print((X_fullsize[j] * mask_roi)[Xmin:Xmax, Ymin:Ymax].shape)\n",
    "plt.imshow((X_fullsize[j] * mask_roi)[Xmin:Xmax, Ymin:Ymax])"
   ]
  },
  {
   "cell_type": "markdown",
   "metadata": {
    "heading_collapsed": true
   },
   "source": [
    "### With data augmentation"
   ]
  },
  {
   "cell_type": "code",
   "execution_count": null,
   "metadata": {
    "ExecuteTime": {
     "end_time": "2017-11-13T15:36:03.794350Z",
     "start_time": "2017-11-13T15:33:54.667581Z"
    },
    "collapsed": true,
    "hidden": true
   },
   "outputs": [],
   "source": [
    "datagen = ImageDataGenerator(\n",
    "    featurewise_center=False,  # set input mean to 0 over the dataset\n",
    "    samplewise_center=False,  # set each sample mean to 0\n",
    "    featurewise_std_normalization=False,  # divide inputs by std of the dataset\n",
    "    samplewise_std_normalization=False,  # divide each input by its std\n",
    "    zca_whitening=False,  # apply ZCA whitening\n",
    "    rotation_range=50,  # randomly rotate images in the range (degrees, 0 to 180)\n",
    "    width_shift_range=0.1,  # randomly shift images horizontally (fraction of total width)\n",
    "    height_shift_range=0.1,  # randomly shift images vertically (fraction of total height)\n",
    "    horizontal_flip=True,  # randomly flip images\n",
    "    vertical_flip=False) \n",
    "datagen.fit(X)\n",
    "history = m.fit_generator(datagen.flow(X, Y,\n",
    "                            batch_size=10),\n",
    "                            steps_per_epoch=X.shape[0] // 10,\n",
    "                            epochs=16)  "
   ]
  },
  {
   "cell_type": "code",
   "execution_count": null,
   "metadata": {
    "ExecuteTime": {
     "end_time": "2017-11-13T15:36:28.027380Z",
     "start_time": "2017-11-13T15:36:27.845268Z"
    },
    "collapsed": false,
    "hidden": true
   },
   "outputs": [],
   "source": [
    "metric = 'loss'\n",
    "plt.plot(range(len(history.history[metric])), history.history[metric])\n",
    "plt.ylabel(metric)\n",
    "plt.xlabel('epochs')"
   ]
  },
  {
   "cell_type": "code",
   "execution_count": null,
   "metadata": {
    "ExecuteTime": {
     "end_time": "2017-11-13T15:36:55.354940Z",
     "start_time": "2017-11-13T15:36:54.414304Z"
    },
    "collapsed": true,
    "hidden": true
   },
   "outputs": [],
   "source": [
    "y_pred = m.predict(X, batch_size=16)"
   ]
  },
  {
   "cell_type": "code",
   "execution_count": null,
   "metadata": {
    "ExecuteTime": {
     "end_time": "2017-11-13T15:36:56.542272Z",
     "start_time": "2017-11-13T15:36:56.388857Z"
    },
    "collapsed": false,
    "hidden": true
   },
   "outputs": [],
   "source": [
    "plt.imshow(y_pred[2].reshape(32,32))"
   ]
  },
  {
   "cell_type": "code",
   "execution_count": null,
   "metadata": {
    "ExecuteTime": {
     "end_time": "2017-11-13T15:29:00.998734Z",
     "start_time": "2017-11-13T15:29:00.831426Z"
    },
    "collapsed": false,
    "hidden": true
   },
   "outputs": [],
   "source": [
    "plt.imshow(X[2].reshape(64,64))"
   ]
  },
  {
   "cell_type": "code",
   "execution_count": null,
   "metadata": {
    "collapsed": true,
    "hidden": true
   },
   "outputs": [],
   "source": []
  }
 ],
 "metadata": {
  "kernelspec": {
   "display_name": "Python 3",
   "language": "python",
   "name": "python3"
  },
  "language_info": {
   "codemirror_mode": {
    "name": "ipython",
    "version": 3
   },
   "file_extension": ".py",
   "mimetype": "text/x-python",
   "name": "python",
   "nbconvert_exporter": "python",
   "pygments_lexer": "ipython3",
   "version": "3.5.4"
  },
  "toc": {
   "nav_menu": {
    "height": "84px",
    "width": "252px"
   },
   "number_sections": true,
   "sideBar": true,
   "skip_h1_title": false,
   "toc_cell": false,
   "toc_position": {},
   "toc_section_display": "block",
   "toc_window_display": false
  }
 },
 "nbformat": 4,
 "nbformat_minor": 2
}
