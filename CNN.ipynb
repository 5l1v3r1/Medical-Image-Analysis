{
 "cells": [
  {
   "cell_type": "code",
   "execution_count": 4,
   "metadata": {
    "ExecuteTime": {
     "end_time": "2017-11-17T10:10:03.385594Z",
     "start_time": "2017-11-17T10:10:03.369680Z"
    }
   },
   "outputs": [],
   "source": [
    "import keras\n",
    "from keras.preprocessing.image import ImageDataGenerator\n",
    "from keras.models import Sequential\n",
    "from keras.layers import Dense, Dropout, Activation, Flatten, Reshape\n",
    "from keras.layers import Conv2D, MaxPooling2D, AveragePooling2D\n",
    "from keras.layers.pooling import GlobalAveragePooling2D\n",
    "from keras.preprocessing.image import ImageDataGenerator\n",
    "from keras.layers import Embedding\n",
    "from keras import regularizers\n",
    "from keras.losses import mean_squared_error\n",
    "import glob\n",
    "import matplotlib.patches as patches\n",
    "import json\n",
    "import numpy as np\n",
    "from matplotlib.path import Path\n",
    "import dicom\n",
    "import cv2\n",
    "import matplotlib.pyplot as plt\n",
    "%matplotlib inline"
   ]
  },
  {
   "cell_type": "markdown",
   "metadata": {},
   "source": [
    "## Open dataset"
   ]
  },
  {
   "cell_type": "code",
   "execution_count": 54,
   "metadata": {
    "ExecuteTime": {
     "end_time": "2017-11-17T10:26:07.473593Z",
     "start_time": "2017-11-17T10:26:07.467481Z"
    }
   },
   "outputs": [],
   "source": [
    "case = 'SC-HF-NI-36'\n",
    "\n",
    "series = json.load(open('series_case.json')) \n",
    "image_path_base = './Data/challenge_training/%s/IM-%s' % (case, series[case])\n",
    "contour_path_base = './Data/Sunnybrook Cardiac MR Database ContoursPart3/\\\n",
    "TrainingDataContours/%s/contours-manual/IRCCI-expert/' % case\n",
    "contours_list = glob.glob(contour_path_base + '*')\n",
    "contours_list_series = [k.split('/')[7].split('-')[2] for k in contours_list]"
   ]
  },
  {
   "cell_type": "code",
   "execution_count": 55,
   "metadata": {
    "ExecuteTime": {
     "end_time": "2017-11-17T10:26:07.788516Z",
     "start_time": "2017-11-17T10:26:07.776630Z"
    }
   },
   "outputs": [],
   "source": [
    "def get_roi(image, contour):\n",
    "    X_min, Y_min = contour[:,0].min(), contour[:,1].min()\n",
    "    X_max, Y_max = contour[:,0].max(), contour[:,1].max()  \n",
    "    w = X_max - X_min\n",
    "    h = Y_max - Y_min\n",
    "    mask_roi = np.zeros(image.shape)\n",
    "    if w > h :\n",
    "        mask_roi[int(Y_min - (w -h)/2):int(Y_max + (w -h)/2), int(X_min):int(X_max)] = 1.0\n",
    "    else :\n",
    "        mask_roi[int(Y_min):int(Y_max), int(X_min - (h-w)/2):int(X_max + (h -w)/2)] = 1.0\n",
    "    return cv2.resize(mask_roi, (32, 32), interpolation = cv2.INTER_NEAREST)"
   ]
  },
  {
   "cell_type": "code",
   "execution_count": 56,
   "metadata": {
    "ExecuteTime": {
     "end_time": "2017-11-17T10:26:09.103676Z",
     "start_time": "2017-11-17T10:26:08.049715Z"
    }
   },
   "outputs": [
    {
     "name": "stdout",
     "output_type": "stream",
     "text": [
      "Dataset shape : (495, 64, 64, 1) (495, 1, 32, 32)\n"
     ]
    }
   ],
   "source": [
    "series = json.load(open('series_case.json')) \n",
    "images, images_fullsize, contours = [], [], []\n",
    "for case, serie in series.items():\n",
    "    image_path_base = './Data/challenge_training/%s/IM-%s' % (case, serie)\n",
    "    contour_path_base = './Data/Sunnybrook Cardiac MR Database ContoursPart3/\\\n",
    "TrainingDataContours/%s/contours-manual/IRCCI-expert/' % case\n",
    "    contours_list = glob.glob(contour_path_base + '*')\n",
    "    contours_list_series = [k.split('/')[7].split('-')[2] for k in contours_list]\n",
    "    for c in contours_list_series:\n",
    "        # Get contours and images path\n",
    "        idx_contour = contours_list_series.index(c)\n",
    "        image_path = image_path_base + '-%s.dcm' % c\n",
    "        contour_path = contours_list[idx_contour]\n",
    "\n",
    "        # open image as numpy array and resize to (64, 64)\n",
    "        image_part = dicom.read_file(image_path).pixel_array  \n",
    "\n",
    "        # open contours as numpy array\n",
    "        contour = []\n",
    "        file = open(contour_path, 'r') \n",
    "        for line in file: \n",
    "            contour.append(tuple(map(float, line.split())))\n",
    "        contour = np.array(contour)\n",
    "        contours.append(get_roi(image_part, contour))\n",
    "\n",
    "        images.append(cv2.resize(image_part, (64, 64)))\n",
    "        images_fullsize.append(cv2.resize(image_part, (256, 256)))\n",
    "\n",
    "X_fullsize = np.array(images_fullsize)\n",
    "X = np.reshape(np.array(images), [len(images), 64, 64, 1])\n",
    "Y = np.reshape(np.array(contours), [len(contours), 1, 32, 32])\n",
    "print('Dataset shape :', X.shape, Y.shape)"
   ]
  },
  {
   "cell_type": "code",
   "execution_count": 53,
   "metadata": {
    "ExecuteTime": {
     "end_time": "2017-11-17T10:25:53.800645Z",
     "start_time": "2017-11-17T10:25:53.715355Z"
    }
   },
   "outputs": [
    {
     "name": "stdout",
     "output_type": "stream",
     "text": [
      "Dataset shape : (33, 64, 64, 1) (33, 1, 32, 32)\n"
     ]
    }
   ],
   "source": [
    "images, contours = [], []\n",
    "for c in contours_list_series:\n",
    "    # Get contours and images path\n",
    "    idx_contour = contours_list_series.index(c)\n",
    "    image_path = image_path_base + '-%s.dcm' % c\n",
    "    contour_path = contours_list[idx_contour]\n",
    "    \n",
    "    # open image as numpy array and resize to (64, 64)\n",
    "    image_part = dicom.read_file(image_path).pixel_array  \n",
    "    \n",
    "    # open contours as numpy array\n",
    "    contour = []\n",
    "    file = open(contour_path, 'r') \n",
    "    for line in file: \n",
    "        contour.append(tuple(map(float, line.split())))\n",
    "    contour = np.array(contour)\n",
    "    contours.append(get_roi(image_part, contour))\n",
    "    \n",
    "    images.append(cv2.resize(image_part, (64, 64)))\n",
    "    \n",
    "X = np.reshape(np.array(images), [len(images), 64, 64, 1])\n",
    "Y = np.reshape(np.array(contours), [len(contours), 1, 32, 32])\n",
    "print('Dataset shape :', X.shape, Y.shape)"
   ]
  },
  {
   "cell_type": "code",
   "execution_count": 57,
   "metadata": {
    "ExecuteTime": {
     "end_time": "2017-11-17T10:26:13.787789Z",
     "start_time": "2017-11-17T10:26:13.658954Z"
    }
   },
   "outputs": [
    {
     "data": {
      "text/plain": [
       "<matplotlib.image.AxesImage at 0x130ba5940>"
      ]
     },
     "execution_count": 57,
     "metadata": {},
     "output_type": "execute_result"
    },
    {
     "data": {
      "image/png": "[encoded data removed]",
      "text/plain": [
       "<matplotlib.figure.Figure at 0x12f7e27b8>"
      ]
     },
     "metadata": {},
     "output_type": "display_data"
    }
   ],
   "source": [
    "plt.imshow(X[30].reshape(64,64))"
   ]
  },
  {
   "cell_type": "code",
   "execution_count": 58,
   "metadata": {
    "ExecuteTime": {
     "end_time": "2017-11-17T10:26:18.785382Z",
     "start_time": "2017-11-17T10:26:18.658645Z"
    }
   },
   "outputs": [
    {
     "data": {
      "text/plain": [
       "<matplotlib.image.AxesImage at 0x1334bf4e0>"
      ]
     },
     "execution_count": 58,
     "metadata": {},
     "output_type": "execute_result"
    },
    {
     "data": {
      "image/png": "[encoded data removed]",
      "text/plain": [
       "<matplotlib.figure.Figure at 0x133428940>"
      ]
     },
     "metadata": {},
     "output_type": "display_data"
    }
   ],
   "source": [
    "plt.imshow(Y[30].reshape(32, 32))"
   ]
  },
  {
   "cell_type": "markdown",
   "metadata": {},
   "source": [
    "## Create model"
   ]
  },
  {
   "cell_type": "markdown",
   "metadata": {},
   "source": [
    "### Without data augmentation"
   ]
  },
  {
   "cell_type": "code",
   "execution_count": 59,
   "metadata": {
    "ExecuteTime": {
     "end_time": "2017-11-17T10:26:20.435854Z",
     "start_time": "2017-11-17T10:26:20.426292Z"
    }
   },
   "outputs": [],
   "source": [
    "def create_model(input_shape=(64, 64)):\n",
    "    \"\"\"\n",
    "    Simple convnet model\n",
    "    \"\"\"\n",
    "    model = Sequential()\n",
    "    model.add(Conv2D(100, (11,11), padding='valid', strides=(1, 1), input_shape=(input_shape[0], input_shape[1], 1)))\n",
    "    model.add(AveragePooling2D((6,6)))\n",
    "    model.add(Reshape([-1, 8100]))\n",
    "    model.add(Dense(1024, activation='sigmoid', kernel_regularizer=regularizers.l2(0.0001)))\n",
    "    model.add(Reshape([-1, 32, 32]))\n",
    "    return model"
   ]
  },
  {
   "cell_type": "code",
   "execution_count": 60,
   "metadata": {
    "ExecuteTime": {
     "end_time": "2017-11-17T10:26:20.825211Z",
     "start_time": "2017-11-17T10:26:20.745282Z"
    },
    "scrolled": false
   },
   "outputs": [
    {
     "name": "stdout",
     "output_type": "stream",
     "text": [
      "conv2d_2 (None, 64, 64, 1) (None, 54, 54, 100)\n",
      "average_pooling2d_2 (None, 54, 54, 100) (None, 9, 9, 100)\n",
      "reshape_3 (None, 9, 9, 100) (None, 1, 8100)\n",
      "dense_2 (None, 1, 8100) (None, 1, 1024)\n",
      "reshape_4 (None, 1, 1024) (None, 1, 32, 32)\n"
     ]
    }
   ],
   "source": [
    "m = create_model()\n",
    "for p in m.layers:\n",
    "    print(p.name, p.input_shape, p.output_shape)"
   ]
  },
  {
   "cell_type": "code",
   "execution_count": 61,
   "metadata": {
    "ExecuteTime": {
     "end_time": "2017-11-17T10:26:22.482558Z",
     "start_time": "2017-11-17T10:26:22.441470Z"
    }
   },
   "outputs": [],
   "source": [
    "m.compile(loss='mean_squared_error',\n",
    "          optimizer='adam',\n",
    "          metrics=['accuracy'])"
   ]
  },
  {
   "cell_type": "code",
   "execution_count": 62,
   "metadata": {
    "ExecuteTime": {
     "end_time": "2017-11-17T10:30:28.296815Z",
     "start_time": "2017-11-17T10:26:23.665596Z"
    },
    "scrolled": true
   },
   "outputs": [
    {
     "name": "stdout",
     "output_type": "stream",
     "text": [
      "Epoch 1/50\n",
      "495/495 [==============================] - 5s 10ms/step - loss: 0.1913 - acc: 0.2059\n",
      "Epoch 2/50\n",
      "495/495 [==============================] - 4s 8ms/step - loss: 0.1118 - acc: 0.1483\n",
      "Epoch 3/50\n",
      "495/495 [==============================] - 5s 9ms/step - loss: 0.0832 - acc: 0.0617\n",
      "Epoch 4/50\n",
      "495/495 [==============================] - 4s 9ms/step - loss: 0.0660 - acc: 0.0497\n",
      "Epoch 5/50\n",
      "495/495 [==============================] - 4s 8ms/step - loss: 0.0553 - acc: 0.0455\n",
      "Epoch 6/50\n",
      "495/495 [==============================] - 4s 9ms/step - loss: 0.0481 - acc: 0.0396\n",
      "Epoch 7/50\n",
      "495/495 [==============================] - 5s 10ms/step - loss: 0.0421 - acc: 0.0277\n",
      "Epoch 8/50\n",
      "495/495 [==============================] - 5s 9ms/step - loss: 0.0386 - acc: 0.0359\n",
      "Epoch 9/50\n",
      "495/495 [==============================] - 5s 10ms/step - loss: 0.0354 - acc: 0.0373\n",
      "Epoch 10/50\n",
      "495/495 [==============================] - 5s 10ms/step - loss: 0.0344 - acc: 0.0376: 2s - loss: 0.0344 \n",
      "Epoch 11/50\n",
      "495/495 [==============================] - 5s 10ms/step - loss: 0.0334 - acc: 0.0368\n",
      "Epoch 12/50\n",
      "495/495 [==============================] - 5s 11ms/step - loss: 0.0307 - acc: 0.0374\n",
      "Epoch 13/50\n",
      "495/495 [==============================] - 5s 10ms/step - loss: 0.0299 - acc: 0.0398\n",
      "Epoch 14/50\n",
      "495/495 [==============================] - 5s 11ms/step - loss: 0.0282 - acc: 0.0404\n",
      "Epoch 15/50\n",
      "495/495 [==============================] - 5s 11ms/step - loss: 0.0274 - acc: 0.0344\n",
      "Epoch 16/50\n",
      "495/495 [==============================] - 5s 10ms/step - loss: 0.0265 - acc: 0.0417\n",
      "Epoch 17/50\n",
      "495/495 [==============================] - 5s 9ms/step - loss: 0.0261 - acc: 0.0415\n",
      "Epoch 18/50\n",
      "495/495 [==============================] - 5s 10ms/step - loss: 0.0261 - acc: 0.0431\n",
      "Epoch 19/50\n",
      "495/495 [==============================] - 5s 10ms/step - loss: 0.0260 - acc: 0.0463\n",
      "Epoch 20/50\n",
      "495/495 [==============================] - 5s 10ms/step - loss: 0.0268 - acc: 0.0420\n",
      "Epoch 21/50\n",
      "495/495 [==============================] - 5s 10ms/step - loss: 0.0284 - acc: 0.0514\n",
      "Epoch 22/50\n",
      "495/495 [==============================] - 5s 10ms/step - loss: 0.0292 - acc: 0.0479\n",
      "Epoch 23/50\n",
      "495/495 [==============================] - 5s 10ms/step - loss: 0.0296 - acc: 0.0452\n",
      "Epoch 24/50\n",
      "495/495 [==============================] - 5s 10ms/step - loss: 0.0297 - acc: 0.0437\n",
      "Epoch 25/50\n",
      "495/495 [==============================] - 5s 10ms/step - loss: 0.0302 - acc: 0.0474\n",
      "Epoch 26/50\n",
      "495/495 [==============================] - 5s 9ms/step - loss: 0.0310 - acc: 0.0458\n",
      "Epoch 27/50\n",
      "495/495 [==============================] - 5s 9ms/step - loss: 0.0305 - acc: 0.0429\n",
      "Epoch 28/50\n",
      "495/495 [==============================] - 5s 10ms/step - loss: 0.0310 - acc: 0.0438\n",
      "Epoch 29/50\n",
      "495/495 [==============================] - 5s 11ms/step - loss: 0.0315 - acc: 0.0471\n",
      "Epoch 30/50\n",
      "495/495 [==============================] - 5s 11ms/step - loss: 0.0320 - acc: 0.0476\n",
      "Epoch 31/50\n",
      "495/495 [==============================] - 5s 10ms/step - loss: 0.0320 - acc: 0.0475\n",
      "Epoch 32/50\n",
      "495/495 [==============================] - 5s 10ms/step - loss: 0.0330 - acc: 0.0472\n",
      "Epoch 33/50\n",
      "495/495 [==============================] - 5s 10ms/step - loss: 0.0334 - acc: 0.0513\n",
      "Epoch 34/50\n",
      "495/495 [==============================] - 5s 10ms/step - loss: 0.0323 - acc: 0.0548\n",
      "Epoch 35/50\n",
      "495/495 [==============================] - 6s 11ms/step - loss: 0.0310 - acc: 0.0542\n",
      "Epoch 36/50\n",
      "495/495 [==============================] - 5s 10ms/step - loss: 0.0318 - acc: 0.0553\n",
      "Epoch 37/50\n",
      "495/495 [==============================] - 5s 10ms/step - loss: 0.0319 - acc: 0.0562\n",
      "Epoch 38/50\n",
      "495/495 [==============================] - 5s 10ms/step - loss: 0.0309 - acc: 0.0617\n",
      "Epoch 39/50\n",
      "495/495 [==============================] - 5s 11ms/step - loss: 0.0303 - acc: 0.0630\n",
      "Epoch 40/50\n",
      "495/495 [==============================] - 5s 10ms/step - loss: 0.0303 - acc: 0.0712\n",
      "Epoch 41/50\n",
      "495/495 [==============================] - 5s 10ms/step - loss: 0.0302 - acc: 0.0675\n",
      "Epoch 42/50\n",
      "495/495 [==============================] - 5s 10ms/step - loss: 0.0299 - acc: 0.0677\n",
      "Epoch 43/50\n",
      "495/495 [==============================] - 5s 10ms/step - loss: 0.0300 - acc: 0.0584\n",
      "Epoch 44/50\n",
      "495/495 [==============================] - 5s 10ms/step - loss: 0.0308 - acc: 0.0537\n",
      "Epoch 45/50\n",
      "495/495 [==============================] - 5s 10ms/step - loss: 0.0306 - acc: 0.0503\n",
      "Epoch 46/50\n",
      "495/495 [==============================] - 5s 10ms/step - loss: 0.0305 - acc: 0.0477\n",
      "Epoch 47/50\n",
      "495/495 [==============================] - 5s 10ms/step - loss: 0.0305 - acc: 0.0452\n",
      "Epoch 48/50\n",
      "495/495 [==============================] - 5s 10ms/step - loss: 0.0299 - acc: 0.0463\n",
      "Epoch 49/50\n",
      "495/495 [==============================] - 5s 10ms/step - loss: 0.0304 - acc: 0.0455\n",
      "Epoch 50/50\n",
      "495/495 [==============================] - 5s 10ms/step - loss: 0.0305 - acc: 0.0384\n"
     ]
    }
   ],
   "source": [
    "h = m.fit(X, Y, batch_size=16, epochs=50)"
   ]
  },
  {
   "cell_type": "code",
   "execution_count": 63,
   "metadata": {
    "ExecuteTime": {
     "end_time": "2017-11-17T10:30:33.387061Z",
     "start_time": "2017-11-17T10:30:33.250902Z"
    }
   },
   "outputs": [
    {
     "data": {
      "text/plain": [
       "Text(0.5,0,'epochs')"
      ]
     },
     "execution_count": 63,
     "metadata": {},
     "output_type": "execute_result"
    },
    {
     "data": {
      "image/png": "[encoded data removed]",
      "text/plain": [
       "<matplotlib.figure.Figure at 0x13bafd080>"
      ]
     },
     "metadata": {},
     "output_type": "display_data"
    }
   ],
   "source": [
    "metric = 'loss'\n",
    "plt.plot(range(len(h.history[metric])), h.history[metric])\n",
    "plt.ylabel(metric)\n",
    "plt.xlabel('epochs')"
   ]
  },
  {
   "cell_type": "code",
   "execution_count": 102,
   "metadata": {
    "ExecuteTime": {
     "end_time": "2017-11-17T10:43:29.340473Z",
     "start_time": "2017-11-17T10:43:28.477284Z"
    }
   },
   "outputs": [],
   "source": [
    "y_pred = m.predict(X, batch_size=16)"
   ]
  },
  {
   "cell_type": "code",
   "execution_count": 133,
   "metadata": {
    "ExecuteTime": {
     "end_time": "2017-11-17T10:50:25.232467Z",
     "start_time": "2017-11-17T10:50:25.225197Z"
    }
   },
   "outputs": [],
   "source": [
    "j = 16\n",
    "# select one predicted ROI\n",
    "pred = y_pred[j].reshape((32,32))\n",
    "# select the non null pixels\n",
    "pos_pred = np.where(pred > 0.5)\n",
    "# create ROI from non null pixels (pos pred: not a square)\n",
    "mask_roi = get_roi(pred, np.array(t).reshape(len(t[0]), 2))\n",
    "# resize ROI to the original MR size\n",
    "mask_roi = cv2.resize(mask_roi, (256, 256), interpolation = cv2.INTERSECT_FULL)"
   ]
  },
  {
   "cell_type": "code",
   "execution_count": 134,
   "metadata": {
    "ExecuteTime": {
     "end_time": "2017-11-17T10:50:25.651538Z",
     "start_time": "2017-11-17T10:50:25.494193Z"
    }
   },
   "outputs": [
    {
     "name": "stdout",
     "output_type": "stream",
     "text": [
      "(107, 108)\n"
     ]
    },
    {
     "data": {
      "text/plain": [
       "<matplotlib.image.AxesImage at 0x134b652e8>"
      ]
     },
     "execution_count": 134,
     "metadata": {},
     "output_type": "execute_result"
    },
    {
     "data": {
      "image/png": "[encoded data removed]",
      "text/plain": [
       "<matplotlib.figure.Figure at 0x134b30b38>"
      ]
     },
     "metadata": {},
     "output_type": "display_data"
    }
   ],
   "source": [
    "# select the non null pixel to crop a ROI from original image\n",
    "pos_im = np.where(X_fullsize[j] * mask_roi > 0.5)\n",
    "contour2 = np.array(pos_im).reshape(len(pos_im[0]), 2)\n",
    "# select the correct square from the ROI\n",
    "Xmin, Xmax = contour2[:, 0].min(), contour2[:, 0].max()\n",
    "Ymin, Ymax = contour2[:, 1].min(), contour2[:, 1].max()\n",
    "print((X_fullsize[j] * mask_roi)[Xmin:Xmax, Ymin:Ymax].shape)\n",
    "plt.imshow((X_fullsize[j] * mask_roi)[Xmin:Xmax, Ymin:Ymax])"
   ]
  },
  {
   "cell_type": "markdown",
   "metadata": {
    "heading_collapsed": true
   },
   "source": [
    "### With data augmentation"
   ]
  },
  {
   "cell_type": "code",
   "execution_count": 373,
   "metadata": {
    "ExecuteTime": {
     "end_time": "2017-11-13T15:36:03.794350Z",
     "start_time": "2017-11-13T15:33:54.667581Z"
    },
    "hidden": true
   },
   "outputs": [
    {
     "name": "stderr",
     "output_type": "stream",
     "text": [
      "/Users/alexandreattia/Desktop/Work/workenv/lib/python3.5/site-packages/keras/preprocessing/image.py:653: UserWarning: Expected input to be images (as Numpy array) following the data format convention \"channels_last\" (channels on axis 3), i.e. expected either 1, 3 or 4 channels on axis 3. However, it was passed an array with shape (495, 64, 64, 1) (1 channels).\n",
      "  ' (' + str(x.shape[self.channel_axis]) + ' channels).')\n"
     ]
    },
    {
     "name": "stdout",
     "output_type": "stream",
     "text": [
      "Epoch 1/16\n",
      "49/49 [==============================] - 7s - loss: 0.0395 - acc: 0.0370     \n",
      "Epoch 2/16\n",
      "49/49 [==============================] - 7s - loss: 0.0388 - acc: 0.0528     \n",
      "Epoch 3/16\n",
      "49/49 [==============================] - 7s - loss: 0.0358 - acc: 0.0507     \n",
      "Epoch 4/16\n",
      "49/49 [==============================] - 7s - loss: 0.0334 - acc: 0.0566     \n",
      "Epoch 5/16\n",
      "49/49 [==============================] - 7s - loss: 0.0328 - acc: 0.0680     \n",
      "Epoch 6/16\n",
      "49/49 [==============================] - 8s - loss: 0.0321 - acc: 0.0626     \n",
      "Epoch 7/16\n",
      "49/49 [==============================] - 8s - loss: 0.0319 - acc: 0.0622     \n",
      "Epoch 8/16\n",
      "49/49 [==============================] - 8s - loss: 0.0298 - acc: 0.0614     \n",
      "Epoch 9/16\n",
      "49/49 [==============================] - 8s - loss: 0.0294 - acc: 0.0517     \n",
      "Epoch 10/16\n",
      "49/49 [==============================] - 8s - loss: 0.0295 - acc: 0.0652     \n",
      "Epoch 11/16\n",
      "49/49 [==============================] - 8s - loss: 0.0294 - acc: 0.0694     \n",
      "Epoch 12/16\n",
      "49/49 [==============================] - 8s - loss: 0.0288 - acc: 0.0593     \n",
      "Epoch 13/16\n",
      "49/49 [==============================] - 8s - loss: 0.0293 - acc: 0.0568     \n",
      "Epoch 14/16\n",
      "49/49 [==============================] - 8s - loss: 0.0287 - acc: 0.0686     \n",
      "Epoch 15/16\n",
      "49/49 [==============================] - 8s - loss: 0.0285 - acc: 0.0679     \n",
      "Epoch 16/16\n",
      "49/49 [==============================] - 8s - loss: 0.0292 - acc: 0.0613     \n"
     ]
    }
   ],
   "source": [
    "datagen = ImageDataGenerator(\n",
    "    featurewise_center=False,  # set input mean to 0 over the dataset\n",
    "    samplewise_center=False,  # set each sample mean to 0\n",
    "    featurewise_std_normalization=False,  # divide inputs by std of the dataset\n",
    "    samplewise_std_normalization=False,  # divide each input by its std\n",
    "    zca_whitening=False,  # apply ZCA whitening\n",
    "    rotation_range=50,  # randomly rotate images in the range (degrees, 0 to 180)\n",
    "    width_shift_range=0.1,  # randomly shift images horizontally (fraction of total width)\n",
    "    height_shift_range=0.1,  # randomly shift images vertically (fraction of total height)\n",
    "    horizontal_flip=True,  # randomly flip images\n",
    "    vertical_flip=False) \n",
    "datagen.fit(X)\n",
    "history = m.fit_generator(datagen.flow(X, Y,\n",
    "                            batch_size=10),\n",
    "                            steps_per_epoch=X.shape[0] // 10,\n",
    "                            epochs=16)  "
   ]
  },
  {
   "cell_type": "code",
   "execution_count": 375,
   "metadata": {
    "ExecuteTime": {
     "end_time": "2017-11-13T15:36:28.027380Z",
     "start_time": "2017-11-13T15:36:27.845268Z"
    },
    "hidden": true
   },
   "outputs": [
    {
     "data": {
      "text/plain": [
       "<matplotlib.text.Text at 0x13d6320f0>"
      ]
     },
     "execution_count": 375,
     "metadata": {},
     "output_type": "execute_result"
    },
    {
     "data": {
      "image/png": "[encoded data removed]",
      "text/plain": [
       "<matplotlib.figure.Figure at 0x13d845e48>"
      ]
     },
     "metadata": {},
     "output_type": "display_data"
    }
   ],
   "source": [
    "metric = 'loss'\n",
    "plt.plot(range(len(history.history[metric])), history.history[metric])\n",
    "plt.ylabel(metric)\n",
    "plt.xlabel('epochs')"
   ]
  },
  {
   "cell_type": "code",
   "execution_count": 377,
   "metadata": {
    "ExecuteTime": {
     "end_time": "2017-11-13T15:36:55.354940Z",
     "start_time": "2017-11-13T15:36:54.414304Z"
    },
    "collapsed": true,
    "hidden": true
   },
   "outputs": [],
   "source": [
    "y_pred = m.predict(X, batch_size=16)"
   ]
  },
  {
   "cell_type": "code",
   "execution_count": 378,
   "metadata": {
    "ExecuteTime": {
     "end_time": "2017-11-13T15:36:56.542272Z",
     "start_time": "2017-11-13T15:36:56.388857Z"
    },
    "hidden": true
   },
   "outputs": [
    {
     "data": {
      "text/plain": [
       "<matplotlib.image.AxesImage at 0x13d31f780>"
      ]
     },
     "execution_count": 378,
     "metadata": {},
     "output_type": "execute_result"
    },
    {
     "data": {
      "image/png": "[encoded data removed]",
      "text/plain": [
       "<matplotlib.figure.Figure at 0x13d270630>"
      ]
     },
     "metadata": {},
     "output_type": "display_data"
    }
   ],
   "source": [
    "plt.imshow(y_pred[2].reshape(32,32))"
   ]
  },
  {
   "cell_type": "code",
   "execution_count": 367,
   "metadata": {
    "ExecuteTime": {
     "end_time": "2017-11-13T15:29:00.998734Z",
     "start_time": "2017-11-13T15:29:00.831426Z"
    },
    "hidden": true
   },
   "outputs": [
    {
     "data": {
      "text/plain": [
       "<matplotlib.image.AxesImage at 0x13d609780>"
      ]
     },
     "execution_count": 367,
     "metadata": {},
     "output_type": "execute_result"
    },
    {
     "data": {
      "image/png": "[encoded data removed]",
      "text/plain": [
       "<matplotlib.figure.Figure at 0x13d55f358>"
      ]
     },
     "metadata": {},
     "output_type": "display_data"
    }
   ],
   "source": [
    "plt.imshow(X[2].reshape(64,64))"
   ]
  },
  {
   "cell_type": "code",
   "execution_count": null,
   "metadata": {
    "collapsed": true,
    "hidden": true
   },
   "outputs": [],
   "source": []
  }
 ],
 "metadata": {
  "kernelspec": {
   "display_name": "Python 3",
   "language": "python",
   "name": "python3"
  },
  "language_info": {
   "codemirror_mode": {
    "name": "ipython",
    "version": 3
   },
   "file_extension": ".py",
   "mimetype": "text/x-python",
   "name": "python",
   "nbconvert_exporter": "python",
   "pygments_lexer": "ipython3",
   "version": "3.6.3"
  },
  "toc": {
   "nav_menu": {
    "height": "84px",
    "width": "252px"
   },
   "number_sections": true,
   "sideBar": true,
   "skip_h1_title": false,
   "toc_cell": false,
   "toc_position": {},
   "toc_section_display": "block",
   "toc_window_display": false
  }
 },
 "nbformat": 4,
 "nbformat_minor": 2
}
