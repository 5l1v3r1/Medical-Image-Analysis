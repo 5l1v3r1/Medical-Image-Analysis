{
 "cells": [
  {
   "cell_type": "code",
   "execution_count": 1,
   "metadata": {
    "ExecuteTime": {
     "end_time": "2017-11-17T16:33:37.407508Z",
     "start_time": "2017-11-17T16:33:35.991540Z"
    },
    "scrolled": true
   },
   "outputs": [
    {
     "name": "stderr",
     "output_type": "stream",
     "text": [
      "Using TensorFlow backend.\n",
      "/Users/attia/Desktop/Work/workenv/lib/python3.6/importlib/_bootstrap.py:219: RuntimeWarning: compiletime version 3.5 of module 'tensorflow.python.framework.fast_tensor_util' does not match runtime version 3.6\n",
      "  return f(*args, **kwds)\n"
     ]
    }
   ],
   "source": [
    "import keras\n",
    "from keras.preprocessing.image import ImageDataGenerator\n",
    "from keras.models import Sequential\n",
    "from keras.layers import Dense, Dropout, Activation, Flatten, Reshape\n",
    "from keras.layers import Conv2D, MaxPooling2D, AveragePooling2D\n",
    "from keras.layers.pooling import GlobalAveragePooling2D\n",
    "from keras.preprocessing.image import ImageDataGenerator\n",
    "from keras.layers import Embedding\n",
    "from keras import regularizers\n",
    "from keras.losses import mean_squared_error\n",
    "import glob\n",
    "import matplotlib.patches as patches\n",
    "import json\n",
    "import numpy as np\n",
    "from matplotlib.path import Path\n",
    "import dicom\n",
    "import cv2\n",
    "import matplotlib.pyplot as plt\n",
    "%matplotlib inline"
   ]
  },
  {
   "cell_type": "markdown",
   "metadata": {},
   "source": [
    "The first step of the algorithm is to locate the Left-Ventricle and compute the Regions of Interest (ROI) around it. We want to re-create the convolutional neural network for this automatic detection. This CNN will generate binary mask with the ROI.  \n",
    "The first part is to open the dataset (pictures with the respective contour around the left ventricle) and generate the binary mask ROI (image with black background and a white foreground corresponding to the ROI) from the labeled data (contours drawn by experts), as it's the output of the CNN.\n",
    "The second part is the CNN model and the training."
   ]
  },
  {
   "cell_type": "markdown",
   "metadata": {},
   "source": [
    "## Open dataset"
   ]
  },
  {
   "cell_type": "code",
   "execution_count": 4,
   "metadata": {
    "ExecuteTime": {
     "end_time": "2017-11-17T16:40:29.156792Z",
     "start_time": "2017-11-17T16:40:29.141261Z"
    }
   },
   "outputs": [],
   "source": [
    "def get_roi(image, contour, shape_out = 32):\n",
    "    \"\"\"\n",
    "    Create a binary mask with ROI from contour. \n",
    "    Extract the maximum square around the contour.\n",
    "    :param image: input image (needed for shape only)\n",
    "    :param contour: numpy array contour (d, 2)\n",
    "    :return: numpy array mask ROI (shape_out, shape_out)\n",
    "    \"\"\"\n",
    "    X_min, Y_min = contour[:,0].min(), contour[:,1].min()\n",
    "    X_max, Y_max = contour[:,0].max(), contour[:,1].max()  \n",
    "    w = X_max - X_min\n",
    "    h = Y_max - Y_min\n",
    "    mask_roi = np.zeros(image.shape)\n",
    "    if w > h :\n",
    "        mask_roi[int(Y_min - (w -h)/2):int(Y_max + (w -h)/2), int(X_min):int(X_max)] = 1.0\n",
    "    else :\n",
    "        mask_roi[int(Y_min):int(Y_max), int(X_min - (h-w)/2):int(X_max + (h -w)/2)] = 1.0\n",
    "    return cv2.resize(mask_roi, (shape_out, shape_out), interpolation = cv2.INTER_NEAREST)"
   ]
  },
  {
   "cell_type": "code",
   "execution_count": 9,
   "metadata": {
    "ExecuteTime": {
     "end_time": "2017-11-17T16:51:49.288418Z",
     "start_time": "2017-11-17T16:51:49.225183Z"
    }
   },
   "outputs": [],
   "source": [
    "def create_dataset(image_shape=64, original_image_shape=256, \n",
    "                   roi_shape=32, data_path='./Data/'):\n",
    "    \"\"\"\n",
    "    Creating the dataset from the images and the contour for the CNN.\n",
    "    :param image_shape: image dataset desired size\n",
    "    :param original_image_shape: original image size\n",
    "    :param roi_shape: binary ROI mask shape\n",
    "    :param data_path: path for the dataset\n",
    "    :return: correct size image dataset, full size image dataset, label (contours) dataset\n",
    "    \"\"\"\n",
    "    # Create dataset\n",
    "    series = json.load(open('series_case.json')) \n",
    "    images, images_fullsize, contours = [], [], []\n",
    "    # Loop over the series\n",
    "    for case, serie in series.items():\n",
    "        image_path_base = data_path + 'challenge_training/%s/IM-%s' % (case, serie)\n",
    "        contour_path_base = data_path + 'Sunnybrook Cardiac MR Database ContoursPart3/\\\n",
    "TrainingDataContours/%s/contours-manual/IRCCI-expert/' % case\n",
    "        contours_list = glob.glob(contour_path_base + '*')\n",
    "        contours_list_series = [k.split('/')[7].split('-')[2] for k in contours_list]\n",
    "        # Loop over the contours/images\n",
    "        for c in contours_list_series:\n",
    "            # Get contours and images path\n",
    "            idx_contour = contours_list_series.index(c)\n",
    "            image_path = image_path_base + '-%s.dcm' % c\n",
    "            contour_path = contours_list[idx_contour]\n",
    "\n",
    "            # open image as numpy array and resize to (image_shape, image_shape)\n",
    "            image_part = dicom.read_file(image_path).pixel_array  \n",
    "\n",
    "            # open contours as numpy array\n",
    "            contour = []\n",
    "            file = open(contour_path, 'r') \n",
    "            for line in file: \n",
    "                contour.append(tuple(map(float, line.split())))\n",
    "            contour = np.array(contour)\n",
    "            # append binary ROI mask \n",
    "            contours.append(get_roi(image_part, contour))\n",
    "\n",
    "            # Open image and resize it \n",
    "            images.append(cv2.resize(image_part, (image_shape, image_shape)))\n",
    "            images_fullsize.append(cv2.resize(image_part, (original_image_shape, original_image_shape)))\n",
    "    X_fullsize = np.array(images_fullsize)\n",
    "    X = np.reshape(np.array(images), [len(images), image_shape, image_shape, 1])\n",
    "    Y = np.reshape(np.array(contours), [len(contours), 1, roi_shape, roi_shape])\n",
    "    print('Dataset shape :', X.shape, Y.shape)\n",
    "    return X, X_fullsize, Y"
   ]
  },
  {
   "cell_type": "markdown",
   "metadata": {},
   "source": [
    "For the input, the original image size of $256\\times256$ has been downsampled to $64\\times64$. The binary ROI mask (used as the labels) has a size of $32\\times32$ (as the CNN output mask). The white foreground of the binary mask is centered at the center of the left ventricle contour (known from the training manual contours)."
   ]
  },
  {
   "cell_type": "markdown",
   "metadata": {},
   "source": [
    "###### Note à modifier : \n",
    "(cf page 10) Pour l'instant, on utilise comme binary mask des numpy arrays $32\\times32$ alors qu'il y a marqué qu'il faut l'unrollé pour avoir un vector $l_{roi}^i$ (donc de dimension 1024). Il faudrait donc modifier notre CNN apres."
   ]
  },
  {
   "cell_type": "code",
   "execution_count": 10,
   "metadata": {
    "ExecuteTime": {
     "end_time": "2017-11-17T16:51:52.023871Z",
     "start_time": "2017-11-17T16:51:51.073207Z"
    }
   },
   "outputs": [
    {
     "name": "stdout",
     "output_type": "stream",
     "text": [
      "Dataset shape : (495, 64, 64, 1) (495, 1, 32, 32)\n"
     ]
    }
   ],
   "source": [
    "X, X_fullsize, Y = create_dataset()"
   ]
  },
  {
   "cell_type": "code",
   "execution_count": 15,
   "metadata": {
    "ExecuteTime": {
     "end_time": "2017-11-17T17:02:48.387702Z",
     "start_time": "2017-11-17T17:02:48.098939Z"
    }
   },
   "outputs": [
    {
     "data": {
      "image/png": "[encoded data removed]",
      "text/plain": [
       "<matplotlib.figure.Figure at 0x131516128>"
      ]
     },
     "metadata": {},
     "output_type": "display_data"
    }
   ],
   "source": [
    "f, ax = plt.subplots(ncols = 2, figsize=(10,10))\n",
    "ax[0].imshow(X[30].reshape(64,64))\n",
    "ax[0].set_title('Input image')\n",
    "ax[1].imshow(Y[30].reshape(32, 32))\n",
    "_ = ax[1].set_title('Input binary ROI mask')"
   ]
  },
  {
   "cell_type": "markdown",
   "metadata": {},
   "source": [
    "## Create model"
   ]
  },
  {
   "cell_type": "markdown",
   "metadata": {
    "ExecuteTime": {
     "end_time": "2017-11-17T17:22:18.817523Z",
     "start_time": "2017-11-17T17:22:18.815186Z"
    }
   },
   "source": [
    "### Model"
   ]
  },
  {
   "cell_type": "code",
   "execution_count": 16,
   "metadata": {
    "ExecuteTime": {
     "end_time": "2017-11-17T17:03:40.184090Z",
     "start_time": "2017-11-17T17:03:40.174324Z"
    }
   },
   "outputs": [],
   "source": [
    "def create_model(input_shape=(64, 64)):\n",
    "    \"\"\"\n",
    "    Simple convnet model : one convolution, one average pooling and one fully connected layer:\n",
    "    :return: Keras model\n",
    "    \"\"\"\n",
    "    model = Sequential()\n",
    "    model.add(Conv2D(100, (11,11), padding='valid', strides=(1, 1), input_shape=(input_shape[0], input_shape[1], 1)))\n",
    "    model.add(AveragePooling2D((6,6)))\n",
    "    model.add(Reshape([-1, 8100]))\n",
    "    model.add(Dense(1024, activation='sigmoid', kernel_regularizer=regularizers.l2(0.0001)))\n",
    "    model.add(Reshape([-1, 32, 32]))\n",
    "    return model"
   ]
  },
  {
   "cell_type": "code",
   "execution_count": 21,
   "metadata": {
    "ExecuteTime": {
     "end_time": "2017-11-17T17:05:59.878772Z",
     "start_time": "2017-11-17T17:05:59.763909Z"
    },
    "scrolled": false
   },
   "outputs": [
    {
     "name": "stdout",
     "output_type": "stream",
     "text": [
      "Size for each layer :\n",
      "Layer, Input Size, Output Size\n",
      "Conv2D_5 (None, 64, 64, 1) (None, 54, 54, 100)\n",
      "Average_Pooling2D_5 (None, 54, 54, 100) (None, 9, 9, 100)\n",
      "Reshape_9 (None, 9, 9, 100) (None, 1, 8100)\n",
      "Dense_5 (None, 1, 8100) (None, 1, 1024)\n",
      "Reshape_10 (None, 1, 1024) (None, 1, 32, 32)\n"
     ]
    }
   ],
   "source": [
    "m = create_model()\n",
    "m.compile(loss='mean_squared_error',\n",
    "          optimizer='adam',\n",
    "          metrics=['accuracy'])\n",
    "print('Size for each layer :\\nLayer, Input Size, Output Size')\n",
    "for p in m.layers:\n",
    "    print(p.name.title(), p.input_shape, p.output_shape)"
   ]
  },
  {
   "cell_type": "markdown",
   "metadata": {},
   "source": [
    "### Training"
   ]
  },
  {
   "cell_type": "markdown",
   "metadata": {},
   "source": [
    "Training the CNN involves obtaining the optimum values of filters. In the paper, they are using a sparse autoencoder which acts a pre-training step because the number of training and labeled data is limited. The task of a autoencoder is to construct $x^{(i)}$ at the output from the hidden values. We didn't implement this sparse autoencoder. We can try data augmentation : the number of training and labeled data is limited so we can try to use data augmentation in order to generate new picture from our training set. With the Keras library, we can apply transformations on our training pictures to generate \"new\" pictures."
   ]
  },
  {
   "cell_type": "code",
   "execution_count": 32,
   "metadata": {
    "ExecuteTime": {
     "end_time": "2017-11-17T17:35:17.209397Z",
     "start_time": "2017-11-17T17:35:17.195385Z"
    }
   },
   "outputs": [],
   "source": [
    "def training(m, X, Y, batch_size=16, epochs= 10, data_augm=False):\n",
    "    \"\"\"\n",
    "    Training CNN with the possibility to use data augmentation\n",
    "    :param m: Keras model\n",
    "    :param X: training pictures\n",
    "    :param Y: training binary ROI mask\n",
    "    :return: history\n",
    "    \"\"\"\n",
    "    if data_augm:\n",
    "        datagen = ImageDataGenerator(\n",
    "            featurewise_center=False,  # set input mean to 0 over the dataset\n",
    "            samplewise_center=False,  # set each sample mean to 0\n",
    "            featurewise_std_normalization=False,  # divide inputs by std of the dataset\n",
    "            samplewise_std_normalization=False,  # divide each input by its std\n",
    "            zca_whitening=False,  # apply ZCA whitening\n",
    "            rotation_range=50,  # randomly rotate images in the range (degrees, 0 to 180)\n",
    "            width_shift_range=0.1,  # randomly shift images horizontally (fraction of total width)\n",
    "            height_shift_range=0.1,  # randomly shift images vertically (fraction of total height)\n",
    "            horizontal_flip=True,  # randomly flip images\n",
    "            vertical_flip=False) \n",
    "        datagen.fit(X)\n",
    "        history = m.fit_generator(datagen.flow(X, Y,\n",
    "                                    batch_size=batch_size),\n",
    "                                    steps_per_epoch=X.shape[0] // batch_size,\n",
    "                                    epochs=epochs)         \n",
    "    else:\n",
    "        history = m.fit(X, Y, batch_size=batch_size, epochs=epochs)\n",
    "    return history"
   ]
  },
  {
   "cell_type": "code",
   "execution_count": 33,
   "metadata": {
    "ExecuteTime": {
     "end_time": "2017-11-17T17:35:49.338795Z",
     "start_time": "2017-11-17T17:35:34.335810Z"
    }
   },
   "outputs": [
    {
     "name": "stdout",
     "output_type": "stream",
     "text": [
      "Epoch 1/3\n",
      "495/495 [==============================] - 5s 11ms/step - loss: 0.0667 - acc: 0.0572\n",
      "Epoch 2/3\n",
      "495/495 [==============================] - 5s 10ms/step - loss: 0.0570 - acc: 0.0326\n",
      "Epoch 3/3\n",
      "495/495 [==============================] - 5s 10ms/step - loss: 0.0486 - acc: 0.0346\n"
     ]
    }
   ],
   "source": [
    "h = training(m, X, Y, batch_size=16, epochs= 3, data_augm=False)"
   ]
  },
  {
   "cell_type": "code",
   "execution_count": 24,
   "metadata": {
    "ExecuteTime": {
     "end_time": "2017-11-17T17:09:12.628715Z",
     "start_time": "2017-11-17T17:09:12.464873Z"
    }
   },
   "outputs": [
    {
     "data": {
      "text/plain": [
       "Text(0.5,1,'Learning curve')"
      ]
     },
     "execution_count": 24,
     "metadata": {},
     "output_type": "execute_result"
    },
    {
     "data": {
      "image/png": "[encoded data removed]",
      "text/plain": [
       "<matplotlib.figure.Figure at 0x120b5a9b0>"
      ]
     },
     "metadata": {},
     "output_type": "display_data"
    }
   ],
   "source": [
    "metric = 'loss'\n",
    "plt.plot(range(len(h.history[metric])), h.history[metric])\n",
    "plt.ylabel(metric)\n",
    "plt.xlabel('epochs')\n",
    "plt.title(\"Learning curve\")"
   ]
  },
  {
   "cell_type": "markdown",
   "metadata": {},
   "source": [
    "The original MR image size is $256\\times256$. Therefore, the output mask is up-sampled from $32\\times32$ to this original MR size. The center of the mask is then computed and used to crop a ROI of size $100\\times100$ from the original image for further processing in the next stage (stacked AE)."
   ]
  },
  {
   "cell_type": "markdown",
   "metadata": {},
   "source": [
    "###### Notes à modifier :\n",
    "C'est bien marqué sur le papier qu'on calcule le centre en fait et pas juste le plus gros carré donc on s'en fout que nos predictions soient pas un beau carré bien formé et continue. On prend le milieu de notre prediction et on trace un carré autour de 100 par 100 c'est ce qu'ils disent (Ce que je trouve bizarre c'est qu'il pourrait limite avoir juste comme output le centre, plutot que toute la ROI). Mais donc on a pas de probleme de pas avoir un carré d'une dimension non stable et bizarre ! "
   ]
  },
  {
   "cell_type": "markdown",
   "metadata": {},
   "source": [
    "### Predictions and computations for next stage"
   ]
  },
  {
   "cell_type": "code",
   "execution_count": 26,
   "metadata": {
    "ExecuteTime": {
     "end_time": "2017-11-17T17:23:00.166321Z",
     "start_time": "2017-11-17T17:22:59.183156Z"
    }
   },
   "outputs": [],
   "source": [
    "y_pred = m.predict(X, batch_size=16)\n",
    "%store y_pred"
   ]
  },
  {
   "cell_type": "code",
   "execution_count": 30,
   "metadata": {
    "ExecuteTime": {
     "end_time": "2017-11-17T17:30:23.584750Z",
     "start_time": "2017-11-17T17:30:23.567838Z"
    }
   },
   "outputs": [],
   "source": [
    "def compute_roi_pred(y_pred, idx, roi_shape=32):\n",
    "    \"\"\"\n",
    "    Computing and cropping a ROI from the original image for further processing in the next stage\n",
    "    :param y_pred: predictions\n",
    "    :param idx: desired image prediction index\n",
    "    :param roi_shape: shape of the binary mask\n",
    "    \"\"\"\n",
    "    # select one predicted ROI\n",
    "    pred = y_pred[idx].reshape((roi_shape,roi_shape))\n",
    "    # select the non null pixels\n",
    "    pos_pred = np.where(pred > 0.5)\n",
    "    # create ROI from non null pixels (pos pred: not a square)\n",
    "    mask_roi = get_roi(pred, np.array(pos_pred).reshape(len(pos_pred[0]), 2))\n",
    "    # resize ROI to the original MR size\n",
    "    mask_roi = cv2.resize(mask_roi, (256, 256), interpolation = cv2.INTERSECT_FULL)\n",
    "    # select the non null pixel to crop a ROI from original image\n",
    "    pos_im = np.where(X_fullsize[idx] * mask_roi > 0.5)\n",
    "    contour2 = np.array(pos_im).reshape(len(pos_im[0]), 2)\n",
    "    # select the correct square from the ROI\n",
    "    Xmin, Xmax = contour2[:, 0].min(), contour2[:, 0].max()\n",
    "    Ymin, Ymax = contour2[:, 1].min(), contour2[:, 1].max()\n",
    "    return (X_fullsize[idx] * mask_roi)[Xmin:Xmax, Ymin:Ymax]"
   ]
  },
  {
   "cell_type": "code",
   "execution_count": 31,
   "metadata": {
    "ExecuteTime": {
     "end_time": "2017-11-17T17:30:24.545746Z",
     "start_time": "2017-11-17T17:30:24.415805Z"
    }
   },
   "outputs": [
    {
     "data": {
      "text/plain": [
       "<matplotlib.image.AxesImage at 0x12139ae48>"
      ]
     },
     "execution_count": 31,
     "metadata": {},
     "output_type": "execute_result"
    },
    {
     "data": {
      "image/png": "[encoded data removed]",
      "text/plain": [
       "<matplotlib.figure.Figure at 0x128ada6d8>"
      ]
     },
     "metadata": {},
     "output_type": "display_data"
    }
   ],
   "source": [
    "plt.imshow(compute_roi_pred(y_pred, 12))"
   ]
  },
  {
   "cell_type": "code",
   "execution_count": null,
   "metadata": {
    "collapsed": true
   },
   "outputs": [],
   "source": []
  }
 ],
 "metadata": {
  "kernelspec": {
   "display_name": "Python 3",
   "language": "python",
   "name": "python3"
  },
  "language_info": {
   "codemirror_mode": {
    "name": "ipython",
    "version": 3
   },
   "file_extension": ".py",
   "mimetype": "text/x-python",
   "name": "python",
   "nbconvert_exporter": "python",
   "pygments_lexer": "ipython3",
   "version": "3.6.3"
  },
  "toc": {
   "nav_menu": {
    "height": "84px",
    "width": "252px"
   },
   "number_sections": true,
   "sideBar": true,
   "skip_h1_title": false,
   "toc_cell": false,
   "toc_position": {},
   "toc_section_display": "block",
   "toc_window_display": false
  }
 },
 "nbformat": 4,
 "nbformat_minor": 2
}
