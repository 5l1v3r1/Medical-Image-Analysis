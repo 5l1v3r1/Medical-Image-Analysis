{
 "cells": [
  {
   "cell_type": "code",
   "execution_count": 25,
   "metadata": {
    "ExecuteTime": {
     "end_time": "2017-11-25T15:03:33.201166Z",
     "start_time": "2017-11-25T15:03:33.191500Z"
    }
   },
   "outputs": [],
   "source": [
    "import train_cnn\n",
    "import stacked_ae\n",
    "from utils import *\n",
    "import matplotlib.pyplot as plt \n",
    "import numpy as np\n",
    "import imp\n",
    "imp.reload(train_cnn)\n",
    "%matplotlib inline"
   ]
  },
  {
   "cell_type": "code",
   "execution_count": 2,
   "metadata": {
    "ExecuteTime": {
     "end_time": "2017-11-25T14:58:43.849992Z",
     "start_time": "2017-11-25T14:56:48.373551Z"
    }
   },
   "outputs": [
    {
     "name": "stdout",
     "output_type": "stream",
     "text": [
      "Dataset shape : (495, 64, 64, 1) (495, 1, 32, 32)\n"
     ]
    }
   ],
   "source": [
    "# Training CNN --> it took 2min\n",
    "X, X_fullsize, Y, contour_mask, y_pred = train_cnn.run()"
   ]
  },
  {
   "cell_type": "code",
   "execution_count": 3,
   "metadata": {
    "ExecuteTime": {
     "end_time": "2017-11-25T14:59:06.973356Z",
     "start_time": "2017-11-25T14:58:43.853435Z"
    }
   },
   "outputs": [],
   "source": [
    "# Training stacked AE --> it took 23s\n",
    "X_train, Y_train, binarys = stacked_ae.run(X_fullsize, y_pred, contour_mask)"
   ]
  },
  {
   "cell_type": "code",
   "execution_count": 29,
   "metadata": {
    "ExecuteTime": {
     "end_time": "2017-11-25T15:04:03.685964Z",
     "start_time": "2017-11-25T15:04:03.444928Z"
    }
   },
   "outputs": [
    {
     "name": "stdout",
     "output_type": "stream",
     "text": [
      "For image 312 :\n",
      "Dice Metric : 0.90\n",
      "Conformity Coefficient : 0.78\n",
      "For all dataset :\n",
      "Dice Metric : 0.44\n",
      "Conformity Coefficient : -9.92\n"
     ]
    },
    {
     "data": {
      "text/plain": [
       "<matplotlib.image.AxesImage at 0x14ff45f98>"
      ]
     },
     "execution_count": 29,
     "metadata": {},
     "output_type": "execute_result"
    },
    {
     "data": {
      "image/png": "[encoded data removed]",
      "text/plain": [
       "<matplotlib.figure.Figure at 0x14fe47518>"
      ]
     },
     "metadata": {},
     "output_type": "display_data"
    }
   ],
   "source": [
    "idx = 312\n",
    "dm, cc  = stats_results(Y_train, binarys, idx=idx)\n",
    "\n",
    "f, ax = plt.subplots(ncols=2)\n",
    "ax[0].imshow(binarys[idx])\n",
    "ax[1].imshow(Y_train[idx].reshape((64,64)))"
   ]
  },
  {
   "cell_type": "markdown",
   "metadata": {},
   "source": [
    "**To do for Test**  \n",
    "1. Il faut créer des nouvelles fonctions pour le test genre par exemple une autre fonction de model dans le CNN qui integrerait une nouvelle couche de convolution, ou qui soit avec des Relus, ou des filtres de tailles différentes, etc. et idem pour le stacked AE : changer les inits, change la taille de 100x100 par autres choses et faire que ses fonctions soient justes des options des .run() au dessus\n",
    "2.  Tester sur le test set ! "
   ]
  },
  {
   "cell_type": "code",
   "execution_count": null,
   "metadata": {},
   "outputs": [],
   "source": []
  }
 ],
 "metadata": {
  "kernelspec": {
   "display_name": "Python 3",
   "language": "python",
   "name": "python3"
  },
  "language_info": {
   "codemirror_mode": {
    "name": "ipython",
    "version": 3
   },
   "file_extension": ".py",
   "mimetype": "text/x-python",
   "name": "python",
   "nbconvert_exporter": "python",
   "pygments_lexer": "ipython3",
   "version": "3.6.3"
  },
  "toc": {
   "nav_menu": {},
   "number_sections": true,
   "sideBar": true,
   "skip_h1_title": false,
   "toc_cell": false,
   "toc_position": {},
   "toc_section_display": "block",
   "toc_window_display": false
  }
 },
 "nbformat": 4,
 "nbformat_minor": 2
}
