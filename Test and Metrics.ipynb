{
 "cells": [
  {
   "cell_type": "code",
   "execution_count": 1,
   "metadata": {
    "ExecuteTime": {
     "end_time": "2017-11-24T17:13:50.531197Z",
     "start_time": "2017-11-24T17:13:48.842863Z"
    }
   },
   "outputs": [
    {
     "name": "stderr",
     "output_type": "stream",
     "text": [
      "Using TensorFlow backend.\n",
      "/Users/attia/Desktop/Work/workenv/lib/python3.6/importlib/_bootstrap.py:219: RuntimeWarning: compiletime version 3.5 of module 'tensorflow.python.framework.fast_tensor_util' does not match runtime version 3.6\n",
      "  return f(*args, **kwds)\n"
     ]
    }
   ],
   "source": [
    "import train_cnn\n",
    "import stacked_ae\n",
    "from utils import *\n",
    "import matplotlib.pyplot as plt \n",
    "import numpy as np\n",
    "import imp\n",
    "imp.reload(stacked_ae)\n",
    "%matplotlib inline"
   ]
  },
  {
   "cell_type": "code",
   "execution_count": 2,
   "metadata": {
    "ExecuteTime": {
     "end_time": "2017-11-24T17:15:56.938192Z",
     "start_time": "2017-11-24T17:13:50.532680Z"
    }
   },
   "outputs": [
    {
     "name": "stdout",
     "output_type": "stream",
     "text": [
      "Dataset shape : (495, 64, 64, 1) (495, 1, 32, 32)\n"
     ]
    }
   ],
   "source": [
    "# Training CNN --> it took 2min\n",
    "X, X_fullsize, Y, contour_mask, y_pred = train_cnn.run()"
   ]
  },
  {
   "cell_type": "code",
   "execution_count": 3,
   "metadata": {
    "ExecuteTime": {
     "end_time": "2017-11-24T17:16:24.208880Z",
     "start_time": "2017-11-24T17:15:56.939987Z"
    }
   },
   "outputs": [],
   "source": [
    "# Training stacked AE --> it took\n",
    "X_train, Y_train, binarys = stacked_ae.run(X_fullsize, y_pred, contour_mask)"
   ]
  },
  {
   "cell_type": "code",
   "execution_count": 9,
   "metadata": {
    "ExecuteTime": {
     "end_time": "2017-11-24T17:19:18.546892Z",
     "start_time": "2017-11-24T17:19:18.371619Z"
    }
   },
   "outputs": [
    {
     "data": {
      "text/plain": [
       "<matplotlib.image.AxesImage at 0x143f67390>"
      ]
     },
     "execution_count": 9,
     "metadata": {},
     "output_type": "execute_result"
    },
    {
     "data": {
      "image/png": "[encoded data removed]",
      "text/plain": [
       "<matplotlib.figure.Figure at 0x144067898>"
      ]
     },
     "metadata": {},
     "output_type": "display_data"
    }
   ],
   "source": [
    "f, ax = plt.subplots(ncols=2)\n",
    "ax[0].imshow(binarys[86])\n",
    "ax[1].imshow(Y_train[86].reshape((64,64)))"
   ]
  },
  {
   "cell_type": "code",
   "execution_count": 10,
   "metadata": {
    "ExecuteTime": {
     "end_time": "2017-11-24T17:20:07.536522Z",
     "start_time": "2017-11-24T17:20:07.532185Z"
    }
   },
   "outputs": [
    {
     "name": "stdout",
     "output_type": "stream",
     "text": [
      "Dice Metric :0.89\n",
      "Conformity Coefficient :0.75\n"
     ]
    }
   ],
   "source": [
    "idx = 86\n",
    "print('Dice Metric :%.2f\\nConformity Coefficient :%.2f' % (\n",
    "        dice_metric(Y_train[idx].reshape((64,64)), binarys[idx]),\n",
    "        conformity_coefficient(Y_train[idx].reshape((64,64)), binarys[idx])))"
   ]
  },
  {
   "cell_type": "code",
   "execution_count": null,
   "metadata": {},
   "outputs": [],
   "source": []
  }
 ],
 "metadata": {
  "kernelspec": {
   "display_name": "Python 3",
   "language": "python",
   "name": "python3"
  },
  "language_info": {
   "codemirror_mode": {
    "name": "ipython",
    "version": 3
   },
   "file_extension": ".py",
   "mimetype": "text/x-python",
   "name": "python",
   "nbconvert_exporter": "python",
   "pygments_lexer": "ipython3",
   "version": "3.6.3"
  },
  "toc": {
   "nav_menu": {},
   "number_sections": true,
   "sideBar": true,
   "skip_h1_title": false,
   "toc_cell": false,
   "toc_position": {},
   "toc_section_display": "block",
   "toc_window_display": false
  }
 },
 "nbformat": 4,
 "nbformat_minor": 2
}
